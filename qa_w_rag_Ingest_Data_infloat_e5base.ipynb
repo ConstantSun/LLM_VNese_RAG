{
 "cells": [
  {
   "cell_type": "markdown",
   "id": "04db3079-bc7a-4c2a-a85c-d7e409ee53f5",
   "metadata": {
    "tags": []
   },
   "source": [
    "### Install libs"
   ]
  },
  {
   "cell_type": "code",
   "execution_count": 75,
   "id": "7b998b23-f203-4cf2-9703-e59260dc64ed",
   "metadata": {},
   "outputs": [
    {
     "name": "stdout",
     "output_type": "stream",
     "text": [
      "Collecting boto3>=1.28.57\n",
      "  Obtaining dependency information for boto3>=1.28.57 from https://files.pythonhosted.org/packages/70/43/6f10af50c64e6184191a3fbda0889e9c9bc5c9224302cd41200968419e6d/boto3-1.29.2-py3-none-any.whl.metadata\n",
      "  Downloading boto3-1.29.2-py3-none-any.whl.metadata (6.7 kB)\n",
      "Collecting awscli>=1.29.57\n",
      "  Obtaining dependency information for awscli>=1.29.57 from https://files.pythonhosted.org/packages/e2/ab/dd66c8153fd3659777c07e4c4d7ec3ce41df0a6de0ca1ce40043a401eb6a/awscli-1.30.2-py3-none-any.whl.metadata\n",
      "  Downloading awscli-1.30.2-py3-none-any.whl.metadata (11 kB)\n",
      "Collecting botocore>=1.31.57\n",
      "  Obtaining dependency information for botocore>=1.31.57 from https://files.pythonhosted.org/packages/f4/a2/e03fbeaa13a25405ac6251d5deb10cd663416d7e45e46cf9e446a91b9e0c/botocore-1.32.2-py3-none-any.whl.metadata\n",
      "  Downloading botocore-1.32.2-py3-none-any.whl.metadata (6.1 kB)\n",
      "Collecting jmespath<2.0.0,>=0.7.1 (from boto3>=1.28.57)\n",
      "  Using cached jmespath-1.0.1-py3-none-any.whl (20 kB)\n",
      "Collecting s3transfer<0.8.0,>=0.7.0 (from boto3>=1.28.57)\n",
      "  Obtaining dependency information for s3transfer<0.8.0,>=0.7.0 from https://files.pythonhosted.org/packages/5a/4b/fec9ce18f8874a96c5061422625ba86c3ee1e6587ccd92ff9f5bf7bd91b2/s3transfer-0.7.0-py3-none-any.whl.metadata\n",
      "  Using cached s3transfer-0.7.0-py3-none-any.whl.metadata (1.8 kB)\n",
      "Collecting docutils<0.17,>=0.10 (from awscli>=1.29.57)\n",
      "  Using cached docutils-0.16-py2.py3-none-any.whl (548 kB)\n",
      "Collecting PyYAML<6.1,>=3.10 (from awscli>=1.29.57)\n",
      "  Obtaining dependency information for PyYAML<6.1,>=3.10 from https://files.pythonhosted.org/packages/29/61/bf33c6c85c55bc45a29eee3195848ff2d518d84735eb0e2d8cb42e0d285e/PyYAML-6.0.1-cp310-cp310-manylinux_2_17_x86_64.manylinux2014_x86_64.whl.metadata\n",
      "  Using cached PyYAML-6.0.1-cp310-cp310-manylinux_2_17_x86_64.manylinux2014_x86_64.whl.metadata (2.1 kB)\n",
      "Collecting colorama<0.4.5,>=0.2.5 (from awscli>=1.29.57)\n",
      "  Using cached colorama-0.4.4-py2.py3-none-any.whl (16 kB)\n",
      "Collecting rsa<4.8,>=3.1.2 (from awscli>=1.29.57)\n",
      "  Using cached rsa-4.7.2-py3-none-any.whl (34 kB)\n",
      "Collecting python-dateutil<3.0.0,>=2.1 (from botocore>=1.31.57)\n",
      "  Using cached python_dateutil-2.8.2-py2.py3-none-any.whl (247 kB)\n",
      "Collecting urllib3<2.1,>=1.25.4 (from botocore>=1.31.57)\n",
      "  Obtaining dependency information for urllib3<2.1,>=1.25.4 from https://files.pythonhosted.org/packages/d2/b2/b157855192a68541a91ba7b2bbcb91f1b4faa51f8bae38d8005c034be524/urllib3-2.0.7-py3-none-any.whl.metadata\n",
      "  Using cached urllib3-2.0.7-py3-none-any.whl.metadata (6.6 kB)\n",
      "Collecting six>=1.5 (from python-dateutil<3.0.0,>=2.1->botocore>=1.31.57)\n",
      "  Using cached six-1.16.0-py2.py3-none-any.whl (11 kB)\n",
      "Collecting pyasn1>=0.1.3 (from rsa<4.8,>=3.1.2->awscli>=1.29.57)\n",
      "  Using cached pyasn1-0.5.0-py2.py3-none-any.whl (83 kB)\n",
      "Downloading boto3-1.29.2-py3-none-any.whl (135 kB)\n",
      "\u001b[2K   \u001b[90m━━━━━━━━━━━━━━━━━━━━━━━━━━━━━━━━━━━━━━━━\u001b[0m \u001b[32m135.8/135.8 kB\u001b[0m \u001b[31m1.6 MB/s\u001b[0m eta \u001b[36m0:00:00\u001b[0m:00:01\u001b[0m\n",
      "\u001b[?25hDownloading awscli-1.30.2-py3-none-any.whl (4.3 MB)\n",
      "\u001b[2K   \u001b[90m━━━━━━━━━━━━━━━━━━━━━━━━━━━━━━━━━━━━━━━━\u001b[0m \u001b[32m4.3/4.3 MB\u001b[0m \u001b[31m27.8 MB/s\u001b[0m eta \u001b[36m0:00:00\u001b[0m:00:01\u001b[0m\n",
      "\u001b[?25hDownloading botocore-1.32.2-py3-none-any.whl (11.4 MB)\n",
      "\u001b[2K   \u001b[90m━━━━━━━━━━━━━━━━━━━━━━━━━━━━━━━━━━━━━━━━\u001b[0m \u001b[32m11.4/11.4 MB\u001b[0m \u001b[31m19.9 MB/s\u001b[0m eta \u001b[36m0:00:00\u001b[0m00:01\u001b[0m0:01\u001b[0m\n",
      "\u001b[?25hUsing cached PyYAML-6.0.1-cp310-cp310-manylinux_2_17_x86_64.manylinux2014_x86_64.whl (705 kB)\n",
      "Using cached s3transfer-0.7.0-py3-none-any.whl (79 kB)\n",
      "Using cached urllib3-2.0.7-py3-none-any.whl (124 kB)\n",
      "Installing collected packages: urllib3, six, PyYAML, pyasn1, jmespath, docutils, colorama, rsa, python-dateutil, botocore, s3transfer, boto3, awscli\n",
      "  Attempting uninstall: urllib3\n",
      "    Found existing installation: urllib3 1.26.18\n",
      "    Uninstalling urllib3-1.26.18:\n",
      "      Successfully uninstalled urllib3-1.26.18\n",
      "  Attempting uninstall: six\n",
      "    Found existing installation: six 1.16.0\n",
      "    Uninstalling six-1.16.0:\n",
      "      Successfully uninstalled six-1.16.0\n",
      "  Attempting uninstall: PyYAML\n",
      "    Found existing installation: PyYAML 6.0.1\n",
      "    Uninstalling PyYAML-6.0.1:\n",
      "      Successfully uninstalled PyYAML-6.0.1\n",
      "  Attempting uninstall: pyasn1\n",
      "    Found existing installation: pyasn1 0.5.0\n",
      "    Uninstalling pyasn1-0.5.0:\n",
      "      Successfully uninstalled pyasn1-0.5.0\n",
      "  Attempting uninstall: jmespath\n",
      "    Found existing installation: jmespath 1.0.1\n",
      "    Uninstalling jmespath-1.0.1:\n",
      "      Successfully uninstalled jmespath-1.0.1\n",
      "  Attempting uninstall: docutils\n",
      "    Found existing installation: docutils 0.16\n",
      "    Uninstalling docutils-0.16:\n",
      "      Successfully uninstalled docutils-0.16\n",
      "  Attempting uninstall: colorama\n",
      "    Found existing installation: colorama 0.4.4\n",
      "    Uninstalling colorama-0.4.4:\n",
      "      Successfully uninstalled colorama-0.4.4\n",
      "  Attempting uninstall: rsa\n",
      "    Found existing installation: rsa 4.7.2\n",
      "    Uninstalling rsa-4.7.2:\n",
      "      Successfully uninstalled rsa-4.7.2\n",
      "  Attempting uninstall: python-dateutil\n",
      "    Found existing installation: python-dateutil 2.8.2\n",
      "    Uninstalling python-dateutil-2.8.2:\n",
      "      Successfully uninstalled python-dateutil-2.8.2\n",
      "  Attempting uninstall: botocore\n",
      "    Found existing installation: botocore 1.31.73\n",
      "    Uninstalling botocore-1.31.73:\n",
      "      Successfully uninstalled botocore-1.31.73\n",
      "  Attempting uninstall: s3transfer\n",
      "    Found existing installation: s3transfer 0.7.0\n",
      "    Uninstalling s3transfer-0.7.0:\n",
      "      Successfully uninstalled s3transfer-0.7.0\n",
      "  Attempting uninstall: boto3\n",
      "    Found existing installation: boto3 1.28.73\n",
      "    Uninstalling boto3-1.28.73:\n",
      "      Successfully uninstalled boto3-1.28.73\n",
      "  Attempting uninstall: awscli\n",
      "    Found existing installation: awscli 1.29.73\n",
      "    Uninstalling awscli-1.29.73:\n",
      "      Successfully uninstalled awscli-1.29.73\n",
      "\u001b[31mERROR: pip's dependency resolver does not currently take into account all the packages that are installed. This behaviour is the source of the following dependency conflicts.\n",
      "spyder 5.3.3 requires pyqt5<5.16, which is not installed.\n",
      "spyder 5.3.3 requires pyqtwebengine<5.16, which is not installed.\n",
      "distributed 2022.7.0 requires tornado<6.2,>=6.0.3, but you have tornado 6.3.3 which is incompatible.\n",
      "jupyterlab 3.4.4 requires jupyter-server~=1.16, but you have jupyter-server 2.7.3 which is incompatible.\n",
      "jupyterlab-server 2.10.3 requires jupyter-server~=1.4, but you have jupyter-server 2.7.3 which is incompatible.\n",
      "notebook 6.5.6 requires jupyter-client<8,>=5.3.4, but you have jupyter-client 8.4.0 which is incompatible.\n",
      "notebook 6.5.6 requires pyzmq<25,>=17, but you have pyzmq 25.1.1 which is incompatible.\n",
      "opensearch-py 2.3.1 requires urllib3<2,>=1.21.1, but you have urllib3 2.0.7 which is incompatible.\n",
      "panel 0.13.1 requires bokeh<2.5.0,>=2.4.0, but you have bokeh 3.3.0 which is incompatible.\n",
      "pyasn1-modules 0.2.8 requires pyasn1<0.5.0,>=0.4.6, but you have pyasn1 0.5.0 which is incompatible.\n",
      "sagemaker-datawrangler 0.4.3 requires sagemaker-data-insights==0.4.0, but you have sagemaker-data-insights 0.3.3 which is incompatible.\n",
      "spyder 5.3.3 requires ipython<8.0.0,>=7.31.1, but you have ipython 8.16.1 which is incompatible.\n",
      "spyder 5.3.3 requires pylint<3.0,>=2.5.0, but you have pylint 3.0.1 which is incompatible.\n",
      "spyder-kernels 2.3.3 requires ipython<8,>=7.31.1; python_version >= \"3\", but you have ipython 8.16.1 which is incompatible.\n",
      "spyder-kernels 2.3.3 requires jupyter-client<8,>=7.3.4; python_version >= \"3\", but you have jupyter-client 8.4.0 which is incompatible.\u001b[0m\u001b[31m\n",
      "\u001b[0mSuccessfully installed PyYAML-6.0.1 awscli-1.30.2 boto3-1.29.2 botocore-1.32.2 colorama-0.4.4 docutils-0.16 jmespath-1.0.1 pyasn1-0.5.0 python-dateutil-2.8.2 rsa-4.7.2 s3transfer-0.7.0 six-1.16.0 urllib3-2.0.7\n",
      "\u001b[33mWARNING: Running pip as the 'root' user can result in broken permissions and conflicting behaviour with the system package manager. It is recommended to use a virtual environment instead: https://pip.pypa.io/warnings/venv\u001b[0m\u001b[33m\n",
      "\u001b[0m\n",
      "\u001b[1m[\u001b[0m\u001b[34;49mnotice\u001b[0m\u001b[1;39;49m]\u001b[0m\u001b[39;49m A new release of pip is available: \u001b[0m\u001b[31;49m23.2.1\u001b[0m\u001b[39;49m -> \u001b[0m\u001b[32;49m23.3.1\u001b[0m\n",
      "\u001b[1m[\u001b[0m\u001b[34;49mnotice\u001b[0m\u001b[1;39;49m]\u001b[0m\u001b[39;49m To update, run: \u001b[0m\u001b[32;49mpip install --upgrade pip\u001b[0m\n",
      "Note: you may need to restart the kernel to use updated packages.\n",
      "Requirement already satisfied: opensearch-py==2.3.1 in /opt/conda/lib/python3.10/site-packages (2.3.1)\n",
      "Requirement already satisfied: langchain==0.0.309 in /opt/conda/lib/python3.10/site-packages (0.0.309)\n",
      "Requirement already satisfied: pypdf<4,>=3.8 in /opt/conda/lib/python3.10/site-packages (3.17.0)\n",
      "Collecting pypdf<4,>=3.8\n",
      "  Obtaining dependency information for pypdf<4,>=3.8 from https://files.pythonhosted.org/packages/40/b7/166082d3b1c9d6d0b5a27184b59fc761bce81cbc0bb26b4247992cbd2117/pypdf-3.17.1-py3-none-any.whl.metadata\n",
      "  Downloading pypdf-3.17.1-py3-none-any.whl.metadata (7.5 kB)\n",
      "Requirement already satisfied: apache-beam in /opt/conda/lib/python3.10/site-packages (2.51.0)\n",
      "Requirement already satisfied: datasets in /opt/conda/lib/python3.10/site-packages (2.14.6)\n",
      "Collecting datasets\n",
      "  Obtaining dependency information for datasets from https://files.pythonhosted.org/packages/e2/cf/db41e572d7ed958e8679018f8190438ef700aeb501b62da9e1eed9e4d69a/datasets-2.15.0-py3-none-any.whl.metadata\n",
      "  Downloading datasets-2.15.0-py3-none-any.whl.metadata (20 kB)\n",
      "Requirement already satisfied: tiktoken in /opt/conda/lib/python3.10/site-packages (0.5.1)\n",
      "Collecting urllib3<2,>=1.21.1 (from opensearch-py==2.3.1)\n",
      "  Obtaining dependency information for urllib3<2,>=1.21.1 from https://files.pythonhosted.org/packages/b0/53/aa91e163dcfd1e5b82d8a890ecf13314e3e149c05270cc644581f77f17fd/urllib3-1.26.18-py2.py3-none-any.whl.metadata\n",
      "  Using cached urllib3-1.26.18-py2.py3-none-any.whl.metadata (48 kB)\n",
      "Requirement already satisfied: requests<3.0.0,>=2.4.0 in /opt/conda/lib/python3.10/site-packages (from opensearch-py==2.3.1) (2.31.0)\n",
      "Requirement already satisfied: six in /opt/conda/lib/python3.10/site-packages (from opensearch-py==2.3.1) (1.16.0)\n",
      "Requirement already satisfied: python-dateutil in /opt/conda/lib/python3.10/site-packages (from opensearch-py==2.3.1) (2.8.2)\n",
      "Requirement already satisfied: certifi>=2022.12.07 in /opt/conda/lib/python3.10/site-packages (from opensearch-py==2.3.1) (2023.7.22)\n",
      "Requirement already satisfied: PyYAML>=5.3 in /opt/conda/lib/python3.10/site-packages (from langchain==0.0.309) (6.0.1)\n",
      "Requirement already satisfied: SQLAlchemy<3,>=1.4 in /opt/conda/lib/python3.10/site-packages (from langchain==0.0.309) (1.4.39)\n",
      "Requirement already satisfied: aiohttp<4.0.0,>=3.8.3 in /opt/conda/lib/python3.10/site-packages (from langchain==0.0.309) (3.8.6)\n",
      "Requirement already satisfied: anyio<4.0 in /opt/conda/lib/python3.10/site-packages (from langchain==0.0.309) (3.5.0)\n",
      "Requirement already satisfied: async-timeout<5.0.0,>=4.0.0 in /opt/conda/lib/python3.10/site-packages (from langchain==0.0.309) (4.0.3)\n",
      "Requirement already satisfied: dataclasses-json<0.7,>=0.5.7 in /opt/conda/lib/python3.10/site-packages (from langchain==0.0.309) (0.6.1)\n",
      "Requirement already satisfied: jsonpatch<2.0,>=1.33 in /opt/conda/lib/python3.10/site-packages (from langchain==0.0.309) (1.33)\n",
      "Requirement already satisfied: langsmith<0.1.0,>=0.0.40 in /opt/conda/lib/python3.10/site-packages (from langchain==0.0.309) (0.0.44)\n",
      "Requirement already satisfied: numpy<2,>=1 in /opt/conda/lib/python3.10/site-packages (from langchain==0.0.309) (1.24.4)\n",
      "Requirement already satisfied: pydantic<3,>=1 in /opt/conda/lib/python3.10/site-packages (from langchain==0.0.309) (2.4.2)\n",
      "Requirement already satisfied: tenacity<9.0.0,>=8.1.0 in /opt/conda/lib/python3.10/site-packages (from langchain==0.0.309) (8.2.3)\n",
      "Requirement already satisfied: crcmod<2.0,>=1.7 in /opt/conda/lib/python3.10/site-packages (from apache-beam) (1.7)\n",
      "Requirement already satisfied: orjson<4,>=3.9.7 in /opt/conda/lib/python3.10/site-packages (from apache-beam) (3.9.9)\n",
      "Requirement already satisfied: dill<0.3.2,>=0.3.1.1 in /opt/conda/lib/python3.10/site-packages (from apache-beam) (0.3.1.1)\n",
      "Requirement already satisfied: cloudpickle~=2.2.1 in /opt/conda/lib/python3.10/site-packages (from apache-beam) (2.2.1)\n",
      "Requirement already satisfied: fastavro<2,>=0.23.6 in /opt/conda/lib/python3.10/site-packages (from apache-beam) (1.8.4)\n",
      "Requirement already satisfied: fasteners<1.0,>=0.3 in /opt/conda/lib/python3.10/site-packages (from apache-beam) (0.19)\n",
      "Requirement already satisfied: grpcio!=1.48.0,<2,>=1.33.1 in /opt/conda/lib/python3.10/site-packages (from apache-beam) (1.59.0)\n",
      "Requirement already satisfied: hdfs<3.0.0,>=2.1.0 in /opt/conda/lib/python3.10/site-packages (from apache-beam) (2.7.3)\n",
      "Requirement already satisfied: httplib2<0.23.0,>=0.8 in /opt/conda/lib/python3.10/site-packages (from apache-beam) (0.22.0)\n",
      "Requirement already satisfied: js2py<1,>=0.74 in /opt/conda/lib/python3.10/site-packages (from apache-beam) (0.74)\n",
      "Requirement already satisfied: objsize<0.7.0,>=0.6.1 in /opt/conda/lib/python3.10/site-packages (from apache-beam) (0.6.1)\n",
      "Requirement already satisfied: packaging>=22.0 in /opt/conda/lib/python3.10/site-packages (from apache-beam) (23.2)\n",
      "Requirement already satisfied: pymongo<5.0.0,>=3.8.0 in /opt/conda/lib/python3.10/site-packages (from apache-beam) (4.5.0)\n",
      "Requirement already satisfied: proto-plus<2,>=1.7.1 in /opt/conda/lib/python3.10/site-packages (from apache-beam) (1.22.3)\n",
      "Requirement already satisfied: protobuf!=4.0.*,!=4.21.*,!=4.22.0,!=4.23.*,!=4.24.0,!=4.24.1,!=4.24.2,<4.25.0,>=3.20.3 in /opt/conda/lib/python3.10/site-packages (from apache-beam) (4.24.4)\n",
      "Requirement already satisfied: pydot<2,>=1.2.0 in /opt/conda/lib/python3.10/site-packages (from apache-beam) (1.4.2)\n",
      "Requirement already satisfied: pytz>=2018.3 in /opt/conda/lib/python3.10/site-packages (from apache-beam) (2022.1)\n",
      "Requirement already satisfied: regex>=2020.6.8 in /opt/conda/lib/python3.10/site-packages (from apache-beam) (2022.7.9)\n",
      "Requirement already satisfied: typing-extensions>=3.7.0 in /opt/conda/lib/python3.10/site-packages (from apache-beam) (4.8.0)\n",
      "Requirement already satisfied: zstandard<1,>=0.18.0 in /opt/conda/lib/python3.10/site-packages (from apache-beam) (0.21.0)\n",
      "Requirement already satisfied: pyarrow<12.0.0,>=3.0.0 in /opt/conda/lib/python3.10/site-packages (from apache-beam) (11.0.0)\n",
      "Collecting pyarrow-hotfix (from datasets)\n",
      "  Obtaining dependency information for pyarrow-hotfix from https://files.pythonhosted.org/packages/36/9d/fed46a4d94d05bc400bdaeb02d277ca5e61965cebe25b6029990d2191c0b/pyarrow_hotfix-0.5-py3-none-any.whl.metadata\n",
      "  Downloading pyarrow_hotfix-0.5-py3-none-any.whl.metadata (3.6 kB)\n",
      "Requirement already satisfied: pandas in /opt/conda/lib/python3.10/site-packages (from datasets) (1.4.4)\n",
      "Requirement already satisfied: tqdm>=4.62.1 in /opt/conda/lib/python3.10/site-packages (from datasets) (4.64.1)\n",
      "Requirement already satisfied: xxhash in /opt/conda/lib/python3.10/site-packages (from datasets) (3.4.1)\n",
      "Requirement already satisfied: multiprocess in /opt/conda/lib/python3.10/site-packages (from datasets) (0.70.9)\n",
      "Requirement already satisfied: fsspec[http]<=2023.10.0,>=2023.1.0 in /opt/conda/lib/python3.10/site-packages (from datasets) (2023.6.0)\n",
      "Requirement already satisfied: huggingface-hub>=0.18.0 in /opt/conda/lib/python3.10/site-packages (from datasets) (0.18.0)\n",
      "Requirement already satisfied: attrs>=17.3.0 in /opt/conda/lib/python3.10/site-packages (from aiohttp<4.0.0,>=3.8.3->langchain==0.0.309) (23.1.0)\n",
      "Requirement already satisfied: charset-normalizer<4.0,>=2.0 in /opt/conda/lib/python3.10/site-packages (from aiohttp<4.0.0,>=3.8.3->langchain==0.0.309) (2.0.4)\n",
      "Requirement already satisfied: multidict<7.0,>=4.5 in /opt/conda/lib/python3.10/site-packages (from aiohttp<4.0.0,>=3.8.3->langchain==0.0.309) (6.0.4)\n",
      "Requirement already satisfied: yarl<2.0,>=1.0 in /opt/conda/lib/python3.10/site-packages (from aiohttp<4.0.0,>=3.8.3->langchain==0.0.309) (1.9.2)\n",
      "Requirement already satisfied: frozenlist>=1.1.1 in /opt/conda/lib/python3.10/site-packages (from aiohttp<4.0.0,>=3.8.3->langchain==0.0.309) (1.4.0)\n",
      "Requirement already satisfied: aiosignal>=1.1.2 in /opt/conda/lib/python3.10/site-packages (from aiohttp<4.0.0,>=3.8.3->langchain==0.0.309) (1.3.1)\n",
      "Requirement already satisfied: idna>=2.8 in /opt/conda/lib/python3.10/site-packages (from anyio<4.0->langchain==0.0.309) (3.3)\n",
      "Requirement already satisfied: sniffio>=1.1 in /opt/conda/lib/python3.10/site-packages (from anyio<4.0->langchain==0.0.309) (1.2.0)\n",
      "Requirement already satisfied: marshmallow<4.0.0,>=3.18.0 in /opt/conda/lib/python3.10/site-packages (from dataclasses-json<0.7,>=0.5.7->langchain==0.0.309) (3.20.1)\n",
      "Requirement already satisfied: typing-inspect<1,>=0.4.0 in /opt/conda/lib/python3.10/site-packages (from dataclasses-json<0.7,>=0.5.7->langchain==0.0.309) (0.9.0)\n",
      "Requirement already satisfied: docopt in /opt/conda/lib/python3.10/site-packages (from hdfs<3.0.0,>=2.1.0->apache-beam) (0.6.2)\n",
      "Requirement already satisfied: pyparsing!=3.0.0,!=3.0.1,!=3.0.2,!=3.0.3,<4,>=2.4.2 in /opt/conda/lib/python3.10/site-packages (from httplib2<0.23.0,>=0.8->apache-beam) (3.0.9)\n",
      "Requirement already satisfied: filelock in /opt/conda/lib/python3.10/site-packages (from huggingface-hub>=0.18.0->datasets) (3.6.0)\n",
      "Requirement already satisfied: tzlocal>=1.2 in /opt/conda/lib/python3.10/site-packages (from js2py<1,>=0.74->apache-beam) (5.1)\n",
      "Requirement already satisfied: pyjsparser>=2.5.1 in /opt/conda/lib/python3.10/site-packages (from js2py<1,>=0.74->apache-beam) (2.7.1)\n",
      "Requirement already satisfied: jsonpointer>=1.9 in /opt/conda/lib/python3.10/site-packages (from jsonpatch<2.0,>=1.33->langchain==0.0.309) (2.1)\n",
      "Requirement already satisfied: annotated-types>=0.4.0 in /opt/conda/lib/python3.10/site-packages (from pydantic<3,>=1->langchain==0.0.309) (0.6.0)\n",
      "Requirement already satisfied: pydantic-core==2.10.1 in /opt/conda/lib/python3.10/site-packages (from pydantic<3,>=1->langchain==0.0.309) (2.10.1)\n",
      "Requirement already satisfied: dnspython<3.0.0,>=1.16.0 in /opt/conda/lib/python3.10/site-packages (from pymongo<5.0.0,>=3.8.0->apache-beam) (2.4.2)\n",
      "Requirement already satisfied: greenlet!=0.4.17 in /opt/conda/lib/python3.10/site-packages (from SQLAlchemy<3,>=1.4->langchain==0.0.309) (1.1.1)\n",
      "Requirement already satisfied: mypy-extensions>=0.3.0 in /opt/conda/lib/python3.10/site-packages (from typing-inspect<1,>=0.4.0->dataclasses-json<0.7,>=0.5.7->langchain==0.0.309) (0.4.3)\n",
      "Downloading pypdf-3.17.1-py3-none-any.whl (277 kB)\n",
      "\u001b[2K   \u001b[90m━━━━━━━━━━━━━━━━━━━━━━━━━━━━━━━━━━━━━━━━\u001b[0m \u001b[32m277.6/277.6 kB\u001b[0m \u001b[31m3.9 MB/s\u001b[0m eta \u001b[36m0:00:00\u001b[0m:00:01\u001b[0m\n",
      "\u001b[?25hDownloading datasets-2.15.0-py3-none-any.whl (521 kB)\n",
      "\u001b[2K   \u001b[90m━━━━━━━━━━━━━━━━━━━━━━━━━━━━━━━━━━━━━━━━\u001b[0m \u001b[32m521.2/521.2 kB\u001b[0m \u001b[31m9.0 MB/s\u001b[0m eta \u001b[36m0:00:00\u001b[0m:00:01\u001b[0m\n",
      "\u001b[?25hUsing cached urllib3-1.26.18-py2.py3-none-any.whl (143 kB)\n",
      "Downloading pyarrow_hotfix-0.5-py3-none-any.whl (7.8 kB)\n",
      "Installing collected packages: urllib3, pypdf, pyarrow-hotfix, datasets\n",
      "  Attempting uninstall: urllib3\n",
      "    Found existing installation: urllib3 2.0.7\n",
      "    Uninstalling urllib3-2.0.7:\n",
      "      Successfully uninstalled urllib3-2.0.7\n",
      "  Attempting uninstall: pypdf\n",
      "    Found existing installation: pypdf 3.17.0\n",
      "    Uninstalling pypdf-3.17.0:\n",
      "      Successfully uninstalled pypdf-3.17.0\n",
      "  Attempting uninstall: datasets\n",
      "    Found existing installation: datasets 2.14.6\n",
      "    Uninstalling datasets-2.14.6:\n",
      "      Successfully uninstalled datasets-2.14.6\n",
      "\u001b[31mERROR: pip's dependency resolver does not currently take into account all the packages that are installed. This behaviour is the source of the following dependency conflicts.\n",
      "distributed 2022.7.0 requires tornado<6.2,>=6.0.3, but you have tornado 6.3.3 which is incompatible.\u001b[0m\u001b[31m\n",
      "\u001b[0mSuccessfully installed datasets-2.15.0 pyarrow-hotfix-0.5 pypdf-3.17.1 urllib3-1.26.18\n",
      "\u001b[33mWARNING: Running pip as the 'root' user can result in broken permissions and conflicting behaviour with the system package manager. It is recommended to use a virtual environment instead: https://pip.pypa.io/warnings/venv\u001b[0m\u001b[33m\n",
      "\u001b[0m\n",
      "\u001b[1m[\u001b[0m\u001b[34;49mnotice\u001b[0m\u001b[1;39;49m]\u001b[0m\u001b[39;49m A new release of pip is available: \u001b[0m\u001b[31;49m23.2.1\u001b[0m\u001b[39;49m -> \u001b[0m\u001b[32;49m23.3.1\u001b[0m\n",
      "\u001b[1m[\u001b[0m\u001b[34;49mnotice\u001b[0m\u001b[1;39;49m]\u001b[0m\u001b[39;49m To update, run: \u001b[0m\u001b[32;49mpip install --upgrade pip\u001b[0m\n",
      "Note: you may need to restart the kernel to use updated packages.\n"
     ]
    }
   ],
   "source": [
    "%pip install --no-build-isolation --force-reinstall \\\n",
    "    \"boto3>=1.28.57\" \\\n",
    "    \"awscli>=1.29.57\" \\\n",
    "    \"botocore>=1.31.57\"\n",
    "\n",
    "%pip install -U opensearch-py==2.3.1 langchain==0.0.309 \"pypdf>=3.8,<4\" \\\n",
    "    apache-beam \\\n",
    "    datasets \\\n",
    "    tiktoken\n"
   ]
  },
  {
   "cell_type": "code",
   "execution_count": null,
   "id": "26585027-ff08-4754-9014-38b813a43d50",
   "metadata": {},
   "outputs": [],
   "source": []
  },
  {
   "cell_type": "code",
   "execution_count": 2,
   "id": "a3160b4b-2fc1-40a0-aef8-af19d943b093",
   "metadata": {
    "tags": []
   },
   "outputs": [
    {
     "data": {
      "text/plain": [
       "0"
      ]
     },
     "execution_count": 2,
     "metadata": {},
     "output_type": "execute_result"
    }
   ],
   "source": [
    "0"
   ]
  },
  {
   "cell_type": "code",
   "execution_count": 81,
   "id": "6a8a6c48-d944-45b9-ba69-0d7946c4b14a",
   "metadata": {
    "tags": []
   },
   "outputs": [
    {
     "name": "stdout",
     "output_type": "stream",
     "text": [
      "Create new client\n",
      "  Using region: us-east-1\n",
      "boto3 Bedrock client successfully created!\n",
      "bedrock-runtime(https://bedrock-runtime.us-east-1.amazonaws.com)\n"
     ]
    }
   ],
   "source": [
    "import warnings\n",
    "warnings.filterwarnings('ignore')\n",
    "import json\n",
    "import os\n",
    "import sys\n",
    "\n",
    "import boto3\n",
    "\n",
    "module_path = \"..\"\n",
    "sys.path.append(os.path.abspath(module_path))\n",
    "from utils import bedrock, print_ww\n",
    "\n",
    "\n",
    "# ---- ⚠️ Un-comment and edit the below lines as needed for your AWS setup ⚠️ ----\n",
    "\n",
    "# os.environ[\"AWS_DEFAULT_REGION\"] = \"<REGION_NAME>\"  # E.g. \"us-east-1\"\n",
    "# os.environ[\"AWS_PROFILE\"] = \"<YOUR_PROFILE>\"\n",
    "# os.environ[\"BEDROCK_ASSUME_ROLE\"] = \"<YOUR_ROLE_ARN>\"  # E.g. \"arn:aws:...\"\n",
    "\n",
    "os.environ[\"AWS_DEFAULT_REGION\"] = \"us-east-1\" \n",
    "\n",
    "boto3_bedrock = bedrock.get_bedrock_client(\n",
    "    #assumed_role=os.environ.get(\"BEDROCK_ASSUME_ROLE\", None),\n",
    "    region=os.environ.get(\"AWS_DEFAULT_REGION\", None)\n",
    ")\n",
    "\n",
    "\n",
    "from langchain.embeddings import BedrockEmbeddings\n",
    "from langchain.llms.bedrock import Bedrock\n",
    "from langchain.load.dump import dumps\n",
    "\n",
    "# - create the Anthropic Model\n",
    "llm = Bedrock(\n",
    "    model_id=\"anthropic.claude-v2\", client=boto3_bedrock, model_kwargs={\"max_tokens_to_sample\": 200}\n",
    ")\n",
    "\n"
   ]
  },
  {
   "cell_type": "markdown",
   "id": "adccde0f-f639-4774-b2d8-e12259f5857a",
   "metadata": {
    "tags": []
   },
   "source": [
    "### Data preparation"
   ]
  },
  {
   "cell_type": "code",
   "execution_count": 102,
   "id": "8a4afcf8-213d-454d-8496-eb373f1bf8f1",
   "metadata": {
    "tags": []
   },
   "outputs": [],
   "source": [
    "from langchain.document_loaders import TextLoader\n",
    "loader = TextLoader(\"./textdata/text_1.txt\", encoding = 'UTF-8')\n",
    "\n",
    "documents = loader.load()"
   ]
  },
  {
   "cell_type": "code",
   "execution_count": 84,
   "id": "742bfe85-2802-4014-a3e4-fa356a4f7c73",
   "metadata": {},
   "outputs": [
    {
     "data": {
      "text/plain": [
       "[Document(page_content='Công ty Chứng khoán của chúng tôi là công ty chứng khoán An Bình (Viết tắt: ABS) Địa chỉ: 36 Hoàng Cầu, Thành phố Hà Nội\\nEmail: support@abs.vn\\nSố Điện Thoại: (84) 123-456-789\\nGiới thiệu:\\nChúng tôi là một trong những công ty chứng khoán hàng đầu tại Việt Nam. Với hơn 20 năm kinh nghiệm trong lĩnh vực này, chúng tôi luôn cam kết mang đến cho khách hàng dịch vụ tốt nhất và giải pháp đầu tư tối ưu.\\nDịch vụ chính:\\n- Môi giới chứng khoán\\n- Tư vấn đầu tư tài chính\\n- Quản lý danh mục đầu tư\\n- Dịch vụ cơ cấu tài sản\\nSự kiện sắp diễn ra:\\nCuộc họp cổ đông thường niên sẽ được tổ chức vào ngày 10/12/2023 tại khách sạn Bình Minh.\\nCác nhân viên nổi bật:\\n- Ông Nguyễn Văn A: Giám đốc điều hành\\n- Bà Trần Thị B: Phó giám đốc\\n- Anh Phạm C: Trưởng phòng Môi giới\\nĐối tác chiến lược: Công ty Tài chính B, Ngân hàng C và Tổ chức Đầu tư D.\\nMọi thông tin chi tiết về chúng tôi, vui lòng truy cập website chính thức: abs.vn Xu hướng giá cổ phiếu của Công ty Chứng khoán Beta trong tháng 10/2023:\\n- Mã ABC: Cổ phiếu này đã có một xu hướng tăng mạnh mẽ trong hai tuần đầu của tháng, sau đó biến động nhẹ và kết thúc tháng ở mức giá cao.\\n- Mã DEF: Trái ngược với ABC, DEF chứng kiến một sự sụt giảm liên tục qua suốt cả tháng.\\n- Mã GHI: Giữ một mức độ ổn định, không có biến động lớn, mức giá gần như không thay đổi.\\n- Mã JKL: Bắt đầu mạnh mẽ nhưng sau đó gặp một số vấn đề kỹ thuật khiến giá cổ phiếu giảm mạnh trong tuần cuối của tháng.\\nMọi thông tin về cổ phiếu vui lòng truy cập đường link: https://itrade.abs.vn/', metadata={'source': './textdata/text_1.txt'})]"
      ]
     },
     "execution_count": 84,
     "metadata": {},
     "output_type": "execute_result"
    }
   ],
   "source": [
    "documents"
   ]
  },
  {
   "cell_type": "code",
   "execution_count": 103,
   "id": "14c37baf-ae55-403a-84d3-d720abee4c02",
   "metadata": {
    "tags": []
   },
   "outputs": [],
   "source": [
    "text_splitter = RecursiveCharacterTextSplitter(\n",
    "    # Set a really small chunk size, just to show.\n",
    "    chunk_size= 1790 , #  because sbert 'max_seq_length': 256 ~ 70%*256 = 179 VN words -> *5 ->  895 chunk_size (characters)\n",
    "    chunk_overlap= 150, # 70 ~ 14 words, one line.\n",
    ")\n",
    "docs = text_splitter.split_documents(documents)\n",
    "\n"
   ]
  },
  {
   "cell_type": "code",
   "execution_count": 106,
   "id": "abd42057-6e1f-4dbc-aeb1-51b1853b510d",
   "metadata": {
    "tags": []
   },
   "outputs": [
    {
     "data": {
      "text/plain": [
       "[Document(page_content='Công ty Chứng khoán của chúng tôi là công ty chứng khoán An Bình (Viết tắt: ABS) Địa chỉ: 36 Hoàng Cầu, Thành phố Hà Nội\\nEmail: support@abs.vn\\nSố Điện Thoại: (84) 123-456-789\\nGiới thiệu:\\nChúng tôi là một trong những công ty chứng khoán hàng đầu tại Việt Nam. Với hơn 20 năm kinh nghiệm trong lĩnh vực này, chúng tôi luôn cam kết mang đến cho khách hàng dịch vụ tốt nhất và giải pháp đầu tư tối ưu.\\nDịch vụ chính:\\n- Môi giới chứng khoán\\n- Tư vấn đầu tư tài chính\\n- Quản lý danh mục đầu tư\\n- Dịch vụ cơ cấu tài sản\\nSự kiện sắp diễn ra:\\nCuộc họp cổ đông thường niên sẽ được tổ chức vào ngày 10/12/2023 tại khách sạn Bình Minh.\\nCác nhân viên nổi bật:\\n- Ông Nguyễn Văn A: Giám đốc điều hành\\n- Bà Trần Thị B: Phó giám đốc\\n- Anh Phạm C: Trưởng phòng Môi giới\\nĐối tác chiến lược: Công ty Tài chính B, Ngân hàng C và Tổ chức Đầu tư D.\\nMọi thông tin chi tiết về chúng tôi, vui lòng truy cập website chính thức: abs.vn Xu hướng giá cổ phiếu của Công ty Chứng khoán Beta trong tháng 10/2023:\\n- Mã ABC: Cổ phiếu này đã có một xu hướng tăng mạnh mẽ trong hai tuần đầu của tháng, sau đó biến động nhẹ và kết thúc tháng ở mức giá cao.\\n- Mã DEF: Trái ngược với ABC, DEF chứng kiến một sự sụt giảm liên tục qua suốt cả tháng.\\n- Mã GHI: Giữ một mức độ ổn định, không có biến động lớn, mức giá gần như không thay đổi.\\n- Mã JKL: Bắt đầu mạnh mẽ nhưng sau đó gặp một số vấn đề kỹ thuật khiến giá cổ phiếu giảm mạnh trong tuần cuối của tháng.\\nMọi thông tin về cổ phiếu vui lòng truy cập đường link: https://itrade.abs.vn/', metadata={'source': './textdata/text_1.txt'})]"
      ]
     },
     "execution_count": 106,
     "metadata": {},
     "output_type": "execute_result"
    }
   ],
   "source": [
    "docs1 = docs\n",
    "docs1"
   ]
  },
  {
   "cell_type": "code",
   "execution_count": 87,
   "id": "ad9d6d74-4946-47eb-ad23-eac6e5a34e58",
   "metadata": {
    "tags": []
   },
   "outputs": [
    {
     "name": "stdout",
     "output_type": "stream",
     "text": [
      "page_content='Công ty Chứng khoán của chúng tôi là công ty chứng khoán An Bình (Viết tắt: ABS) Địa chỉ: 36 Hoàng Cầu, Thành phố Hà Nội\\nEmail: support@abs.vn\\nSố Điện Thoại: (84) 123-456-789\\nGiới thiệu:\\nChúng tôi là một trong những công ty chứng khoán hàng đầu tại Việt Nam. Với hơn 20 năm kinh nghiệm trong lĩnh vực này, chúng tôi luôn cam kết mang đến cho khách hàng dịch vụ tốt nhất và giải pháp đầu tư tối ưu.\\nDịch vụ chính:\\n- Môi giới chứng khoán\\n- Tư vấn đầu tư tài chính\\n- Quản lý danh mục đầu tư\\n- Dịch vụ cơ cấu tài sản\\nSự kiện sắp diễn ra:\\nCuộc họp cổ đông thường niên sẽ được tổ chức vào ngày 10/12/2023 tại khách sạn Bình Minh.\\nCác nhân viên nổi bật:\\n- Ông Nguyễn Văn A: Giám đốc điều hành\\n- Bà Trần Thị B: Phó giám đốc\\n- Anh Phạm C: Trưởng phòng Môi giới\\nĐối tác chiến lược: Công ty Tài chính B, Ngân hàng C và Tổ chức Đầu tư D.\\nMọi thông tin chi tiết về chúng tôi, vui lòng truy cập website chính thức: abs.vn Xu hướng giá cổ phiếu của Công ty Chứng khoán Beta trong tháng 10/2023:\\n- Mã ABC: Cổ phiếu này đã có một xu hướng tăng mạnh mẽ trong hai tuần đầu của tháng, sau đó biến động nhẹ và kết thúc tháng ở mức giá cao.\\n- Mã DEF: Trái ngược với ABC, DEF chứng kiến một sự sụt giảm liên tục qua suốt cả tháng.\\n- Mã GHI: Giữ một mức độ ổn định, không có biến động lớn, mức giá gần như không thay đổi.\\n- Mã JKL: Bắt đầu mạnh mẽ nhưng sau đó gặp một số vấn đề kỹ thuật khiến giá cổ phiếu giảm mạnh trong tuần cuối của tháng.\\nMọi thông tin về cổ phiếu vui lòng truy cập đường link: https://itrade.abs.vn/' metadata={'source': './textdata/text_1.txt'}\n",
      "------------------------------\n"
     ]
    }
   ],
   "source": [
    "for doc in docs:\n",
    "    print(doc)\n",
    "    print(\"---\"*10)"
   ]
  },
  {
   "cell_type": "code",
   "execution_count": 88,
   "id": "faf6e60a-972a-460e-b5ed-36c8c9c692ef",
   "metadata": {
    "tags": []
   },
   "outputs": [],
   "source": [
    "from langchain.document_loaders import TextLoader\n",
    "loader2 = TextLoader(\"./textdata/text_2.txt\", encoding = 'UTF-8')\n",
    "\n",
    "documents2 = loader2.load()"
   ]
  },
  {
   "cell_type": "code",
   "execution_count": 91,
   "id": "bc137e27-1b94-438f-9cef-8c646d4c2460",
   "metadata": {
    "tags": []
   },
   "outputs": [],
   "source": [
    "text_splitter2 = RecursiveCharacterTextSplitter(\n",
    "    # Set a really small chunk size, just to show.\n",
    "    chunk_size= 1790 , #  because sbert 'max_seq_length': 256 ~ 70%*256 = 179 VN words -> *5 ->  895 chunk_size (characters)\n",
    "    chunk_overlap= 150, #  70 ~ 14 words, one line.\n",
    ")\n",
    "docs2 = text_splitter2.split_documents(documents2)\n",
    "\n"
   ]
  },
  {
   "cell_type": "code",
   "execution_count": 92,
   "id": "08418a56-9ae2-4f41-91e5-1f84828c5c99",
   "metadata": {
    "tags": []
   },
   "outputs": [
    {
     "name": "stdout",
     "output_type": "stream",
     "text": [
      "page_content='Giới thiệu chung:\\nĐược thành lập từ năm 1993, cho đến nay Ngân hàng TMCP An Bình (ABBANK) đã và đang đóng góp cho thị trường tài chính Việt Nam một thương hiệu Ngân hàng bán lẻ thân thiện, uy tín và hiệu quả.\\n\\nCùng với sự phát triển uy tín thương hiệu, chất lượng môi trường làm việc tại ABBANK cũng liên tục được các tổ chức uy tín trong và ngoài nước đánh giá cao những năm gần đây: Năm 2021, ABBANK lọt vào danh sách 25 Thương hiệu Tài chính dẫn đầu tại Việt Nam theo công bố của Tạp chí Tài chính Forbes Việt Nam với giá trị thương hiệu ước đạt 39,4 triệu USD; ABBANK là 1 trong 10 ngân hàng ngoài quốc doanh có Chỉ số thương hiệu tốt nhất và Top 13 Ngân hàng có chỉ số thương hiệu tốt nhất (Theo báo cáo xếp hạng của Mibrand năm 2021); ABBANK cũng được tạp chí HR Asia chứng nhận là một trong những Nơi làm việc tốt nhất Châu Á kể từ năm 2020.\\n\\nVới nguồn lực tài chính vững mạnh, các đối tác chiến lược là các định chế tài chính lớn, các tập đoàn uy tín trên Thế giới và Việt Nam như Tổ chức Tài chính Quốc tế (IFC), Ngân hàng Malaysia – Maybank, Tập đoàn Geleximco – Công ty Cổ phần; ABBANK cũng không ngừng hoàn thiện hệ thống, nâng cao chất lượng quản trị và vận hành theo thông lệ quốc tế..\\n\\nTheo đuổi mục tiêu gia nhập nhóm ngân hàng cung cấp các sản phẩm dịch vụ ngân hàng số hàng đầu tại thị trường Việt Nam, ABBANK hiện đang mở rộng đầu tư vào lĩnh vực chuyển đổi số nhằm mang đến những trải nghiệm tối ưu nhất cho khách hàng.\\n\\nỞ cột mốc 30 năm thành lập, ABBANK sở hữu một nền tảng công nghệ thông tin hiện đại; đội ngũ nhân sự tâm huyết và am hiểu nghiệp vụ, cùng với đó là hệ thống sản phẩm dịch vụ giải pháp tài chính tiện ích, hiệu quả và linh hoạt với mạng lưới điểm giao dịch rộng khắp trên toàn quốc nhằm phục vụ phương châm “Khách hàng là trọng tâm”.' metadata={'source': './textdata/text_2.txt'}\n",
      "--------------------------------------------------\n",
      "page_content='VỐN ĐIỀU LỆ: 10.350 tỷ đồng \\nCỔ ĐÔNG CHIẾN LƯỢC:\\n· Tập đoàn Geleximco - Công ty cổ phần\\n· Ngân hàng Malaysia Berhad (MayBank) - Ngân hàng lớn nhất Malaysia\\n· Tổ chức Tài chính Quốc tế (IFC) trực thuộc Ngân hàng Thế giới (World Bank)\\nMẠNG LƯỚI GIAO DỊCH: 165 điểm tại 34 tỉnh/thành phố \\n\\n\\nLịch sử phát triển\\n2023:\\nABBANK kỷ niệm 30 năm thành lập (13/5/1993 - 13/5/2023). Tăng vốn điều lệ lên 10.350 tỷ đồng.\\n\\n2022:\\nABBANK tăng vốn điều lệ lên 9.409 tỷ đồng. Công bố 5 Giá trị cốt lõi mới và các chuẩn mực hành vi tương ứng trong thời kỳ phát triển mới của ABBANK, với chiến lược lấy Khách hàng là trọng tâm cho mọi hoạt động kinh doanh. Tết An Bình năm thứ 13 với chủ đề “Gieo mầm xanh hy vọng” được tổ chức thành công. Tháng 11/2022, ABBANK là một trong bốn ngân hàng Việt Nam đầu tiên chính thức đưa vào vận hành ứng dụng xác thực trước thanh toán (SWIFT Payment Pre-validation), giúp loại bỏ những sự cố, xung đột trong thanh toán quốc tế thông qua việc xác minh các thông tin về người thụ hưởng.\\n\\n2021:\\nABBANK tăng vốn điều lệ lên 6.970 tỷ đồng. Được công nhận “tuân thủ hoàn toàn” cả 3 trụ cột chính của Basel II gồm: Quy định tỷ lệ an toàn vốn. (CAR); Đánh giá nội bộ về mức đủ vốn (ICAAP); Nguyên tắc thị trường (Minh bạch và kỷ luật).\\n\\n2020:\\nABBANK công bố mục tiêu chiến lược giai đoạn 2021-2025. Triển khai thành công các dự án lớn về Công nghệ thông tin và Quản trị rủi ro theo tiêu chuẩn Basel II, đáp ứng yêu cầu Thông tư 13/2018/TT-NHNN và Thông tư 41/2016/TT-NHNN của NHNN. ABBANK thực hiện giao dịch tập trung cổ phiếu Ngân hàng với mã ABB trên sàn UPCoM.' metadata={'source': './textdata/text_2.txt'}\n",
      "--------------------------------------------------\n",
      "page_content='2019:\\nABBANK tăng vốn điều lệ lên 5.713 tỷ đồng. Ngày 28/05/2019, ABBANK là 1 trong 7 Ngân hàng đầu tiên chuyển đổi thành công Thẻ Từ nội địa sang Thẻ Chip nội địa theo tiêu chuẩn VCCS của NHNN. Tết An Bình được tổ chức năm thứ 10 liên tiếp. ABBANK Family Day được tổ chức năm thứ 2, mang lại dấu ấn tốt trong cộng đồng. Triển khai thành công Hệ thống tính toán tài sản có rủi ro (RWA) – Basel II.\\n\\n2018:\\nABBANK kỷ niệm 25 năm thành lập (13/05/1993 – 13/05/2018). Cuối tháng 5/2018, ABBANK triển khai dịch vụ Nộp thuế hải quan điện tử 24/7 và chính thức trở thành 1 trong 15 ngân hàng đầu tiên tại Việt Nam triển khai dịch vụ này. Năm đầu tiên phát động và tổ chức ngày hội cộng đồng ABBANK Family Day.\\n\\n2017:\\nMạng lưới ABBANK đạt 165 điểm giao dịch tại 34 tỉnh/thành trên toàn quốc. \\n\\n2016:\\nABBANK tăng vốn điều lệ lên 5.319 tỷ đồng. Mạng lưới mở rộng lên 159 điểm giao dịch tại 33 tỉnh/thành phố.\\n\\n2015:\\nABBANK là ngân hàng đầu tiên tại Việt Nam triển khai dịch vụ thanh toán tiền điện trên hệ thống ATM/POS của ABBANK dành cho chủ sở hữu thẻ mang thương hiệu VISA.\\n\\n2014:\\nABBANK công bố Tầm nhìn, Sứ mệnh, Mục tiêu và các Sáng kiến chiến lược giai đoạn 2014 – 2018. Tháng 12/2014, ABBANK là một trong 4 Ngân hàng đầu tiên của Việt Nam triển khai dịch vụ Chuyển khoản liên quốc gia.\\n\\n2013:\\nNgày 26/04/2013, ABBANK tăng vốn điều lệ lên gần 4.800 tỷ đồng. IFC chính thức trở thành Cổ đông lớn của ABBANK, sở hữu 10% vốn điều lệ. Maybank duy trì tỷ lệ sở hữu 20%, tiếp tục giữ vai trò Cổ đông chiến lược của ABBANK. ABBANK kỷ niệm 20 năm thành lập (13/05/1993 – 13/05/2013).\\n\\n2012:\\nMạng lưới giao dịch của ABBANK đạt 140 điểm giao dịch tại 29 tỉnh/thành trên toàn quốc. \\n\\n2011:\\nABBANK tăng vốn điều lệ lên 4.200 tỷ đồng.' metadata={'source': './textdata/text_2.txt'}\n",
      "--------------------------------------------------\n",
      "page_content='2012:\\nMạng lưới giao dịch của ABBANK đạt 140 điểm giao dịch tại 29 tỉnh/thành trên toàn quốc. \\n\\n2011:\\nABBANK tăng vốn điều lệ lên 4.200 tỷ đồng.\\n\\n2010:\\nABBANK phát hành thành công trái phiếu chuyển đổi với tổng mệnh giá 600 tỷ đồng cho Tổ chức Tài chính Quốc tế (IFC) và Ngân hàng Maybank. Maybank tiếp tục duy trì tỷ lệ sở hữu cổ phần 20% tại ABBANK. ABBANK tăng vốn điều lệ lên 3.831 tỷ đồng. Năm đầu tiên phát động và tổ chức Chương trình Tết An Bình.\\n\\n2009:\\nABBANK tăng vốn điều lệ lên 3.482 tỷ đồng. MayBank nâng tỷ lệ sở hữu cổ phần tại ABBANK từ 15% lên 20% vào cuối năm 2009\\n\\n2008:\\nABBANK triển khai thành công phần mềm ngân hàng lõi (Core Banking) trong hoạt động của Ngân hàng. Ngân hàng Malayan Banking Berhad (Maybank) chính thức trở thành Cổ đông chiến lược nước ngoài của ABBANK với tỷ lệ sở hữu cổ phần là 15%. ABBANK tăng vốn điều lệ lên 2.705 tỷ đồng.\\n\\n2007:\\nABBANK tăng vốn lên 2.300 tỷ đồng. Tổng tài sản vượt ngưỡng 1 tỷ USD (hơn 16.000 tỷ đồng theo tỷ giá năm 2007). \\n\\n2006:\\nABBANK tăng vốn điều lệ lên 1.131 tỷ đồng.\\n\\n2005:\\nTừ một ngân hàng nông thôn, ABBANK được nâng cấp thành ngân hàng quy mô đô thị. Sự gia nhập của các Cổ đông chiến lược trong nước: Tập đoàn Điện lực Việt Nam (EVN), Công ty Cổ phần xuất nhập khẩu tổng hợp Hà Nội (nay là Tập đoàn Geleximco – Công ty Cổ phần). Vốn điều lệ của ABBANK đạt 165 tỷ đồng.\\n\\n2004:\\nTừ vốn điều lệ 5 tỷ đồng năm 2002, đến năm 2004 ABBANK đã nâng vốn điều lệ lên 70,04 tỷ đồng.\\n\\n1993:\\nNgân hàng Thương mại Cổ phần An Bình (ABBANK) được thành lập theo giấy phép số 535/GP-UB do UBND TP. HCM cấp vào ngày 13 tháng 5 năm 1993. Vốn điều lệ: 1 tỷ đồng. \\n\\n\\nTầm nhìn - Sứ mệnh :\\n\\n# Tầm nhìn\\nTrở thành Ngân hàng Thương mại Cổ phần hàng đầu tại Việt Nam, tập trung vào lĩnh vực bán lẻ.' metadata={'source': './textdata/text_2.txt'}\n",
      "--------------------------------------------------\n",
      "page_content='Tầm nhìn - Sứ mệnh :\\n\\n# Tầm nhìn\\nTrở thành Ngân hàng Thương mại Cổ phần hàng đầu tại Việt Nam, tập trung vào lĩnh vực bán lẻ.\\n\\n# Sứ mệnh\\nCung cấp các giải pháp tài chính Hiệu quả, Nhanh và Phù hợp với nhu cầu khách hàng\\n\\n# Tôn chỉ hoạt động\\nPhục vụ khách hàng với sản phẩm, dịch vụ an toàn, hiệu quả và linh hoạt Tăng trưởng lợi ích cho cổ đông\\nHướng đến sự phát triển toàn diện, bền vững của ngân hàng\\nĐầu tư vào yếu tố con người làm nền tảng cho sự phát triển lâu dài\\n\\n# Giá trị cốt lõi\\n05 giá trị cốt lõi của ABBANK trong hoạt động kinh doanh:\\n- Khách hàng là trọng tâm\\nAm hiểu khách hàng – Nâng cao trải nghiệm hạnh phúc. Phục vụ tận tâm – Giải pháp toàn diện.\\n- Cộng tác cùng phát triển\\nTính đồng đội sẽ tạo nên sức mạnh tập thể.\\n- Linh hoạt và thích ứng\\nTư duy đổi mới để giải quyết linh hoạt các mối quan hệ và thích ứng với từng biến động.\\n- Nhân sự là tài sản\\nCon người là gốc rễ cho mọi sự phát triển. Năng lực cao, tư duy sáng tạo sẽ tạo ra lợi thế cạnh tranh và thành công bứt phá cho tổ chức.\\n- Kỷ luật để chiến thắng\\nĐặt ra quy tắc cho bản thân để rèn luyện ý chí. Tôn trọng nguyên tắc và mục tiêu chung để cùng nhau thành công.' metadata={'source': './textdata/text_2.txt'}\n",
      "--------------------------------------------------\n",
      "page_content='Giải thưởng \\n2022:\\n- Tháng 3/2022, ABBANK được vinh danh là 1 trong số 100 doanh nghiệp tiêu biểu trên cả nước nhận giải thưởng Sao Vàng đất Việt 2021 – Giải thưởng về tài trợ xuất nhập khẩu của Ngân hàng Phát triển Châu Á\\n- Tháng 09/2022, ABBANK vinh dự được Ngân hàng Phát triển Châu Á (ADB) trao giải thưởng “Trade Deal of the Year” dành cho ngân hàng có thành tích về giao dịch nổi bật nhất trong hoạt động tài trợ xuất nhập khẩu, cùng với đối tác DBS Bank Ltd (Singapore)\\n- Năm thứ 3 liên tiếp được tạp chí HR Asia vinh danh là một trong những Nơi làm việc tốt nhất Châu Á 2022 – Best Companies to Work for 2022\\n- Nhận giải thưởng “Ngân hàng có tỷ lệ tăng trưởng doanh số thẻ cao nhất năm 2022” do Tổ chức Thẻ quốc tế VISA trao tặng. Để đạt thành quả này, riêng doanh thu thẻ của ABBANK trong 9 tháng đầu năm 2022 đã đạt con số tăng trưởng khá ấn tượng - tăng hơn 278% so với cùng kỳ năm 2021\\n- Sức khỏe thương hiệu của ABBANK đứng vị trí thứ 13 trong số 30 ngân hàng ngoài quốc doanh tại Việt Nam. Chỉ số Thấu hiểu hình ảnh thương hiệu ABBANK 2022 đạt 35%, tăng 20% so với năm 2021 (Theo Báo cáo Đánh giá sức khỏe thương hiệu 2022 của Mibrand\\n\\n2021:\\n- Năm thứ 2 liên tiếp được tạp chí HR Asia vinh danh là một trong những Nơi làm việc tốt nhất Châu Á 2021 – Best Companies to Work for 2021\\n- Lọt top 10 Ngân hàng ngoài quốc doanh có chỉ số thương hiệu tốt nhất và top 13 ngân hàng có chỉ số thương hiệu tốt nhất theo báo cáo xếp hạng của Mibrand' metadata={'source': './textdata/text_2.txt'}\n",
      "--------------------------------------------------\n",
      "page_content='2020:\\n- Chứng nhận là một trong những Nơi làm việc tốt nhất Châu Á 2020 – Best Companies to Work for in Asia 2020 do Tạp chí HR Asia trao tặng\\n- Chứng chỉ đạt chuẩn Bảo mật dữ liệu thẻ PCIDSS (Payment Card Industry Data Security Standard)\\n- Chứng nhận có Hệ thống Quản lý An toàn thông tin theo tiêu chuẩn ISO/IEC 27001:2013 - tiêu chuẩn quốc tế duy nhất dùng để đánh giá và đưa ra những yêu cầu đối với Hệ thống Quản lý An toàn thông tin (ISMS)\\n\\n2019:\\n- Giải thưởng “Doanh nghiệp vì cộng đồng” do tạp chí Kinh tế Sài Gòn trao tặng\\n- Tiếp tục được Moody’s duy trì đánh giá chung ở mức b1\\n\\n2018:\\n- Giải thưởng “Best SME Product Việt Nam” năm thứ hai liên tiếp do tạp chí International Finance Magazine trao tặng\\n- Giải thưởng “Ngân hàng phát triển Bán lẻ tốt nhất Việt Nam” năm thứ 3 liên tiếp & “Ngân hàng Dịch vụ khách hàng tốt nhất Việt Nam 2018” do Global Banking and Finance Review trao tặng\\n- ABBANK tiếp tục được Moody’s đánh giá tích cực và nâng hạng ở các chỉ số: Xếp hạng Tín nhiệm cơ sở (BCA) được nâng từ b2 lên b1; Xếp hạng Rủi ro Đối tác nội – ngoại tệ dài hạn (CRR – Counterparty Risk Ratings) được nâng lên mức Ba; Xếp hạng tiền gửi ngoại tệ, Tiền gửi nội tệ và Đối tác phát hành được nâng lên mức B1 – mức tích cực trong hệ thống ngân hàng tại Việt Nam. Đồng thời, triển vọng của ABBANK tiếp tục được đánh giá là Ổn định.' metadata={'source': './textdata/text_2.txt'}\n",
      "--------------------------------------------------\n",
      "page_content='2017:\\n- Giải thưởng “Ngân hàng phát triển bán lẻ tốt nhất Việt Nam” năm thứ hai liên tiếp do Global Banking and Finance Review bình chọn\\n- Giải thưởng “Best SME Product Việt Nam 2017” do tạp chí International Finance Magazine trao tặng.\\n- ABBANK được Moody’s nâng mức triển vọng đánh giá, tiếp tục nằm trong Top 5 các NHTMCP tư doanh xếp hạng tín nhiệm cao nhất tại Việt Nam.\\n- Giải thưởng Top 10 thương hiệu dẫn đầu Việt Nam – Vietnam Leading Brands 2017 do Hội đồng Liên hiệp Khoa học Phát triển Doanh nghiệp Việt Nam trao tặng.\\n- Chứng nhận Đối tác Thanh toán xuất sắc khu vực Đông Nam Á do MayBank trao tặng. \\n\\n2016:\\n- Giải thưởng “Ngân hàng phát triển bán lẻ tốt nhất Việt Nam 2016” do Global Banking and Finance Review bình chọn\\n- Giải thưởng Thương hiệu uy tín - Chất lượng APEC 2016 do phòng Thương mại Việt Nam – Hoa Kỳ, Hội hữu nghị Việt Nam Đông Nam Á, Mạng Hội đồng doanh nghiệp Asean, Mạng hội đồng doanh nghiệp Việt Nam phối hợp trao tặng.\\n- Moody’s nâng xếp hạng tín nhiệm, ABBANK tiếp tục nằm trong nhóm NHTMCP có xếp hạng tín nhiệm cao nhất.\\n\\n2015:\\n- ABBANK lần đầu được Moody’s xếp hạng tín nhiệm, nằm trong nhóm tín nhiệm cao nhất hệ thống NHTMCP Việt Nam, tính trên 03 chỉ số quan trọng: Sức mạnh tài chính cơ sở (B3), Tín nhiệm tiền gửi nội tệ và ngoại tệ (B2), Tín nhiệm tổ chức phát hành nội tệ và ngoại tệ (B2). Đồng thời, triển vọng của ABBANK được Moody’s đánh giá là Ổn định\\n- Chứng nhận Ngân hàng dẫn đầu về cung cấp tiện ích cho khách hàng - Ngân hàng đã triển khai thành công dịch vụ thanh toán tiền điện bằng thẻ VISA 2015 do Tổ chức thẻ Quốc tế VISA trao tặng.\\n- Giải thưởng Doanh nghiệp Chất lượng - Qmix 100 do Viện Nghiên cứu Kinh tế, Global GTA (Anh), InterConformity (CHLB Đức) phối hợp trao tặng.' metadata={'source': './textdata/text_2.txt'}\n",
      "--------------------------------------------------\n",
      "page_content='2014:\\n- Top 300 thương hiệu hàng đầu Việt Nam do tạp chí Công Thương - Bộ Công Thương trao tặng.\\n- Top 500 doanh nghiệp lớn nhất Việt Nam - VNR 500\\n- Chứng nhận là Một trong 10 thành viên mua bán trái phiếu Chính Phủ lớn nhất thị trường trong nước - Theo số liệu báo cáo của HNX.\\n- Giải thưởng Thương hiệu mạnh Việt Nam do Thời báo kinh tế Việt Nam phối hợp với Cục xúc tiến Thương mại (Bộ Công Thương) trao tặng. \\n\\n2013:\\n- Doanh nghiệp Thành phố Hồ Chí Minh tiêu biểu 2013 do Hiệp hội Doanh nghiệp TP. Hồ Chí Minh phối hợp cùng Hội đồng thi đua khen thưởng TP. Hồ Chí Minh trao tặng.\\n- Chứng nhận Ngân hàng có hoạt động TTQT xuất sắc 2013 do ngân hàng Wells Fargo (Mỹ) trao tặng.\\n- Thương hiệu mạnh Việt Nam do Thời báo kinh tế Việt Nam phối hợp với Cục xúc tiến Thương mại (Bộ Công Thương) trao tặng.\\n- Top 500 doanh nghiệp lớn nhất Việt Nam - VNR500\\n\\n- Thương hiệu nổi tiếng ASEAN 2013 do Hội phát triển Hợp tác kinh tế Việt Nam - Lào - Campuchia trao tặng.\\n2012:\\n- Thương hiệu mạnh Việt Nam do Thời báo Kinh tế Việt Nam phối hợp với Cục xúc tiến Thương mại (Bộ Công Thương) trao tặng.\\n- Top 500 Doanh nghiệp lớn nhất Việt Nam - VNR 500\\n- Chứng nhận Ngân hàng có hoạt động TTQT xuất sắc 2012 do ngân hàng Wells Fargo (Mỹ) trao tặng. \\n\\n2011:\\n- Thương hiệu mạnh Việt Nam do Thời báo kinh tế Việt Nam phối hợp với Cục xúc tiến Thương mại (Bộ Công Thương) trao tặng.\\n- Chứng nhận Ngân hàng có hoạt động TTQT xuất sắc 2011 do các ngân hàng Citibank (Mỹ), Wells Fargo (Mỹ) và HSBC trao tặng.\\n- Top 1000 doanh nghiệp nộp thuế lớn nhất Việt Nam 2011 công bố bởi báo VietNamNet với sự phối hợp của Tạp chí thuế - Tổng cục thuế.' metadata={'source': './textdata/text_2.txt'}\n",
      "--------------------------------------------------\n",
      "page_content='2010:\\n- Thương hiệu mạnh Việt Nam do Thời báo kinh tế Việt Nam phối hợp với Cục xúc tiến Thương mại (Bộ Công Thương) trao tặng.\\n- Nhãn hiệu cạnh tranh nổi tiếng quốc gia do Cục Sở hữu trí tuệ Việt Nam trao tặng.\\n- Thương hiệu Việt được yêu thích do Báo Sài Gòn Giải phóng trao tặng.\\n- Giải thưởng Doanh nghiệp Thương mại Dịch vụ tiêu biểu - Top Trade Services 2010 do Bộ Công Thương trao tặng.\\n- Chứng nhận Ngân hàng đạt chuẩn điện Thanh toán quốc tế xuất sắc do các ngân hàng Wells Fargo và Citibank trao tặng.' metadata={'source': './textdata/text_2.txt'}\n",
      "--------------------------------------------------\n"
     ]
    }
   ],
   "source": [
    "for docs in docs2:\n",
    "    print(docs)\n",
    "    print(\"-\"*50)"
   ]
  },
  {
   "cell_type": "code",
   "execution_count": 109,
   "id": "f6d52cc6-1033-4a70-80b4-d60944a8d9b7",
   "metadata": {
    "tags": []
   },
   "outputs": [
    {
     "data": {
      "text/plain": [
       "[Document(page_content='Công ty Chứng khoán của chúng tôi là công ty chứng khoán An Bình (Viết tắt: ABS) Địa chỉ: 36 Hoàng Cầu, Thành phố Hà Nội\\nEmail: support@abs.vn\\nSố Điện Thoại: (84) 123-456-789\\nGiới thiệu:\\nChúng tôi là một trong những công ty chứng khoán hàng đầu tại Việt Nam. Với hơn 20 năm kinh nghiệm trong lĩnh vực này, chúng tôi luôn cam kết mang đến cho khách hàng dịch vụ tốt nhất và giải pháp đầu tư tối ưu.\\nDịch vụ chính:\\n- Môi giới chứng khoán\\n- Tư vấn đầu tư tài chính\\n- Quản lý danh mục đầu tư\\n- Dịch vụ cơ cấu tài sản\\nSự kiện sắp diễn ra:\\nCuộc họp cổ đông thường niên sẽ được tổ chức vào ngày 10/12/2023 tại khách sạn Bình Minh.\\nCác nhân viên nổi bật:\\n- Ông Nguyễn Văn A: Giám đốc điều hành\\n- Bà Trần Thị B: Phó giám đốc\\n- Anh Phạm C: Trưởng phòng Môi giới\\nĐối tác chiến lược: Công ty Tài chính B, Ngân hàng C và Tổ chức Đầu tư D.\\nMọi thông tin chi tiết về chúng tôi, vui lòng truy cập website chính thức: abs.vn Xu hướng giá cổ phiếu của Công ty Chứng khoán Beta trong tháng 10/2023:\\n- Mã ABC: Cổ phiếu này đã có một xu hướng tăng mạnh mẽ trong hai tuần đầu của tháng, sau đó biến động nhẹ và kết thúc tháng ở mức giá cao.\\n- Mã DEF: Trái ngược với ABC, DEF chứng kiến một sự sụt giảm liên tục qua suốt cả tháng.\\n- Mã GHI: Giữ một mức độ ổn định, không có biến động lớn, mức giá gần như không thay đổi.\\n- Mã JKL: Bắt đầu mạnh mẽ nhưng sau đó gặp một số vấn đề kỹ thuật khiến giá cổ phiếu giảm mạnh trong tuần cuối của tháng.\\nMọi thông tin về cổ phiếu vui lòng truy cập đường link: https://itrade.abs.vn/', metadata={'source': './textdata/text_1.txt'})]"
      ]
     },
     "execution_count": 109,
     "metadata": {},
     "output_type": "execute_result"
    }
   ],
   "source": [
    "docs1"
   ]
  },
  {
   "cell_type": "code",
   "execution_count": 108,
   "id": "9b57382c-2515-4df4-b350-d939e1db2009",
   "metadata": {
    "tags": []
   },
   "outputs": [
    {
     "name": "stdout",
     "output_type": "stream",
     "text": [
      "page_content='Giới thiệu chung:\\nĐược thành lập từ năm 1993, cho đến nay Ngân hàng TMCP An Bình (ABBANK) đã và đang đóng góp cho thị trường tài chính Việt Nam một thương hiệu Ngân hàng bán lẻ thân thiện, uy tín và hiệu quả.\\n\\nCùng với sự phát triển uy tín thương hiệu, chất lượng môi trường làm việc tại ABBANK cũng liên tục được các tổ chức uy tín trong và ngoài nước đánh giá cao những năm gần đây: Năm 2021, ABBANK lọt vào danh sách 25 Thương hiệu Tài chính dẫn đầu tại Việt Nam theo công bố của Tạp chí Tài chính Forbes Việt Nam với giá trị thương hiệu ước đạt 39,4 triệu USD; ABBANK là 1 trong 10 ngân hàng ngoài quốc doanh có Chỉ số thương hiệu tốt nhất và Top 13 Ngân hàng có chỉ số thương hiệu tốt nhất (Theo báo cáo xếp hạng của Mibrand năm 2021); ABBANK cũng được tạp chí HR Asia chứng nhận là một trong những Nơi làm việc tốt nhất Châu Á kể từ năm 2020.\\n\\nVới nguồn lực tài chính vững mạnh, các đối tác chiến lược là các định chế tài chính lớn, các tập đoàn uy tín trên Thế giới và Việt Nam như Tổ chức Tài chính Quốc tế (IFC), Ngân hàng Malaysia – Maybank, Tập đoàn Geleximco – Công ty Cổ phần; ABBANK cũng không ngừng hoàn thiện hệ thống, nâng cao chất lượng quản trị và vận hành theo thông lệ quốc tế..\\n\\nTheo đuổi mục tiêu gia nhập nhóm ngân hàng cung cấp các sản phẩm dịch vụ ngân hàng số hàng đầu tại thị trường Việt Nam, ABBANK hiện đang mở rộng đầu tư vào lĩnh vực chuyển đổi số nhằm mang đến những trải nghiệm tối ưu nhất cho khách hàng.\\n\\nỞ cột mốc 30 năm thành lập, ABBANK sở hữu một nền tảng công nghệ thông tin hiện đại; đội ngũ nhân sự tâm huyết và am hiểu nghiệp vụ, cùng với đó là hệ thống sản phẩm dịch vụ giải pháp tài chính tiện ích, hiệu quả và linh hoạt với mạng lưới điểm giao dịch rộng khắp trên toàn quốc nhằm phục vụ phương châm “Khách hàng là trọng tâm”.' metadata={'source': './textdata/text_2.txt'}\n",
      "----------------------------------------------------------------------------------------------------\n",
      "page_content='VỐN ĐIỀU LỆ: 10.350 tỷ đồng \\nCỔ ĐÔNG CHIẾN LƯỢC:\\n· Tập đoàn Geleximco - Công ty cổ phần\\n· Ngân hàng Malaysia Berhad (MayBank) - Ngân hàng lớn nhất Malaysia\\n· Tổ chức Tài chính Quốc tế (IFC) trực thuộc Ngân hàng Thế giới (World Bank)\\nMẠNG LƯỚI GIAO DỊCH: 165 điểm tại 34 tỉnh/thành phố \\n\\n\\nLịch sử phát triển\\n2023:\\nABBANK kỷ niệm 30 năm thành lập (13/5/1993 - 13/5/2023). Tăng vốn điều lệ lên 10.350 tỷ đồng.\\n\\n2022:\\nABBANK tăng vốn điều lệ lên 9.409 tỷ đồng. Công bố 5 Giá trị cốt lõi mới và các chuẩn mực hành vi tương ứng trong thời kỳ phát triển mới của ABBANK, với chiến lược lấy Khách hàng là trọng tâm cho mọi hoạt động kinh doanh. Tết An Bình năm thứ 13 với chủ đề “Gieo mầm xanh hy vọng” được tổ chức thành công. Tháng 11/2022, ABBANK là một trong bốn ngân hàng Việt Nam đầu tiên chính thức đưa vào vận hành ứng dụng xác thực trước thanh toán (SWIFT Payment Pre-validation), giúp loại bỏ những sự cố, xung đột trong thanh toán quốc tế thông qua việc xác minh các thông tin về người thụ hưởng.\\n\\n2021:\\nABBANK tăng vốn điều lệ lên 6.970 tỷ đồng. Được công nhận “tuân thủ hoàn toàn” cả 3 trụ cột chính của Basel II gồm: Quy định tỷ lệ an toàn vốn. (CAR); Đánh giá nội bộ về mức đủ vốn (ICAAP); Nguyên tắc thị trường (Minh bạch và kỷ luật).\\n\\n2020:\\nABBANK công bố mục tiêu chiến lược giai đoạn 2021-2025. Triển khai thành công các dự án lớn về Công nghệ thông tin và Quản trị rủi ro theo tiêu chuẩn Basel II, đáp ứng yêu cầu Thông tư 13/2018/TT-NHNN và Thông tư 41/2016/TT-NHNN của NHNN. ABBANK thực hiện giao dịch tập trung cổ phiếu Ngân hàng với mã ABB trên sàn UPCoM.' metadata={'source': './textdata/text_2.txt'}\n",
      "----------------------------------------------------------------------------------------------------\n",
      "page_content='2019:\\nABBANK tăng vốn điều lệ lên 5.713 tỷ đồng. Ngày 28/05/2019, ABBANK là 1 trong 7 Ngân hàng đầu tiên chuyển đổi thành công Thẻ Từ nội địa sang Thẻ Chip nội địa theo tiêu chuẩn VCCS của NHNN. Tết An Bình được tổ chức năm thứ 10 liên tiếp. ABBANK Family Day được tổ chức năm thứ 2, mang lại dấu ấn tốt trong cộng đồng. Triển khai thành công Hệ thống tính toán tài sản có rủi ro (RWA) – Basel II.\\n\\n2018:\\nABBANK kỷ niệm 25 năm thành lập (13/05/1993 – 13/05/2018). Cuối tháng 5/2018, ABBANK triển khai dịch vụ Nộp thuế hải quan điện tử 24/7 và chính thức trở thành 1 trong 15 ngân hàng đầu tiên tại Việt Nam triển khai dịch vụ này. Năm đầu tiên phát động và tổ chức ngày hội cộng đồng ABBANK Family Day.\\n\\n2017:\\nMạng lưới ABBANK đạt 165 điểm giao dịch tại 34 tỉnh/thành trên toàn quốc. \\n\\n2016:\\nABBANK tăng vốn điều lệ lên 5.319 tỷ đồng. Mạng lưới mở rộng lên 159 điểm giao dịch tại 33 tỉnh/thành phố.\\n\\n2015:\\nABBANK là ngân hàng đầu tiên tại Việt Nam triển khai dịch vụ thanh toán tiền điện trên hệ thống ATM/POS của ABBANK dành cho chủ sở hữu thẻ mang thương hiệu VISA.\\n\\n2014:\\nABBANK công bố Tầm nhìn, Sứ mệnh, Mục tiêu và các Sáng kiến chiến lược giai đoạn 2014 – 2018. Tháng 12/2014, ABBANK là một trong 4 Ngân hàng đầu tiên của Việt Nam triển khai dịch vụ Chuyển khoản liên quốc gia.\\n\\n2013:\\nNgày 26/04/2013, ABBANK tăng vốn điều lệ lên gần 4.800 tỷ đồng. IFC chính thức trở thành Cổ đông lớn của ABBANK, sở hữu 10% vốn điều lệ. Maybank duy trì tỷ lệ sở hữu 20%, tiếp tục giữ vai trò Cổ đông chiến lược của ABBANK. ABBANK kỷ niệm 20 năm thành lập (13/05/1993 – 13/05/2013).\\n\\n2012:\\nMạng lưới giao dịch của ABBANK đạt 140 điểm giao dịch tại 29 tỉnh/thành trên toàn quốc. \\n\\n2011:\\nABBANK tăng vốn điều lệ lên 4.200 tỷ đồng.' metadata={'source': './textdata/text_2.txt'}\n",
      "----------------------------------------------------------------------------------------------------\n",
      "page_content='2012:\\nMạng lưới giao dịch của ABBANK đạt 140 điểm giao dịch tại 29 tỉnh/thành trên toàn quốc. \\n\\n2011:\\nABBANK tăng vốn điều lệ lên 4.200 tỷ đồng.\\n\\n2010:\\nABBANK phát hành thành công trái phiếu chuyển đổi với tổng mệnh giá 600 tỷ đồng cho Tổ chức Tài chính Quốc tế (IFC) và Ngân hàng Maybank. Maybank tiếp tục duy trì tỷ lệ sở hữu cổ phần 20% tại ABBANK. ABBANK tăng vốn điều lệ lên 3.831 tỷ đồng. Năm đầu tiên phát động và tổ chức Chương trình Tết An Bình.\\n\\n2009:\\nABBANK tăng vốn điều lệ lên 3.482 tỷ đồng. MayBank nâng tỷ lệ sở hữu cổ phần tại ABBANK từ 15% lên 20% vào cuối năm 2009\\n\\n2008:\\nABBANK triển khai thành công phần mềm ngân hàng lõi (Core Banking) trong hoạt động của Ngân hàng. Ngân hàng Malayan Banking Berhad (Maybank) chính thức trở thành Cổ đông chiến lược nước ngoài của ABBANK với tỷ lệ sở hữu cổ phần là 15%. ABBANK tăng vốn điều lệ lên 2.705 tỷ đồng.\\n\\n2007:\\nABBANK tăng vốn lên 2.300 tỷ đồng. Tổng tài sản vượt ngưỡng 1 tỷ USD (hơn 16.000 tỷ đồng theo tỷ giá năm 2007). \\n\\n2006:\\nABBANK tăng vốn điều lệ lên 1.131 tỷ đồng.\\n\\n2005:\\nTừ một ngân hàng nông thôn, ABBANK được nâng cấp thành ngân hàng quy mô đô thị. Sự gia nhập của các Cổ đông chiến lược trong nước: Tập đoàn Điện lực Việt Nam (EVN), Công ty Cổ phần xuất nhập khẩu tổng hợp Hà Nội (nay là Tập đoàn Geleximco – Công ty Cổ phần). Vốn điều lệ của ABBANK đạt 165 tỷ đồng.\\n\\n2004:\\nTừ vốn điều lệ 5 tỷ đồng năm 2002, đến năm 2004 ABBANK đã nâng vốn điều lệ lên 70,04 tỷ đồng.\\n\\n1993:\\nNgân hàng Thương mại Cổ phần An Bình (ABBANK) được thành lập theo giấy phép số 535/GP-UB do UBND TP. HCM cấp vào ngày 13 tháng 5 năm 1993. Vốn điều lệ: 1 tỷ đồng. \\n\\n\\nTầm nhìn - Sứ mệnh :\\n\\n# Tầm nhìn\\nTrở thành Ngân hàng Thương mại Cổ phần hàng đầu tại Việt Nam, tập trung vào lĩnh vực bán lẻ.' metadata={'source': './textdata/text_2.txt'}\n",
      "----------------------------------------------------------------------------------------------------\n",
      "page_content='Tầm nhìn - Sứ mệnh :\\n\\n# Tầm nhìn\\nTrở thành Ngân hàng Thương mại Cổ phần hàng đầu tại Việt Nam, tập trung vào lĩnh vực bán lẻ.\\n\\n# Sứ mệnh\\nCung cấp các giải pháp tài chính Hiệu quả, Nhanh và Phù hợp với nhu cầu khách hàng\\n\\n# Tôn chỉ hoạt động\\nPhục vụ khách hàng với sản phẩm, dịch vụ an toàn, hiệu quả và linh hoạt Tăng trưởng lợi ích cho cổ đông\\nHướng đến sự phát triển toàn diện, bền vững của ngân hàng\\nĐầu tư vào yếu tố con người làm nền tảng cho sự phát triển lâu dài\\n\\n# Giá trị cốt lõi\\n05 giá trị cốt lõi của ABBANK trong hoạt động kinh doanh:\\n- Khách hàng là trọng tâm\\nAm hiểu khách hàng – Nâng cao trải nghiệm hạnh phúc. Phục vụ tận tâm – Giải pháp toàn diện.\\n- Cộng tác cùng phát triển\\nTính đồng đội sẽ tạo nên sức mạnh tập thể.\\n- Linh hoạt và thích ứng\\nTư duy đổi mới để giải quyết linh hoạt các mối quan hệ và thích ứng với từng biến động.\\n- Nhân sự là tài sản\\nCon người là gốc rễ cho mọi sự phát triển. Năng lực cao, tư duy sáng tạo sẽ tạo ra lợi thế cạnh tranh và thành công bứt phá cho tổ chức.\\n- Kỷ luật để chiến thắng\\nĐặt ra quy tắc cho bản thân để rèn luyện ý chí. Tôn trọng nguyên tắc và mục tiêu chung để cùng nhau thành công.' metadata={'source': './textdata/text_2.txt'}\n",
      "----------------------------------------------------------------------------------------------------\n",
      "page_content='Giải thưởng \\n2022:\\n- Tháng 3/2022, ABBANK được vinh danh là 1 trong số 100 doanh nghiệp tiêu biểu trên cả nước nhận giải thưởng Sao Vàng đất Việt 2021 – Giải thưởng về tài trợ xuất nhập khẩu của Ngân hàng Phát triển Châu Á\\n- Tháng 09/2022, ABBANK vinh dự được Ngân hàng Phát triển Châu Á (ADB) trao giải thưởng “Trade Deal of the Year” dành cho ngân hàng có thành tích về giao dịch nổi bật nhất trong hoạt động tài trợ xuất nhập khẩu, cùng với đối tác DBS Bank Ltd (Singapore)\\n- Năm thứ 3 liên tiếp được tạp chí HR Asia vinh danh là một trong những Nơi làm việc tốt nhất Châu Á 2022 – Best Companies to Work for 2022\\n- Nhận giải thưởng “Ngân hàng có tỷ lệ tăng trưởng doanh số thẻ cao nhất năm 2022” do Tổ chức Thẻ quốc tế VISA trao tặng. Để đạt thành quả này, riêng doanh thu thẻ của ABBANK trong 9 tháng đầu năm 2022 đã đạt con số tăng trưởng khá ấn tượng - tăng hơn 278% so với cùng kỳ năm 2021\\n- Sức khỏe thương hiệu của ABBANK đứng vị trí thứ 13 trong số 30 ngân hàng ngoài quốc doanh tại Việt Nam. Chỉ số Thấu hiểu hình ảnh thương hiệu ABBANK 2022 đạt 35%, tăng 20% so với năm 2021 (Theo Báo cáo Đánh giá sức khỏe thương hiệu 2022 của Mibrand\\n\\n2021:\\n- Năm thứ 2 liên tiếp được tạp chí HR Asia vinh danh là một trong những Nơi làm việc tốt nhất Châu Á 2021 – Best Companies to Work for 2021\\n- Lọt top 10 Ngân hàng ngoài quốc doanh có chỉ số thương hiệu tốt nhất và top 13 ngân hàng có chỉ số thương hiệu tốt nhất theo báo cáo xếp hạng của Mibrand' metadata={'source': './textdata/text_2.txt'}\n",
      "----------------------------------------------------------------------------------------------------\n",
      "page_content='2020:\\n- Chứng nhận là một trong những Nơi làm việc tốt nhất Châu Á 2020 – Best Companies to Work for in Asia 2020 do Tạp chí HR Asia trao tặng\\n- Chứng chỉ đạt chuẩn Bảo mật dữ liệu thẻ PCIDSS (Payment Card Industry Data Security Standard)\\n- Chứng nhận có Hệ thống Quản lý An toàn thông tin theo tiêu chuẩn ISO/IEC 27001:2013 - tiêu chuẩn quốc tế duy nhất dùng để đánh giá và đưa ra những yêu cầu đối với Hệ thống Quản lý An toàn thông tin (ISMS)\\n\\n2019:\\n- Giải thưởng “Doanh nghiệp vì cộng đồng” do tạp chí Kinh tế Sài Gòn trao tặng\\n- Tiếp tục được Moody’s duy trì đánh giá chung ở mức b1\\n\\n2018:\\n- Giải thưởng “Best SME Product Việt Nam” năm thứ hai liên tiếp do tạp chí International Finance Magazine trao tặng\\n- Giải thưởng “Ngân hàng phát triển Bán lẻ tốt nhất Việt Nam” năm thứ 3 liên tiếp & “Ngân hàng Dịch vụ khách hàng tốt nhất Việt Nam 2018” do Global Banking and Finance Review trao tặng\\n- ABBANK tiếp tục được Moody’s đánh giá tích cực và nâng hạng ở các chỉ số: Xếp hạng Tín nhiệm cơ sở (BCA) được nâng từ b2 lên b1; Xếp hạng Rủi ro Đối tác nội – ngoại tệ dài hạn (CRR – Counterparty Risk Ratings) được nâng lên mức Ba; Xếp hạng tiền gửi ngoại tệ, Tiền gửi nội tệ và Đối tác phát hành được nâng lên mức B1 – mức tích cực trong hệ thống ngân hàng tại Việt Nam. Đồng thời, triển vọng của ABBANK tiếp tục được đánh giá là Ổn định.' metadata={'source': './textdata/text_2.txt'}\n",
      "----------------------------------------------------------------------------------------------------\n",
      "page_content='2017:\\n- Giải thưởng “Ngân hàng phát triển bán lẻ tốt nhất Việt Nam” năm thứ hai liên tiếp do Global Banking and Finance Review bình chọn\\n- Giải thưởng “Best SME Product Việt Nam 2017” do tạp chí International Finance Magazine trao tặng.\\n- ABBANK được Moody’s nâng mức triển vọng đánh giá, tiếp tục nằm trong Top 5 các NHTMCP tư doanh xếp hạng tín nhiệm cao nhất tại Việt Nam.\\n- Giải thưởng Top 10 thương hiệu dẫn đầu Việt Nam – Vietnam Leading Brands 2017 do Hội đồng Liên hiệp Khoa học Phát triển Doanh nghiệp Việt Nam trao tặng.\\n- Chứng nhận Đối tác Thanh toán xuất sắc khu vực Đông Nam Á do MayBank trao tặng. \\n\\n2016:\\n- Giải thưởng “Ngân hàng phát triển bán lẻ tốt nhất Việt Nam 2016” do Global Banking and Finance Review bình chọn\\n- Giải thưởng Thương hiệu uy tín - Chất lượng APEC 2016 do phòng Thương mại Việt Nam – Hoa Kỳ, Hội hữu nghị Việt Nam Đông Nam Á, Mạng Hội đồng doanh nghiệp Asean, Mạng hội đồng doanh nghiệp Việt Nam phối hợp trao tặng.\\n- Moody’s nâng xếp hạng tín nhiệm, ABBANK tiếp tục nằm trong nhóm NHTMCP có xếp hạng tín nhiệm cao nhất.\\n\\n2015:\\n- ABBANK lần đầu được Moody’s xếp hạng tín nhiệm, nằm trong nhóm tín nhiệm cao nhất hệ thống NHTMCP Việt Nam, tính trên 03 chỉ số quan trọng: Sức mạnh tài chính cơ sở (B3), Tín nhiệm tiền gửi nội tệ và ngoại tệ (B2), Tín nhiệm tổ chức phát hành nội tệ và ngoại tệ (B2). Đồng thời, triển vọng của ABBANK được Moody’s đánh giá là Ổn định\\n- Chứng nhận Ngân hàng dẫn đầu về cung cấp tiện ích cho khách hàng - Ngân hàng đã triển khai thành công dịch vụ thanh toán tiền điện bằng thẻ VISA 2015 do Tổ chức thẻ Quốc tế VISA trao tặng.\\n- Giải thưởng Doanh nghiệp Chất lượng - Qmix 100 do Viện Nghiên cứu Kinh tế, Global GTA (Anh), InterConformity (CHLB Đức) phối hợp trao tặng.' metadata={'source': './textdata/text_2.txt'}\n",
      "----------------------------------------------------------------------------------------------------\n",
      "page_content='2014:\\n- Top 300 thương hiệu hàng đầu Việt Nam do tạp chí Công Thương - Bộ Công Thương trao tặng.\\n- Top 500 doanh nghiệp lớn nhất Việt Nam - VNR 500\\n- Chứng nhận là Một trong 10 thành viên mua bán trái phiếu Chính Phủ lớn nhất thị trường trong nước - Theo số liệu báo cáo của HNX.\\n- Giải thưởng Thương hiệu mạnh Việt Nam do Thời báo kinh tế Việt Nam phối hợp với Cục xúc tiến Thương mại (Bộ Công Thương) trao tặng. \\n\\n2013:\\n- Doanh nghiệp Thành phố Hồ Chí Minh tiêu biểu 2013 do Hiệp hội Doanh nghiệp TP. Hồ Chí Minh phối hợp cùng Hội đồng thi đua khen thưởng TP. Hồ Chí Minh trao tặng.\\n- Chứng nhận Ngân hàng có hoạt động TTQT xuất sắc 2013 do ngân hàng Wells Fargo (Mỹ) trao tặng.\\n- Thương hiệu mạnh Việt Nam do Thời báo kinh tế Việt Nam phối hợp với Cục xúc tiến Thương mại (Bộ Công Thương) trao tặng.\\n- Top 500 doanh nghiệp lớn nhất Việt Nam - VNR500\\n\\n- Thương hiệu nổi tiếng ASEAN 2013 do Hội phát triển Hợp tác kinh tế Việt Nam - Lào - Campuchia trao tặng.\\n2012:\\n- Thương hiệu mạnh Việt Nam do Thời báo Kinh tế Việt Nam phối hợp với Cục xúc tiến Thương mại (Bộ Công Thương) trao tặng.\\n- Top 500 Doanh nghiệp lớn nhất Việt Nam - VNR 500\\n- Chứng nhận Ngân hàng có hoạt động TTQT xuất sắc 2012 do ngân hàng Wells Fargo (Mỹ) trao tặng. \\n\\n2011:\\n- Thương hiệu mạnh Việt Nam do Thời báo kinh tế Việt Nam phối hợp với Cục xúc tiến Thương mại (Bộ Công Thương) trao tặng.\\n- Chứng nhận Ngân hàng có hoạt động TTQT xuất sắc 2011 do các ngân hàng Citibank (Mỹ), Wells Fargo (Mỹ) và HSBC trao tặng.\\n- Top 1000 doanh nghiệp nộp thuế lớn nhất Việt Nam 2011 công bố bởi báo VietNamNet với sự phối hợp của Tạp chí thuế - Tổng cục thuế.' metadata={'source': './textdata/text_2.txt'}\n",
      "----------------------------------------------------------------------------------------------------\n",
      "page_content='2010:\\n- Thương hiệu mạnh Việt Nam do Thời báo kinh tế Việt Nam phối hợp với Cục xúc tiến Thương mại (Bộ Công Thương) trao tặng.\\n- Nhãn hiệu cạnh tranh nổi tiếng quốc gia do Cục Sở hữu trí tuệ Việt Nam trao tặng.\\n- Thương hiệu Việt được yêu thích do Báo Sài Gòn Giải phóng trao tặng.\\n- Giải thưởng Doanh nghiệp Thương mại Dịch vụ tiêu biểu - Top Trade Services 2010 do Bộ Công Thương trao tặng.\\n- Chứng nhận Ngân hàng đạt chuẩn điện Thanh toán quốc tế xuất sắc do các ngân hàng Wells Fargo và Citibank trao tặng.' metadata={'source': './textdata/text_2.txt'}\n",
      "----------------------------------------------------------------------------------------------------\n"
     ]
    }
   ],
   "source": [
    "for doc in docs2:\n",
    "    print(doc)\n",
    "    print(\"-\"*100)"
   ]
  },
  {
   "cell_type": "code",
   "execution_count": null,
   "id": "7fc5d57e-2aa2-40eb-9c2c-f174ee6bc298",
   "metadata": {},
   "outputs": [],
   "source": []
  },
  {
   "cell_type": "markdown",
   "id": "48da74f8-8199-4496-a3e3-f535ceebe1aa",
   "metadata": {
    "tags": []
   },
   "source": [
    "## Opensearch set up"
   ]
  },
  {
   "cell_type": "code",
   "execution_count": 93,
   "id": "6f677b0e-a2d4-4f31-9f77-8f65fef563a9",
   "metadata": {
    "tags": []
   },
   "outputs": [],
   "source": [
    "import boto3\n",
    "import time\n",
    "vector_store_name = 'rag-pythonsql'\n",
    "index_name = \"infloatbase\"\n",
    "\n",
    "encryption_policy_name = \"raql-encryp-policy\"\n",
    "network_policy_name = \"raql-network-policy\"\n",
    "access_policy_name = 'raql-access-policy'\n",
    "identity = boto3.client('sts').get_caller_identity()['Arn']\n",
    "\n",
    "aoss_client = boto3.client('opensearchserverless')\n"
   ]
  },
  {
   "cell_type": "markdown",
   "id": "aacdb12f-c4dc-4457-8736-8f164415bbb2",
   "metadata": {
    "tags": []
   },
   "source": [
    "## SageMaker embedding"
   ]
  },
  {
   "cell_type": "code",
   "execution_count": 94,
   "id": "670ef343-f54d-4792-b75e-15a16d34f28d",
   "metadata": {
    "tags": []
   },
   "outputs": [],
   "source": [
    "## Todo: \n",
    "# Change endpoint_name to your Sagemaker sbert deployed model.\n",
    "\n",
    "## Langchain Doc for SM Embedding Class Customization\n",
    "\n",
    "from typing import Dict, List\n",
    "from langchain.embeddings import SagemakerEndpointEmbeddings\n",
    "from langchain.embeddings.sagemaker_endpoint import EmbeddingsContentHandler\n",
    "import json\n",
    "\n",
    "\n",
    "class ContentHandler(EmbeddingsContentHandler):\n",
    "    content_type = \"application/json\"\n",
    "    accepts = \"application/json\"\n",
    "\n",
    "    def transform_input(self, inputs: list[str], model_kwargs: Dict) -> bytes:\n",
    "        \"\"\"\n",
    "        Transforms the input into bytes that can be consumed by SageMaker endpoint.\n",
    "        Args:\n",
    "            inputs: List of input strings.\n",
    "            model_kwargs: Additional keyword arguments to be passed to the endpoint.\n",
    "        Returns:\n",
    "            The transformed bytes input.\n",
    "        \"\"\"\n",
    "        # Example: inference.py expects a JSON string with a \"inputs\" key:\n",
    "        input_str = json.dumps({\"inputs\": inputs, **model_kwargs})  \n",
    "        return input_str.encode(\"utf-8\")\n",
    "\n",
    "    def transform_output(self, output: bytes) -> List[List[float]]:\n",
    "        \"\"\"\n",
    "        Transforms the bytes output from the endpoint into a list of embeddings.\n",
    "        Args:\n",
    "            output: The bytes output from SageMaker endpoint.\n",
    "        Returns:\n",
    "            The transformed output - list of embeddings\n",
    "        Note:\n",
    "            The length of the outer list is the number of input strings.\n",
    "            The length of the inner lists is the embedding dimension.\n",
    "        \"\"\"\n",
    "        # Example: inference.py returns a JSON string with the list of\n",
    "        # embeddings in a \"vectors\" key:\n",
    "        response_json = json.loads(output.read().decode(\"utf-8\"))\n",
    "        return response_json[\"vectors\"]\n",
    "\n",
    "\n",
    "content_handler = ContentHandler()\n",
    "\n",
    "\n",
    "\n",
    "infloat_batch_embeddings = SagemakerEndpointEmbeddings(\n",
    "    # credentials_profile_name=\"credentials-profile-name\",\n",
    "    endpoint_name=\"huggingface-pytorch-inference-2023-11-17-04-03-54-290\", # TODO: change this to your own infloat base endpoint\n",
    "    region_name=\"us-east-1\",  # TODO: change this to your sagemaker deployed sbert endpoint Region \n",
    "    content_handler=content_handler,\n",
    ")"
   ]
  },
  {
   "cell_type": "code",
   "execution_count": 95,
   "id": "f64769c9-69f2-4bb9-81bd-9ee2c44e6c24",
   "metadata": {
    "tags": []
   },
   "outputs": [
    {
     "name": "stdout",
     "output_type": "stream",
     "text": [
      "768\n",
      "1\n",
      "768\n"
     ]
    }
   ],
   "source": [
    "res_1 = infloat_batch_embeddings.embed_query(\"foo\")\n",
    "print(len(res_1)) # expect 768\n",
    "\n",
    "res_2 = infloat_batch_embeddings.embed_documents([\"foo\"])\n",
    "print(len(res_2) ) # expect 1\n",
    "print(len(res_2[0]) ) # expect 768"
   ]
  },
  {
   "cell_type": "code",
   "execution_count": 20,
   "id": "92894b0e-103c-4043-944c-3aab39012b2f",
   "metadata": {
    "tags": []
   },
   "outputs": [],
   "source": [
    "res_1 = infloat_batch_embeddings.embed_query(\"foo foo foo foo foo foo foo foo foo foo foo foo foo foo foo foo foo foo foo foo foo foo foo foo foo foo foo foo foo foo foo foo foo foo foo foo foo foo foo foo foo foo foo foo foo foo foo foo foo foo foo foo foo foo foo foo foo foo foo foo\")\n"
   ]
  },
  {
   "cell_type": "code",
   "execution_count": 21,
   "id": "d41cd811-ae60-4eaa-bd12-0f63b93997a8",
   "metadata": {
    "tags": []
   },
   "outputs": [
    {
     "name": "stdout",
     "output_type": "stream",
     "text": [
      "768\n"
     ]
    }
   ],
   "source": [
    "print(len(res_1))"
   ]
  },
  {
   "cell_type": "code",
   "execution_count": 23,
   "id": "4d520446-6230-4558-9e5b-1fa98baacd2f",
   "metadata": {
    "tags": []
   },
   "outputs": [
    {
     "name": "stdout",
     "output_type": "stream",
     "text": [
      "Size of the embedding:  (768,)\n"
     ]
    }
   ],
   "source": [
    "sample_embedding = np.array(infloat_batch_embeddings.embed_query(docs[0].page_content))\n",
    "\n",
    "# print(\"Sample embedding of a document chunk: \", sample_embedding)\n",
    "print(\"Size of the embedding: \", sample_embedding.shape)"
   ]
  },
  {
   "cell_type": "markdown",
   "id": "3cb177bd-671d-4a92-8707-e17eb650dae6",
   "metadata": {},
   "source": [
    "## Ingest to AOSS"
   ]
  },
  {
   "cell_type": "code",
   "execution_count": 96,
   "id": "3db3e12a-f61f-47fe-9bf8-74c5b35ae730",
   "metadata": {
    "tags": []
   },
   "outputs": [],
   "source": [
    "\n",
    "security_policy = aoss_client.create_security_policy(\n",
    "    name = encryption_policy_name,\n",
    "    policy = json.dumps(\n",
    "        {\n",
    "            'Rules': [{'Resource': ['collection/' + vector_store_name],\n",
    "            'ResourceType': 'collection'}],\n",
    "            'AWSOwnedKey': True\n",
    "        }),\n",
    "    type = 'encryption'\n",
    ")\n",
    "\n",
    "network_policy = aoss_client.create_security_policy(\n",
    "    name = network_policy_name,\n",
    "    policy = json.dumps(\n",
    "        [\n",
    "            {'Rules': [{'Resource': ['collection/' + vector_store_name],\n",
    "            'ResourceType': 'collection'}],\n",
    "            'AllowFromPublic': True}\n",
    "        ]),\n",
    "    type = 'network'\n",
    ")\n",
    "\n",
    "collection = aoss_client.create_collection(name=vector_store_name,type='VECTORSEARCH')\n",
    "\n",
    "while True:\n",
    "    status = aoss_client.list_collections(collectionFilters={'name':vector_store_name})['collectionSummaries'][0]['status']\n",
    "    if status in ('ACTIVE', 'FAILED'): break\n",
    "    time.sleep(10)\n",
    "\n",
    "access_policy = aoss_client.create_access_policy(\n",
    "    name = access_policy_name,\n",
    "    policy = json.dumps(\n",
    "        [\n",
    "            {\n",
    "                'Rules': [\n",
    "                    {\n",
    "                        'Resource': ['collection/' + vector_store_name],\n",
    "                        'Permission': [\n",
    "                            'aoss:CreateCollectionItems',\n",
    "                            'aoss:DeleteCollectionItems',\n",
    "                            'aoss:UpdateCollectionItems',\n",
    "                            'aoss:DescribeCollectionItems'],\n",
    "                        'ResourceType': 'collection'\n",
    "                    },\n",
    "                    {\n",
    "                        'Resource': ['index/' + vector_store_name + '/*'],\n",
    "                        'Permission': [\n",
    "                            'aoss:CreateIndex',\n",
    "                            'aoss:DeleteIndex',\n",
    "                            'aoss:UpdateIndex',\n",
    "                            'aoss:DescribeIndex',\n",
    "                            'aoss:ReadDocument',\n",
    "                            'aoss:WriteDocument'],\n",
    "                        'ResourceType': 'index'\n",
    "                    }],\n",
    "                'Principal': [identity],\n",
    "                'Description': 'Easy data policy'}\n",
    "        ]),\n",
    "    type = 'data'\n",
    ")\n",
    "\n",
    "host = collection['createCollectionDetail']['id'] + '.' + os.environ.get(\"AWS_DEFAULT_REGION\", None) + '.aoss.amazonaws.com:443'"
   ]
  },
  {
   "cell_type": "code",
   "execution_count": 97,
   "id": "33b23fa4-6e3a-4775-b2e5-7920a2bc767f",
   "metadata": {
    "tags": []
   },
   "outputs": [
    {
     "data": {
      "text/plain": [
       "'f4rkudrfg2b0fp2a8qhi.us-east-1.aoss.amazonaws.com:443'"
      ]
     },
     "execution_count": 97,
     "metadata": {},
     "output_type": "execute_result"
    }
   ],
   "source": [
    "host"
   ]
  },
  {
   "cell_type": "code",
   "execution_count": 110,
   "id": "b0a7ae2e-c79b-45d6-b597-a75e8475ea33",
   "metadata": {
    "tags": []
   },
   "outputs": [
    {
     "data": {
      "text/plain": [
       "[Document(page_content='Công ty Chứng khoán của chúng tôi là công ty chứng khoán An Bình (Viết tắt: ABS) Địa chỉ: 36 Hoàng Cầu, Thành phố Hà Nội\\nEmail: support@abs.vn\\nSố Điện Thoại: (84) 123-456-789\\nGiới thiệu:\\nChúng tôi là một trong những công ty chứng khoán hàng đầu tại Việt Nam. Với hơn 20 năm kinh nghiệm trong lĩnh vực này, chúng tôi luôn cam kết mang đến cho khách hàng dịch vụ tốt nhất và giải pháp đầu tư tối ưu.\\nDịch vụ chính:\\n- Môi giới chứng khoán\\n- Tư vấn đầu tư tài chính\\n- Quản lý danh mục đầu tư\\n- Dịch vụ cơ cấu tài sản\\nSự kiện sắp diễn ra:\\nCuộc họp cổ đông thường niên sẽ được tổ chức vào ngày 10/12/2023 tại khách sạn Bình Minh.\\nCác nhân viên nổi bật:\\n- Ông Nguyễn Văn A: Giám đốc điều hành\\n- Bà Trần Thị B: Phó giám đốc\\n- Anh Phạm C: Trưởng phòng Môi giới\\nĐối tác chiến lược: Công ty Tài chính B, Ngân hàng C và Tổ chức Đầu tư D.\\nMọi thông tin chi tiết về chúng tôi, vui lòng truy cập website chính thức: abs.vn Xu hướng giá cổ phiếu của Công ty Chứng khoán Beta trong tháng 10/2023:\\n- Mã ABC: Cổ phiếu này đã có một xu hướng tăng mạnh mẽ trong hai tuần đầu của tháng, sau đó biến động nhẹ và kết thúc tháng ở mức giá cao.\\n- Mã DEF: Trái ngược với ABC, DEF chứng kiến một sự sụt giảm liên tục qua suốt cả tháng.\\n- Mã GHI: Giữ một mức độ ổn định, không có biến động lớn, mức giá gần như không thay đổi.\\n- Mã JKL: Bắt đầu mạnh mẽ nhưng sau đó gặp một số vấn đề kỹ thuật khiến giá cổ phiếu giảm mạnh trong tuần cuối của tháng.\\nMọi thông tin về cổ phiếu vui lòng truy cập đường link: https://itrade.abs.vn/', metadata={'source': './textdata/text_1.txt'})]"
      ]
     },
     "execution_count": 110,
     "metadata": {},
     "output_type": "execute_result"
    }
   ],
   "source": [
    "docs1"
   ]
  },
  {
   "cell_type": "code",
   "execution_count": 112,
   "id": "57cf170f-d323-4720-9396-56d7c6e8674f",
   "metadata": {
    "tags": []
   },
   "outputs": [
    {
     "data": {
      "text/plain": [
       "[Document(page_content='Giới thiệu chung:\\nĐược thành lập từ năm 1993, cho đến nay Ngân hàng TMCP An Bình (ABBANK) đã và đang đóng góp cho thị trường tài chính Việt Nam một thương hiệu Ngân hàng bán lẻ thân thiện, uy tín và hiệu quả.\\n\\nCùng với sự phát triển uy tín thương hiệu, chất lượng môi trường làm việc tại ABBANK cũng liên tục được các tổ chức uy tín trong và ngoài nước đánh giá cao những năm gần đây: Năm 2021, ABBANK lọt vào danh sách 25 Thương hiệu Tài chính dẫn đầu tại Việt Nam theo công bố của Tạp chí Tài chính Forbes Việt Nam với giá trị thương hiệu ước đạt 39,4 triệu USD; ABBANK là 1 trong 10 ngân hàng ngoài quốc doanh có Chỉ số thương hiệu tốt nhất và Top 13 Ngân hàng có chỉ số thương hiệu tốt nhất (Theo báo cáo xếp hạng của Mibrand năm 2021); ABBANK cũng được tạp chí HR Asia chứng nhận là một trong những Nơi làm việc tốt nhất Châu Á kể từ năm 2020.\\n\\nVới nguồn lực tài chính vững mạnh, các đối tác chiến lược là các định chế tài chính lớn, các tập đoàn uy tín trên Thế giới và Việt Nam như Tổ chức Tài chính Quốc tế (IFC), Ngân hàng Malaysia – Maybank, Tập đoàn Geleximco – Công ty Cổ phần; ABBANK cũng không ngừng hoàn thiện hệ thống, nâng cao chất lượng quản trị và vận hành theo thông lệ quốc tế..\\n\\nTheo đuổi mục tiêu gia nhập nhóm ngân hàng cung cấp các sản phẩm dịch vụ ngân hàng số hàng đầu tại thị trường Việt Nam, ABBANK hiện đang mở rộng đầu tư vào lĩnh vực chuyển đổi số nhằm mang đến những trải nghiệm tối ưu nhất cho khách hàng.\\n\\nỞ cột mốc 30 năm thành lập, ABBANK sở hữu một nền tảng công nghệ thông tin hiện đại; đội ngũ nhân sự tâm huyết và am hiểu nghiệp vụ, cùng với đó là hệ thống sản phẩm dịch vụ giải pháp tài chính tiện ích, hiệu quả và linh hoạt với mạng lưới điểm giao dịch rộng khắp trên toàn quốc nhằm phục vụ phương châm “Khách hàng là trọng tâm”.', metadata={'source': './textdata/text_2.txt'}),\n",
       " Document(page_content='VỐN ĐIỀU LỆ: 10.350 tỷ đồng \\nCỔ ĐÔNG CHIẾN LƯỢC:\\n· Tập đoàn Geleximco - Công ty cổ phần\\n· Ngân hàng Malaysia Berhad (MayBank) - Ngân hàng lớn nhất Malaysia\\n· Tổ chức Tài chính Quốc tế (IFC) trực thuộc Ngân hàng Thế giới (World Bank)\\nMẠNG LƯỚI GIAO DỊCH: 165 điểm tại 34 tỉnh/thành phố \\n\\n\\nLịch sử phát triển\\n2023:\\nABBANK kỷ niệm 30 năm thành lập (13/5/1993 - 13/5/2023). Tăng vốn điều lệ lên 10.350 tỷ đồng.\\n\\n2022:\\nABBANK tăng vốn điều lệ lên 9.409 tỷ đồng. Công bố 5 Giá trị cốt lõi mới và các chuẩn mực hành vi tương ứng trong thời kỳ phát triển mới của ABBANK, với chiến lược lấy Khách hàng là trọng tâm cho mọi hoạt động kinh doanh. Tết An Bình năm thứ 13 với chủ đề “Gieo mầm xanh hy vọng” được tổ chức thành công. Tháng 11/2022, ABBANK là một trong bốn ngân hàng Việt Nam đầu tiên chính thức đưa vào vận hành ứng dụng xác thực trước thanh toán (SWIFT Payment Pre-validation), giúp loại bỏ những sự cố, xung đột trong thanh toán quốc tế thông qua việc xác minh các thông tin về người thụ hưởng.\\n\\n2021:\\nABBANK tăng vốn điều lệ lên 6.970 tỷ đồng. Được công nhận “tuân thủ hoàn toàn” cả 3 trụ cột chính của Basel II gồm: Quy định tỷ lệ an toàn vốn. (CAR); Đánh giá nội bộ về mức đủ vốn (ICAAP); Nguyên tắc thị trường (Minh bạch và kỷ luật).\\n\\n2020:\\nABBANK công bố mục tiêu chiến lược giai đoạn 2021-2025. Triển khai thành công các dự án lớn về Công nghệ thông tin và Quản trị rủi ro theo tiêu chuẩn Basel II, đáp ứng yêu cầu Thông tư 13/2018/TT-NHNN và Thông tư 41/2016/TT-NHNN của NHNN. ABBANK thực hiện giao dịch tập trung cổ phiếu Ngân hàng với mã ABB trên sàn UPCoM.', metadata={'source': './textdata/text_2.txt'}),\n",
       " Document(page_content='2019:\\nABBANK tăng vốn điều lệ lên 5.713 tỷ đồng. Ngày 28/05/2019, ABBANK là 1 trong 7 Ngân hàng đầu tiên chuyển đổi thành công Thẻ Từ nội địa sang Thẻ Chip nội địa theo tiêu chuẩn VCCS của NHNN. Tết An Bình được tổ chức năm thứ 10 liên tiếp. ABBANK Family Day được tổ chức năm thứ 2, mang lại dấu ấn tốt trong cộng đồng. Triển khai thành công Hệ thống tính toán tài sản có rủi ro (RWA) – Basel II.\\n\\n2018:\\nABBANK kỷ niệm 25 năm thành lập (13/05/1993 – 13/05/2018). Cuối tháng 5/2018, ABBANK triển khai dịch vụ Nộp thuế hải quan điện tử 24/7 và chính thức trở thành 1 trong 15 ngân hàng đầu tiên tại Việt Nam triển khai dịch vụ này. Năm đầu tiên phát động và tổ chức ngày hội cộng đồng ABBANK Family Day.\\n\\n2017:\\nMạng lưới ABBANK đạt 165 điểm giao dịch tại 34 tỉnh/thành trên toàn quốc. \\n\\n2016:\\nABBANK tăng vốn điều lệ lên 5.319 tỷ đồng. Mạng lưới mở rộng lên 159 điểm giao dịch tại 33 tỉnh/thành phố.\\n\\n2015:\\nABBANK là ngân hàng đầu tiên tại Việt Nam triển khai dịch vụ thanh toán tiền điện trên hệ thống ATM/POS của ABBANK dành cho chủ sở hữu thẻ mang thương hiệu VISA.\\n\\n2014:\\nABBANK công bố Tầm nhìn, Sứ mệnh, Mục tiêu và các Sáng kiến chiến lược giai đoạn 2014 – 2018. Tháng 12/2014, ABBANK là một trong 4 Ngân hàng đầu tiên của Việt Nam triển khai dịch vụ Chuyển khoản liên quốc gia.\\n\\n2013:\\nNgày 26/04/2013, ABBANK tăng vốn điều lệ lên gần 4.800 tỷ đồng. IFC chính thức trở thành Cổ đông lớn của ABBANK, sở hữu 10% vốn điều lệ. Maybank duy trì tỷ lệ sở hữu 20%, tiếp tục giữ vai trò Cổ đông chiến lược của ABBANK. ABBANK kỷ niệm 20 năm thành lập (13/05/1993 – 13/05/2013).\\n\\n2012:\\nMạng lưới giao dịch của ABBANK đạt 140 điểm giao dịch tại 29 tỉnh/thành trên toàn quốc. \\n\\n2011:\\nABBANK tăng vốn điều lệ lên 4.200 tỷ đồng.', metadata={'source': './textdata/text_2.txt'}),\n",
       " Document(page_content='2012:\\nMạng lưới giao dịch của ABBANK đạt 140 điểm giao dịch tại 29 tỉnh/thành trên toàn quốc. \\n\\n2011:\\nABBANK tăng vốn điều lệ lên 4.200 tỷ đồng.\\n\\n2010:\\nABBANK phát hành thành công trái phiếu chuyển đổi với tổng mệnh giá 600 tỷ đồng cho Tổ chức Tài chính Quốc tế (IFC) và Ngân hàng Maybank. Maybank tiếp tục duy trì tỷ lệ sở hữu cổ phần 20% tại ABBANK. ABBANK tăng vốn điều lệ lên 3.831 tỷ đồng. Năm đầu tiên phát động và tổ chức Chương trình Tết An Bình.\\n\\n2009:\\nABBANK tăng vốn điều lệ lên 3.482 tỷ đồng. MayBank nâng tỷ lệ sở hữu cổ phần tại ABBANK từ 15% lên 20% vào cuối năm 2009\\n\\n2008:\\nABBANK triển khai thành công phần mềm ngân hàng lõi (Core Banking) trong hoạt động của Ngân hàng. Ngân hàng Malayan Banking Berhad (Maybank) chính thức trở thành Cổ đông chiến lược nước ngoài của ABBANK với tỷ lệ sở hữu cổ phần là 15%. ABBANK tăng vốn điều lệ lên 2.705 tỷ đồng.\\n\\n2007:\\nABBANK tăng vốn lên 2.300 tỷ đồng. Tổng tài sản vượt ngưỡng 1 tỷ USD (hơn 16.000 tỷ đồng theo tỷ giá năm 2007). \\n\\n2006:\\nABBANK tăng vốn điều lệ lên 1.131 tỷ đồng.\\n\\n2005:\\nTừ một ngân hàng nông thôn, ABBANK được nâng cấp thành ngân hàng quy mô đô thị. Sự gia nhập của các Cổ đông chiến lược trong nước: Tập đoàn Điện lực Việt Nam (EVN), Công ty Cổ phần xuất nhập khẩu tổng hợp Hà Nội (nay là Tập đoàn Geleximco – Công ty Cổ phần). Vốn điều lệ của ABBANK đạt 165 tỷ đồng.\\n\\n2004:\\nTừ vốn điều lệ 5 tỷ đồng năm 2002, đến năm 2004 ABBANK đã nâng vốn điều lệ lên 70,04 tỷ đồng.\\n\\n1993:\\nNgân hàng Thương mại Cổ phần An Bình (ABBANK) được thành lập theo giấy phép số 535/GP-UB do UBND TP. HCM cấp vào ngày 13 tháng 5 năm 1993. Vốn điều lệ: 1 tỷ đồng. \\n\\n\\nTầm nhìn - Sứ mệnh :\\n\\n# Tầm nhìn\\nTrở thành Ngân hàng Thương mại Cổ phần hàng đầu tại Việt Nam, tập trung vào lĩnh vực bán lẻ.', metadata={'source': './textdata/text_2.txt'}),\n",
       " Document(page_content='Tầm nhìn - Sứ mệnh :\\n\\n# Tầm nhìn\\nTrở thành Ngân hàng Thương mại Cổ phần hàng đầu tại Việt Nam, tập trung vào lĩnh vực bán lẻ.\\n\\n# Sứ mệnh\\nCung cấp các giải pháp tài chính Hiệu quả, Nhanh và Phù hợp với nhu cầu khách hàng\\n\\n# Tôn chỉ hoạt động\\nPhục vụ khách hàng với sản phẩm, dịch vụ an toàn, hiệu quả và linh hoạt Tăng trưởng lợi ích cho cổ đông\\nHướng đến sự phát triển toàn diện, bền vững của ngân hàng\\nĐầu tư vào yếu tố con người làm nền tảng cho sự phát triển lâu dài\\n\\n# Giá trị cốt lõi\\n05 giá trị cốt lõi của ABBANK trong hoạt động kinh doanh:\\n- Khách hàng là trọng tâm\\nAm hiểu khách hàng – Nâng cao trải nghiệm hạnh phúc. Phục vụ tận tâm – Giải pháp toàn diện.\\n- Cộng tác cùng phát triển\\nTính đồng đội sẽ tạo nên sức mạnh tập thể.\\n- Linh hoạt và thích ứng\\nTư duy đổi mới để giải quyết linh hoạt các mối quan hệ và thích ứng với từng biến động.\\n- Nhân sự là tài sản\\nCon người là gốc rễ cho mọi sự phát triển. Năng lực cao, tư duy sáng tạo sẽ tạo ra lợi thế cạnh tranh và thành công bứt phá cho tổ chức.\\n- Kỷ luật để chiến thắng\\nĐặt ra quy tắc cho bản thân để rèn luyện ý chí. Tôn trọng nguyên tắc và mục tiêu chung để cùng nhau thành công.', metadata={'source': './textdata/text_2.txt'}),\n",
       " Document(page_content='Giải thưởng \\n2022:\\n- Tháng 3/2022, ABBANK được vinh danh là 1 trong số 100 doanh nghiệp tiêu biểu trên cả nước nhận giải thưởng Sao Vàng đất Việt 2021 – Giải thưởng về tài trợ xuất nhập khẩu của Ngân hàng Phát triển Châu Á\\n- Tháng 09/2022, ABBANK vinh dự được Ngân hàng Phát triển Châu Á (ADB) trao giải thưởng “Trade Deal of the Year” dành cho ngân hàng có thành tích về giao dịch nổi bật nhất trong hoạt động tài trợ xuất nhập khẩu, cùng với đối tác DBS Bank Ltd (Singapore)\\n- Năm thứ 3 liên tiếp được tạp chí HR Asia vinh danh là một trong những Nơi làm việc tốt nhất Châu Á 2022 – Best Companies to Work for 2022\\n- Nhận giải thưởng “Ngân hàng có tỷ lệ tăng trưởng doanh số thẻ cao nhất năm 2022” do Tổ chức Thẻ quốc tế VISA trao tặng. Để đạt thành quả này, riêng doanh thu thẻ của ABBANK trong 9 tháng đầu năm 2022 đã đạt con số tăng trưởng khá ấn tượng - tăng hơn 278% so với cùng kỳ năm 2021\\n- Sức khỏe thương hiệu của ABBANK đứng vị trí thứ 13 trong số 30 ngân hàng ngoài quốc doanh tại Việt Nam. Chỉ số Thấu hiểu hình ảnh thương hiệu ABBANK 2022 đạt 35%, tăng 20% so với năm 2021 (Theo Báo cáo Đánh giá sức khỏe thương hiệu 2022 của Mibrand\\n\\n2021:\\n- Năm thứ 2 liên tiếp được tạp chí HR Asia vinh danh là một trong những Nơi làm việc tốt nhất Châu Á 2021 – Best Companies to Work for 2021\\n- Lọt top 10 Ngân hàng ngoài quốc doanh có chỉ số thương hiệu tốt nhất và top 13 ngân hàng có chỉ số thương hiệu tốt nhất theo báo cáo xếp hạng của Mibrand', metadata={'source': './textdata/text_2.txt'}),\n",
       " Document(page_content='2020:\\n- Chứng nhận là một trong những Nơi làm việc tốt nhất Châu Á 2020 – Best Companies to Work for in Asia 2020 do Tạp chí HR Asia trao tặng\\n- Chứng chỉ đạt chuẩn Bảo mật dữ liệu thẻ PCIDSS (Payment Card Industry Data Security Standard)\\n- Chứng nhận có Hệ thống Quản lý An toàn thông tin theo tiêu chuẩn ISO/IEC 27001:2013 - tiêu chuẩn quốc tế duy nhất dùng để đánh giá và đưa ra những yêu cầu đối với Hệ thống Quản lý An toàn thông tin (ISMS)\\n\\n2019:\\n- Giải thưởng “Doanh nghiệp vì cộng đồng” do tạp chí Kinh tế Sài Gòn trao tặng\\n- Tiếp tục được Moody’s duy trì đánh giá chung ở mức b1\\n\\n2018:\\n- Giải thưởng “Best SME Product Việt Nam” năm thứ hai liên tiếp do tạp chí International Finance Magazine trao tặng\\n- Giải thưởng “Ngân hàng phát triển Bán lẻ tốt nhất Việt Nam” năm thứ 3 liên tiếp & “Ngân hàng Dịch vụ khách hàng tốt nhất Việt Nam 2018” do Global Banking and Finance Review trao tặng\\n- ABBANK tiếp tục được Moody’s đánh giá tích cực và nâng hạng ở các chỉ số: Xếp hạng Tín nhiệm cơ sở (BCA) được nâng từ b2 lên b1; Xếp hạng Rủi ro Đối tác nội – ngoại tệ dài hạn (CRR – Counterparty Risk Ratings) được nâng lên mức Ba; Xếp hạng tiền gửi ngoại tệ, Tiền gửi nội tệ và Đối tác phát hành được nâng lên mức B1 – mức tích cực trong hệ thống ngân hàng tại Việt Nam. Đồng thời, triển vọng của ABBANK tiếp tục được đánh giá là Ổn định.', metadata={'source': './textdata/text_2.txt'}),\n",
       " Document(page_content='2017:\\n- Giải thưởng “Ngân hàng phát triển bán lẻ tốt nhất Việt Nam” năm thứ hai liên tiếp do Global Banking and Finance Review bình chọn\\n- Giải thưởng “Best SME Product Việt Nam 2017” do tạp chí International Finance Magazine trao tặng.\\n- ABBANK được Moody’s nâng mức triển vọng đánh giá, tiếp tục nằm trong Top 5 các NHTMCP tư doanh xếp hạng tín nhiệm cao nhất tại Việt Nam.\\n- Giải thưởng Top 10 thương hiệu dẫn đầu Việt Nam – Vietnam Leading Brands 2017 do Hội đồng Liên hiệp Khoa học Phát triển Doanh nghiệp Việt Nam trao tặng.\\n- Chứng nhận Đối tác Thanh toán xuất sắc khu vực Đông Nam Á do MayBank trao tặng. \\n\\n2016:\\n- Giải thưởng “Ngân hàng phát triển bán lẻ tốt nhất Việt Nam 2016” do Global Banking and Finance Review bình chọn\\n- Giải thưởng Thương hiệu uy tín - Chất lượng APEC 2016 do phòng Thương mại Việt Nam – Hoa Kỳ, Hội hữu nghị Việt Nam Đông Nam Á, Mạng Hội đồng doanh nghiệp Asean, Mạng hội đồng doanh nghiệp Việt Nam phối hợp trao tặng.\\n- Moody’s nâng xếp hạng tín nhiệm, ABBANK tiếp tục nằm trong nhóm NHTMCP có xếp hạng tín nhiệm cao nhất.\\n\\n2015:\\n- ABBANK lần đầu được Moody’s xếp hạng tín nhiệm, nằm trong nhóm tín nhiệm cao nhất hệ thống NHTMCP Việt Nam, tính trên 03 chỉ số quan trọng: Sức mạnh tài chính cơ sở (B3), Tín nhiệm tiền gửi nội tệ và ngoại tệ (B2), Tín nhiệm tổ chức phát hành nội tệ và ngoại tệ (B2). Đồng thời, triển vọng của ABBANK được Moody’s đánh giá là Ổn định\\n- Chứng nhận Ngân hàng dẫn đầu về cung cấp tiện ích cho khách hàng - Ngân hàng đã triển khai thành công dịch vụ thanh toán tiền điện bằng thẻ VISA 2015 do Tổ chức thẻ Quốc tế VISA trao tặng.\\n- Giải thưởng Doanh nghiệp Chất lượng - Qmix 100 do Viện Nghiên cứu Kinh tế, Global GTA (Anh), InterConformity (CHLB Đức) phối hợp trao tặng.', metadata={'source': './textdata/text_2.txt'}),\n",
       " Document(page_content='2014:\\n- Top 300 thương hiệu hàng đầu Việt Nam do tạp chí Công Thương - Bộ Công Thương trao tặng.\\n- Top 500 doanh nghiệp lớn nhất Việt Nam - VNR 500\\n- Chứng nhận là Một trong 10 thành viên mua bán trái phiếu Chính Phủ lớn nhất thị trường trong nước - Theo số liệu báo cáo của HNX.\\n- Giải thưởng Thương hiệu mạnh Việt Nam do Thời báo kinh tế Việt Nam phối hợp với Cục xúc tiến Thương mại (Bộ Công Thương) trao tặng. \\n\\n2013:\\n- Doanh nghiệp Thành phố Hồ Chí Minh tiêu biểu 2013 do Hiệp hội Doanh nghiệp TP. Hồ Chí Minh phối hợp cùng Hội đồng thi đua khen thưởng TP. Hồ Chí Minh trao tặng.\\n- Chứng nhận Ngân hàng có hoạt động TTQT xuất sắc 2013 do ngân hàng Wells Fargo (Mỹ) trao tặng.\\n- Thương hiệu mạnh Việt Nam do Thời báo kinh tế Việt Nam phối hợp với Cục xúc tiến Thương mại (Bộ Công Thương) trao tặng.\\n- Top 500 doanh nghiệp lớn nhất Việt Nam - VNR500\\n\\n- Thương hiệu nổi tiếng ASEAN 2013 do Hội phát triển Hợp tác kinh tế Việt Nam - Lào - Campuchia trao tặng.\\n2012:\\n- Thương hiệu mạnh Việt Nam do Thời báo Kinh tế Việt Nam phối hợp với Cục xúc tiến Thương mại (Bộ Công Thương) trao tặng.\\n- Top 500 Doanh nghiệp lớn nhất Việt Nam - VNR 500\\n- Chứng nhận Ngân hàng có hoạt động TTQT xuất sắc 2012 do ngân hàng Wells Fargo (Mỹ) trao tặng. \\n\\n2011:\\n- Thương hiệu mạnh Việt Nam do Thời báo kinh tế Việt Nam phối hợp với Cục xúc tiến Thương mại (Bộ Công Thương) trao tặng.\\n- Chứng nhận Ngân hàng có hoạt động TTQT xuất sắc 2011 do các ngân hàng Citibank (Mỹ), Wells Fargo (Mỹ) và HSBC trao tặng.\\n- Top 1000 doanh nghiệp nộp thuế lớn nhất Việt Nam 2011 công bố bởi báo VietNamNet với sự phối hợp của Tạp chí thuế - Tổng cục thuế.', metadata={'source': './textdata/text_2.txt'}),\n",
       " Document(page_content='2010:\\n- Thương hiệu mạnh Việt Nam do Thời báo kinh tế Việt Nam phối hợp với Cục xúc tiến Thương mại (Bộ Công Thương) trao tặng.\\n- Nhãn hiệu cạnh tranh nổi tiếng quốc gia do Cục Sở hữu trí tuệ Việt Nam trao tặng.\\n- Thương hiệu Việt được yêu thích do Báo Sài Gòn Giải phóng trao tặng.\\n- Giải thưởng Doanh nghiệp Thương mại Dịch vụ tiêu biểu - Top Trade Services 2010 do Bộ Công Thương trao tặng.\\n- Chứng nhận Ngân hàng đạt chuẩn điện Thanh toán quốc tế xuất sắc do các ngân hàng Wells Fargo và Citibank trao tặng.', metadata={'source': './textdata/text_2.txt'})]"
      ]
     },
     "execution_count": 112,
     "metadata": {},
     "output_type": "execute_result"
    }
   ],
   "source": [
    "docs2"
   ]
  },
  {
   "cell_type": "code",
   "execution_count": 113,
   "id": "1a1ae0e2-1b46-4eec-ad1f-465745dd7dc7",
   "metadata": {},
   "outputs": [],
   "source": [
    "from opensearchpy import OpenSearch, RequestsHttpConnection, AWSV4SignerAuth\n",
    "from langchain.vectorstores import OpenSearchVectorSearch\n",
    "\n",
    "import langchain \n",
    "\n",
    "\n",
    "service = 'aoss'\n",
    "credentials = boto3.Session().get_credentials()\n",
    "auth = AWSV4SignerAuth(credentials, \"us-east-1\",  service)\n",
    "\n",
    "docsearch = OpenSearchVectorSearch.from_documents(\n",
    "    docs2,\n",
    "    infloat_batch_embeddings,\n",
    "    bulk_size=1000,\n",
    "    opensearch_url=host,\n",
    "    http_auth=auth,\n",
    "    timeout = 100,\n",
    "    use_ssl = True,\n",
    "    verify_certs = True,\n",
    "    connection_class = RequestsHttpConnection,\n",
    "    index_name=index_name,\n",
    "    engine=\"faiss\",\n",
    ")\n",
    "\n"
   ]
  },
  {
   "cell_type": "markdown",
   "metadata": {},
   "source": []
  },
  {
   "cell_type": "code",
   "execution_count": null,
   "id": "defdf14f-a471-49f8-8931-abdd555775b8",
   "metadata": {},
   "outputs": [],
   "source": []
  }
 ],
 "metadata": {
  "availableInstances": [
   {
    "_defaultOrder": 0,
    "_isFastLaunch": true,
    "category": "General purpose",
    "gpuNum": 0,
    "hideHardwareSpecs": false,
    "memoryGiB": 4,
    "name": "ml.t3.medium",
    "vcpuNum": 2
   },
   {
    "_defaultOrder": 1,
    "_isFastLaunch": false,
    "category": "General purpose",
    "gpuNum": 0,
    "hideHardwareSpecs": false,
    "memoryGiB": 8,
    "name": "ml.t3.large",
    "vcpuNum": 2
   },
   {
    "_defaultOrder": 2,
    "_isFastLaunch": false,
    "category": "General purpose",
    "gpuNum": 0,
    "hideHardwareSpecs": false,
    "memoryGiB": 16,
    "name": "ml.t3.xlarge",
    "vcpuNum": 4
   },
   {
    "_defaultOrder": 3,
    "_isFastLaunch": false,
    "category": "General purpose",
    "gpuNum": 0,
    "hideHardwareSpecs": false,
    "memoryGiB": 32,
    "name": "ml.t3.2xlarge",
    "vcpuNum": 8
   },
   {
    "_defaultOrder": 4,
    "_isFastLaunch": true,
    "category": "General purpose",
    "gpuNum": 0,
    "hideHardwareSpecs": false,
    "memoryGiB": 8,
    "name": "ml.m5.large",
    "vcpuNum": 2
   },
   {
    "_defaultOrder": 5,
    "_isFastLaunch": false,
    "category": "General purpose",
    "gpuNum": 0,
    "hideHardwareSpecs": false,
    "memoryGiB": 16,
    "name": "ml.m5.xlarge",
    "vcpuNum": 4
   },
   {
    "_defaultOrder": 6,
    "_isFastLaunch": false,
    "category": "General purpose",
    "gpuNum": 0,
    "hideHardwareSpecs": false,
    "memoryGiB": 32,
    "name": "ml.m5.2xlarge",
    "vcpuNum": 8
   },
   {
    "_defaultOrder": 7,
    "_isFastLaunch": false,
    "category": "General purpose",
    "gpuNum": 0,
    "hideHardwareSpecs": false,
    "memoryGiB": 64,
    "name": "ml.m5.4xlarge",
    "vcpuNum": 16
   },
   {
    "_defaultOrder": 8,
    "_isFastLaunch": false,
    "category": "General purpose",
    "gpuNum": 0,
    "hideHardwareSpecs": false,
    "memoryGiB": 128,
    "name": "ml.m5.8xlarge",
    "vcpuNum": 32
   },
   {
    "_defaultOrder": 9,
    "_isFastLaunch": false,
    "category": "General purpose",
    "gpuNum": 0,
    "hideHardwareSpecs": false,
    "memoryGiB": 192,
    "name": "ml.m5.12xlarge",
    "vcpuNum": 48
   },
   {
    "_defaultOrder": 10,
    "_isFastLaunch": false,
    "category": "General purpose",
    "gpuNum": 0,
    "hideHardwareSpecs": false,
    "memoryGiB": 256,
    "name": "ml.m5.16xlarge",
    "vcpuNum": 64
   },
   {
    "_defaultOrder": 11,
    "_isFastLaunch": false,
    "category": "General purpose",
    "gpuNum": 0,
    "hideHardwareSpecs": false,
    "memoryGiB": 384,
    "name": "ml.m5.24xlarge",
    "vcpuNum": 96
   },
   {
    "_defaultOrder": 12,
    "_isFastLaunch": false,
    "category": "General purpose",
    "gpuNum": 0,
    "hideHardwareSpecs": false,
    "memoryGiB": 8,
    "name": "ml.m5d.large",
    "vcpuNum": 2
   },
   {
    "_defaultOrder": 13,
    "_isFastLaunch": false,
    "category": "General purpose",
    "gpuNum": 0,
    "hideHardwareSpecs": false,
    "memoryGiB": 16,
    "name": "ml.m5d.xlarge",
    "vcpuNum": 4
   },
   {
    "_defaultOrder": 14,
    "_isFastLaunch": false,
    "category": "General purpose",
    "gpuNum": 0,
    "hideHardwareSpecs": false,
    "memoryGiB": 32,
    "name": "ml.m5d.2xlarge",
    "vcpuNum": 8
   },
   {
    "_defaultOrder": 15,
    "_isFastLaunch": false,
    "category": "General purpose",
    "gpuNum": 0,
    "hideHardwareSpecs": false,
    "memoryGiB": 64,
    "name": "ml.m5d.4xlarge",
    "vcpuNum": 16
   },
   {
    "_defaultOrder": 16,
    "_isFastLaunch": false,
    "category": "General purpose",
    "gpuNum": 0,
    "hideHardwareSpecs": false,
    "memoryGiB": 128,
    "name": "ml.m5d.8xlarge",
    "vcpuNum": 32
   },
   {
    "_defaultOrder": 17,
    "_isFastLaunch": false,
    "category": "General purpose",
    "gpuNum": 0,
    "hideHardwareSpecs": false,
    "memoryGiB": 192,
    "name": "ml.m5d.12xlarge",
    "vcpuNum": 48
   },
   {
    "_defaultOrder": 18,
    "_isFastLaunch": false,
    "category": "General purpose",
    "gpuNum": 0,
    "hideHardwareSpecs": false,
    "memoryGiB": 256,
    "name": "ml.m5d.16xlarge",
    "vcpuNum": 64
   },
   {
    "_defaultOrder": 19,
    "_isFastLaunch": false,
    "category": "General purpose",
    "gpuNum": 0,
    "hideHardwareSpecs": false,
    "memoryGiB": 384,
    "name": "ml.m5d.24xlarge",
    "vcpuNum": 96
   },
   {
    "_defaultOrder": 20,
    "_isFastLaunch": false,
    "category": "General purpose",
    "gpuNum": 0,
    "hideHardwareSpecs": true,
    "memoryGiB": 0,
    "name": "ml.geospatial.interactive",
    "supportedImageNames": [
     "sagemaker-geospatial-v1-0"
    ],
    "vcpuNum": 0
   },
   {
    "_defaultOrder": 21,
    "_isFastLaunch": true,
    "category": "Compute optimized",
    "gpuNum": 0,
    "hideHardwareSpecs": false,
    "memoryGiB": 4,
    "name": "ml.c5.large",
    "vcpuNum": 2
   },
   {
    "_defaultOrder": 22,
    "_isFastLaunch": false,
    "category": "Compute optimized",
    "gpuNum": 0,
    "hideHardwareSpecs": false,
    "memoryGiB": 8,
    "name": "ml.c5.xlarge",
    "vcpuNum": 4
   },
   {
    "_defaultOrder": 23,
    "_isFastLaunch": false,
    "category": "Compute optimized",
    "gpuNum": 0,
    "hideHardwareSpecs": false,
    "memoryGiB": 16,
    "name": "ml.c5.2xlarge",
    "vcpuNum": 8
   },
   {
    "_defaultOrder": 24,
    "_isFastLaunch": false,
    "category": "Compute optimized",
    "gpuNum": 0,
    "hideHardwareSpecs": false,
    "memoryGiB": 32,
    "name": "ml.c5.4xlarge",
    "vcpuNum": 16
   },
   {
    "_defaultOrder": 25,
    "_isFastLaunch": false,
    "category": "Compute optimized",
    "gpuNum": 0,
    "hideHardwareSpecs": false,
    "memoryGiB": 72,
    "name": "ml.c5.9xlarge",
    "vcpuNum": 36
   },
   {
    "_defaultOrder": 26,
    "_isFastLaunch": false,
    "category": "Compute optimized",
    "gpuNum": 0,
    "hideHardwareSpecs": false,
    "memoryGiB": 96,
    "name": "ml.c5.12xlarge",
    "vcpuNum": 48
   },
   {
    "_defaultOrder": 27,
    "_isFastLaunch": false,
    "category": "Compute optimized",
    "gpuNum": 0,
    "hideHardwareSpecs": false,
    "memoryGiB": 144,
    "name": "ml.c5.18xlarge",
    "vcpuNum": 72
   },
   {
    "_defaultOrder": 28,
    "_isFastLaunch": false,
    "category": "Compute optimized",
    "gpuNum": 0,
    "hideHardwareSpecs": false,
    "memoryGiB": 192,
    "name": "ml.c5.24xlarge",
    "vcpuNum": 96
   },
   {
    "_defaultOrder": 29,
    "_isFastLaunch": true,
    "category": "Accelerated computing",
    "gpuNum": 1,
    "hideHardwareSpecs": false,
    "memoryGiB": 16,
    "name": "ml.g4dn.xlarge",
    "vcpuNum": 4
   },
   {
    "_defaultOrder": 30,
    "_isFastLaunch": false,
    "category": "Accelerated computing",
    "gpuNum": 1,
    "hideHardwareSpecs": false,
    "memoryGiB": 32,
    "name": "ml.g4dn.2xlarge",
    "vcpuNum": 8
   },
   {
    "_defaultOrder": 31,
    "_isFastLaunch": false,
    "category": "Accelerated computing",
    "gpuNum": 1,
    "hideHardwareSpecs": false,
    "memoryGiB": 64,
    "name": "ml.g4dn.4xlarge",
    "vcpuNum": 16
   },
   {
    "_defaultOrder": 32,
    "_isFastLaunch": false,
    "category": "Accelerated computing",
    "gpuNum": 1,
    "hideHardwareSpecs": false,
    "memoryGiB": 128,
    "name": "ml.g4dn.8xlarge",
    "vcpuNum": 32
   },
   {
    "_defaultOrder": 33,
    "_isFastLaunch": false,
    "category": "Accelerated computing",
    "gpuNum": 4,
    "hideHardwareSpecs": false,
    "memoryGiB": 192,
    "name": "ml.g4dn.12xlarge",
    "vcpuNum": 48
   },
   {
    "_defaultOrder": 34,
    "_isFastLaunch": false,
    "category": "Accelerated computing",
    "gpuNum": 1,
    "hideHardwareSpecs": false,
    "memoryGiB": 256,
    "name": "ml.g4dn.16xlarge",
    "vcpuNum": 64
   },
   {
    "_defaultOrder": 35,
    "_isFastLaunch": false,
    "category": "Accelerated computing",
    "gpuNum": 1,
    "hideHardwareSpecs": false,
    "memoryGiB": 61,
    "name": "ml.p3.2xlarge",
    "vcpuNum": 8
   },
   {
    "_defaultOrder": 36,
    "_isFastLaunch": false,
    "category": "Accelerated computing",
    "gpuNum": 4,
    "hideHardwareSpecs": false,
    "memoryGiB": 244,
    "name": "ml.p3.8xlarge",
    "vcpuNum": 32
   },
   {
    "_defaultOrder": 37,
    "_isFastLaunch": false,
    "category": "Accelerated computing",
    "gpuNum": 8,
    "hideHardwareSpecs": false,
    "memoryGiB": 488,
    "name": "ml.p3.16xlarge",
    "vcpuNum": 64
   },
   {
    "_defaultOrder": 38,
    "_isFastLaunch": false,
    "category": "Accelerated computing",
    "gpuNum": 8,
    "hideHardwareSpecs": false,
    "memoryGiB": 768,
    "name": "ml.p3dn.24xlarge",
    "vcpuNum": 96
   },
   {
    "_defaultOrder": 39,
    "_isFastLaunch": false,
    "category": "Memory Optimized",
    "gpuNum": 0,
    "hideHardwareSpecs": false,
    "memoryGiB": 16,
    "name": "ml.r5.large",
    "vcpuNum": 2
   },
   {
    "_defaultOrder": 40,
    "_isFastLaunch": false,
    "category": "Memory Optimized",
    "gpuNum": 0,
    "hideHardwareSpecs": false,
    "memoryGiB": 32,
    "name": "ml.r5.xlarge",
    "vcpuNum": 4
   },
   {
    "_defaultOrder": 41,
    "_isFastLaunch": false,
    "category": "Memory Optimized",
    "gpuNum": 0,
    "hideHardwareSpecs": false,
    "memoryGiB": 64,
    "name": "ml.r5.2xlarge",
    "vcpuNum": 8
   },
   {
    "_defaultOrder": 42,
    "_isFastLaunch": false,
    "category": "Memory Optimized",
    "gpuNum": 0,
    "hideHardwareSpecs": false,
    "memoryGiB": 128,
    "name": "ml.r5.4xlarge",
    "vcpuNum": 16
   },
   {
    "_defaultOrder": 43,
    "_isFastLaunch": false,
    "category": "Memory Optimized",
    "gpuNum": 0,
    "hideHardwareSpecs": false,
    "memoryGiB": 256,
    "name": "ml.r5.8xlarge",
    "vcpuNum": 32
   },
   {
    "_defaultOrder": 44,
    "_isFastLaunch": false,
    "category": "Memory Optimized",
    "gpuNum": 0,
    "hideHardwareSpecs": false,
    "memoryGiB": 384,
    "name": "ml.r5.12xlarge",
    "vcpuNum": 48
   },
   {
    "_defaultOrder": 45,
    "_isFastLaunch": false,
    "category": "Memory Optimized",
    "gpuNum": 0,
    "hideHardwareSpecs": false,
    "memoryGiB": 512,
    "name": "ml.r5.16xlarge",
    "vcpuNum": 64
   },
   {
    "_defaultOrder": 46,
    "_isFastLaunch": false,
    "category": "Memory Optimized",
    "gpuNum": 0,
    "hideHardwareSpecs": false,
    "memoryGiB": 768,
    "name": "ml.r5.24xlarge",
    "vcpuNum": 96
   },
   {
    "_defaultOrder": 47,
    "_isFastLaunch": false,
    "category": "Accelerated computing",
    "gpuNum": 1,
    "hideHardwareSpecs": false,
    "memoryGiB": 16,
    "name": "ml.g5.xlarge",
    "vcpuNum": 4
   },
   {
    "_defaultOrder": 48,
    "_isFastLaunch": false,
    "category": "Accelerated computing",
    "gpuNum": 1,
    "hideHardwareSpecs": false,
    "memoryGiB": 32,
    "name": "ml.g5.2xlarge",
    "vcpuNum": 8
   },
   {
    "_defaultOrder": 49,
    "_isFastLaunch": false,
    "category": "Accelerated computing",
    "gpuNum": 1,
    "hideHardwareSpecs": false,
    "memoryGiB": 64,
    "name": "ml.g5.4xlarge",
    "vcpuNum": 16
   },
   {
    "_defaultOrder": 50,
    "_isFastLaunch": false,
    "category": "Accelerated computing",
    "gpuNum": 1,
    "hideHardwareSpecs": false,
    "memoryGiB": 128,
    "name": "ml.g5.8xlarge",
    "vcpuNum": 32
   },
   {
    "_defaultOrder": 51,
    "_isFastLaunch": false,
    "category": "Accelerated computing",
    "gpuNum": 1,
    "hideHardwareSpecs": false,
    "memoryGiB": 256,
    "name": "ml.g5.16xlarge",
    "vcpuNum": 64
   },
   {
    "_defaultOrder": 52,
    "_isFastLaunch": false,
    "category": "Accelerated computing",
    "gpuNum": 4,
    "hideHardwareSpecs": false,
    "memoryGiB": 192,
    "name": "ml.g5.12xlarge",
    "vcpuNum": 48
   },
   {
    "_defaultOrder": 53,
    "_isFastLaunch": false,
    "category": "Accelerated computing",
    "gpuNum": 4,
    "hideHardwareSpecs": false,
    "memoryGiB": 384,
    "name": "ml.g5.24xlarge",
    "vcpuNum": 96
   },
   {
    "_defaultOrder": 54,
    "_isFastLaunch": false,
    "category": "Accelerated computing",
    "gpuNum": 8,
    "hideHardwareSpecs": false,
    "memoryGiB": 768,
    "name": "ml.g5.48xlarge",
    "vcpuNum": 192
   },
   {
    "_defaultOrder": 55,
    "_isFastLaunch": false,
    "category": "Accelerated computing",
    "gpuNum": 8,
    "hideHardwareSpecs": false,
    "memoryGiB": 1152,
    "name": "ml.p4d.24xlarge",
    "vcpuNum": 96
   },
   {
    "_defaultOrder": 56,
    "_isFastLaunch": false,
    "category": "Accelerated computing",
    "gpuNum": 8,
    "hideHardwareSpecs": false,
    "memoryGiB": 1152,
    "name": "ml.p4de.24xlarge",
    "vcpuNum": 96
   }
  ],
  "instance_type": "ml.t3.medium",
  "kernelspec": {
   "display_name": "Python 3 (Data Science 3.0)",
   "language": "python",
   "name": "python3__SAGEMAKER_INTERNAL__arn:aws:sagemaker:us-east-1:081325390199:image/sagemaker-data-science-310-v1"
  },
  "language_info": {
   "codemirror_mode": {
    "name": "ipython",
    "version": 3
   },
   "file_extension": ".py",
   "mimetype": "text/x-python",
   "name": "python",
   "nbconvert_exporter": "python",
   "pygments_lexer": "ipython3",
   "version": "3.10.6"
  }
 },
 "nbformat": 4,
 "nbformat_minor": 5
}
