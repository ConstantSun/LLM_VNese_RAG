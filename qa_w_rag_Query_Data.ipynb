{
 "cells": [
  {
   "cell_type": "markdown",
   "id": "3441153d-10f4-4eb7-b8cc-ef95fb05355c",
   "metadata": {},
   "source": [
    "## Vector query"
   ]
  },
  {
   "cell_type": "markdown",
   "id": "4f40d998-0a99-4f12-8495-d6dd1de3447a",
   "metadata": {
    "jp-MarkdownHeadingCollapsed": true,
    "tags": []
   },
   "source": [
    "### Create embedding model"
   ]
  },
  {
   "cell_type": "code",
   "execution_count": 3,
   "id": "a968b273-f6b0-410e-bc84-1b2a9724938c",
   "metadata": {
    "tags": []
   },
   "outputs": [],
   "source": [
    "\n",
    "## Todo: \n",
    "# Change endpoint_name to your Sagemaker sbert deployed model.\n",
    "\n",
    "## Langchain Doc for SM Embedding Class Customization\n",
    "\n",
    "from typing import Dict, List\n",
    "from langchain.embeddings import SagemakerEndpointEmbeddings\n",
    "from langchain.embeddings.sagemaker_endpoint import EmbeddingsContentHandler\n",
    "import json\n",
    "\n",
    "\n",
    "class ContentHandler(EmbeddingsContentHandler):\n",
    "    content_type = \"application/json\"\n",
    "    accepts = \"application/json\"\n",
    "\n",
    "    def transform_input(self, inputs: list[str], model_kwargs: Dict) -> bytes:\n",
    "        \"\"\"\n",
    "        Transforms the input into bytes that can be consumed by SageMaker endpoint.\n",
    "        Args:\n",
    "            inputs: List of input strings.\n",
    "            model_kwargs: Additional keyword arguments to be passed to the endpoint.\n",
    "        Returns:\n",
    "            The transformed bytes input.\n",
    "        \"\"\"\n",
    "        # Example: inference.py expects a JSON string with a \"inputs\" key:\n",
    "        input_str = json.dumps({\"inputs\": inputs, **model_kwargs})  \n",
    "        return input_str.encode(\"utf-8\")\n",
    "\n",
    "    def transform_output(self, output: bytes) -> List[List[float]]:\n",
    "        \"\"\"\n",
    "        Transforms the bytes output from the endpoint into a list of embeddings.\n",
    "        Args:\n",
    "            output: The bytes output from SageMaker endpoint.\n",
    "        Returns:\n",
    "            The transformed output - list of embeddings\n",
    "        Note:\n",
    "            The length of the outer list is the number of input strings.\n",
    "            The length of the inner lists is the embedding dimension.\n",
    "        \"\"\"\n",
    "        # Example: inference.py returns a JSON string with the list of\n",
    "        # embeddings in a \"vectors\" key:\n",
    "        response_json = json.loads(output.read().decode(\"utf-8\"))\n",
    "        return response_json[\"vectors\"]\n",
    "\n",
    "\n",
    "content_handler = ContentHandler()\n",
    "\n",
    "\n",
    "\n",
    "sbert_batch_embeddings = SagemakerEndpointEmbeddings(\n",
    "    # credentials_profile_name=\"credentials-profile-name\",\n",
    "    endpoint_name=\"huggingface-pytorch-inference-2023-10-20-04-45-11-397\", # change this to your own sbert endpoint\n",
    "    region_name=\"us-east-1\",  # change this to your sagemaker deployed sbert endpoint Region \n",
    "    content_handler=content_handler,\n",
    ")"
   ]
  },
  {
   "cell_type": "markdown",
   "id": "d0129d0e-fb14-41d0-bfa2-10506f72e683",
   "metadata": {
    "jp-MarkdownHeadingCollapsed": true,
    "tags": []
   },
   "source": [
    "### Call AOS which was created before"
   ]
  },
  {
   "cell_type": "code",
   "execution_count": 12,
   "id": "1ab7ce2d-39c8-4fac-83a5-9b1be5bda391",
   "metadata": {
    "tags": []
   },
   "outputs": [],
   "source": [
    "from opensearchpy import OpenSearch, RequestsHttpConnection, AWSV4SignerAuth\n",
    "from langchain.vectorstores import OpenSearchVectorSearch\n",
    "import boto3\n",
    "import langchain \n",
    "\n",
    "\n",
    "service = 'aoss'\n",
    "credentials = boto3.Session().get_credentials()\n",
    "auth = AWSV4SignerAuth(credentials, \"us-east-1\", service)   # TODO: change your region\n",
    "\n",
    "index_name = \"rag-sbert\"\n",
    "\n",
    "docsearch = OpenSearchVectorSearch(\n",
    "    \"https://1n3li4pv4s7jhgykpmie.us-east-1.aoss.amazonaws.com:443\",  # TODO: Change your AOS endpoint here\n",
    "    index_name,\n",
    "    sbert_batch_embeddings,\n",
    "    http_auth=auth,\n",
    "    timeout = 100,\n",
    "    use_ssl = True,\n",
    "    verify_certs = True,\n",
    "    connection_class = RequestsHttpConnection,\n",
    "    engine=\"faiss\"\n",
    ")"
   ]
  },
  {
   "cell_type": "markdown",
   "id": "ed52fe6c-efb0-4f16-8a87-cb66617785b4",
   "metadata": {
    "tags": []
   },
   "source": [
    "### Query relative docs given a question (query)"
   ]
  },
  {
   "cell_type": "code",
   "execution_count": 14,
   "id": "95813a52-35d6-420e-a89f-55d9734bc9f4",
   "metadata": {
    "tags": []
   },
   "outputs": [
    {
     "name": "stdout",
     "output_type": "stream",
     "text": [
      "[\n",
      "  {\n",
      "    \"lc\": 1,\n",
      "    \"type\": \"constructor\",\n",
      "    \"id\": [\n",
      "      \"langchain\",\n",
      "      \"schema\",\n",
      "      \"document\",\n",
      "      \"Document\"\n",
      "    ],\n",
      "    \"kwargs\": {\n",
      "      \"page_content\": \"T\\u1ea1o qu\\u1ea3ng c\\u00e1o s\\u00e1ng t\\u1ea1o b\\u1eb1ng c\\u00e1ch s\\u1eed d\\u1ee5ng AI t\\u1ea1o \\u0111\\u01b0\\u1ee3c tri\\u1ec3n khai tr\\u00ean Amazon SageMaker Qu\\u1ea3ng c\\u00e1o s\\u00e1ng t\\u1ea1o c\\u00f3 ti\\u1ec1m n\\u0103ng \\u0111\\u01b0\\u1ee3c c\\u00e1ch m\\u1ea1ng h\\u00f3a b\\u1edfi AI t\\u1ea1o (GenAI). B\\u00e2y gi\\u1edd b\\u1ea1n c\\u00f3 th\\u1ec3 t\\u1ea1o ra m\\u1ed9t lo\\u1ea1t c\\u00e1c h\\u00ecnh \\u1ea3nh m\\u1edbi, ch\\u1eb3ng h\\u1ea1n nh\\u01b0 \\u1ea3nh s\\u1ea3n ph\\u1ea9m, b\\u1eb1ng c\\u00e1ch \\u0111\\u00e0o t\\u1ea1o l\\u1ea1i m\\u00f4 h\\u00ecnh GenAI v\\u00e0 cung c\\u1ea5p m\\u1ed9t v\\u00e0i \\u0111\\u1ea7u v\\u00e0o m\\u00f4 h\\u00ecnh, ch\\u1eb3ng h\\u1ea1n nh\\u01b0 l\\u1eddi nh\\u1eafc v\\u0103n b\\u1ea3n (nh\\u1eefng c\\u00e2u m\\u00f4 t\\u1ea3 c\\u1ea3nh v\\u00e0 c\\u00e1c \\u0111\\u1ed1i t\\u01b0\\u1ee3ng \\u0111\\u01b0\\u1ee3c m\\u00f4 h\\u00ecnh s\\u1ea3n xu\\u1ea5t). K\\u1ef9 thu\\u1eadt n\\u00e0y \\u0111\\u00e3 cho th\\u1ea5y k\\u1ebft qu\\u1ea3 h\\u1ee9a h\\u1eb9n b\\u1eaft \\u0111\\u1ea7u t\\u1eeb n\\u0103m 2022 v\\u1edbi s\\u1ef1 b\\u00f9ng n\\u1ed5 c\\u1ee7a m\\u1ed9t l\\u1edbp m\\u00f4 h\\u00ecnh n\\u1ec1n t\\u1ea3ng m\\u1edbi (FMs) \\u0111\\u01b0\\u1ee3c g\\u1ecdi l\\u00e0 m\\u00f4 h\\u00ecnh ph\\u00e2n t\\u00e1n \\u1ea9n nh\\u01b0: S\\u1ef1 pha tr\\u1ed9n \\u1ed5n \\u0111\\u1ecbnh- T\\u00f4i \\u0111\\u00e3 n\\u00f3i v\\u1edbi \\u00f4ng. Trung chuy\\u1ebfn \\u0111iv\\u00e0 Dall-E-2Tuy nhi\\u00ean, \\u0111\\u1ec3 s\\u1eed d\\u1ee5ng c\\u00e1c m\\u00f4 h\\u00ecnh n\\u00e0y trong s\\u1ea3n xu\\u1ea5t, qu\\u00e1 tr\\u00ecnh s\\u1ea3n xu\\u1ea5t \\u0111\\u00f2i h\\u1ecfi ph\\u1ea3i tinh ch\\u1ebf li\\u00ean t\\u1ee5c \\u0111\\u1ec3 t\\u1ea1o ra c\\u00e1c k\\u1ebft qu\\u1ea3 nh\\u1ea5t qu\\u00e1n. Trong b\\u00e0i vi\\u1ebft n\\u00e0y, ch\\u00fang t\\u00f4i kh\\u00e1m ph\\u00e1 c\\u00e1ch th\\u1ee9c c\\u00f4ng ngh\\u1ec7 bi\\u1ebfn \\u0111\\u1ed5i n\\u00e0y c\\u00f3 th\\u1ec3 \\u0111\\u01b0\\u1ee3c khai th\\u00e1c \\u0111\\u1ec3 t\\u1ea1o ra qu\\u1ea3ng c\\u00e1o h\\u1ea5p d\\u1eabn v\\u00e0 s\\u00e1ng t\\u1ea1o \\u1edf quy m\\u00f4 l\\u1edbn, \\u0111\\u1eb7c bi\\u1ec7t khi \\u0111\\u1ed1i ph\\u00f3 v\\u1edbi c\\u00e1c danh m\\u1ee5c h\\u00ecnh \\u1ea3nh l\\u1edbn. B\\u1eb1ng c\\u00e1ch s\\u1eed d\\u1ee5ng s\\u1ee9c m\\u1ea1nh c\\u1ee7a GenAI, c\\u1ee5 th\\u1ec3 th\\u00f4ng qua k\\u1ef9 thu\\u1eadt v\\u1ebd, ch\\u00fang t\\u00f4i c\\u00f3 th\\u1ec3 t\\u1ea1o ra n\\u1ec1n h\\u00ecnh \\u1ea3nh li\\u1ec1n m\\u1ea1ch, d\\u1eabn \\u0111\\u1ebfn n\\u1ed9i dung tr\\u1ef1c quan tuy\\u1ec7t \\u0111\\u1eb9p v\\u00e0 h\\u1ea5p d\\u1eabn v\\u00e0 gi\\u1ea3m c\\u00e1c \\u0111\\u1ed3 t\\u1ea1o h\\u00ecnh \\u1ea3nh kh\\u00f4ng mong mu\\u1ed1n (\\u0111\\u01b0\\u1ee3c g\\u1ecdi l\\u00e0 h\\u00ecnh \\u1ea3nh h\\u00ecnh \\u1ea3nh). M\\u00f4 h\\u00ecnh \\u1ea3o gi\\u00e1cCh\\u00fang t\\u00f4i c\\u0169ng nghi\\u00ean c\\u1ee9u s\\u00e2u h\\u01a1n v\\u1ec1 vi\\u1ec7c th\\u1ef1c hi\\u1ec7n th\\u1ef1c t\\u1ebf c\\u1ee7a k\\u1ef9 thu\\u1eadt n\\u00e0y b\\u1eb1ng c\\u00e1ch s\\u1eed d\\u1ee5ng Amazon SageMaker c\\u00e1c \\u0111i\\u1ec3m cu\\u1ed1i, cho ph\\u00e9p tri\\u1ec3n khai hi\\u1ec7u qu\\u1ea3 c\\u00e1c m\\u00f4 h\\u00ecnh GenAI th\\u00fac \\u0111\\u1ea9y qu\\u00e1 tr\\u00ecnh s\\u00e1ng t\\u1ea1o n\\u00e0y. Ch\\u00fang t\\u00f4i s\\u1eed d\\u1ee5ng inpainting nh\\u01b0 k\\u1ef9 thu\\u1eadt ch\\u00ednh trong vi\\u1ec7c t\\u1ea1o h\\u00ecnh \\u1ea3nh d\\u1ef1a tr\\u00ean GenAI v\\u00ec n\\u00f3 cung c\\u1ea5p m\\u1ed9t gi\\u1ea3i ph\\u00e1p m\\u1ea1nh m\\u1ebd \\u0111\\u1ec3 thay th\\u1ebf c\\u00e1c y\\u1ebfu t\\u1ed1 thi\\u1ebfu trong h\\u00ecnh \\u1ea3nh. Tuy nhi\\u00ean, \\u0111i\\u1ec1u n\\u00e0y mang l\\u1ea1i m\\u1ed9t s\\u1ed1 th\\u00e1ch th\\u1ee9c. V\\u00ed d\\u1ee5, ki\\u1ec3m so\\u00e1t ch\\u00ednh x\\u00e1c v\\u1ec1 v\\u1ecb tr\\u00ed c\\u1ee7a c\\u00e1c \\u0111\\u1ed1i t\\u01b0\\u1ee3ng trong h\\u00ecnh \\u1ea3nh c\\u00f3 th\\u1ec3 b\\u1ecb h\\u1ea1n ch\\u1ebf, d\\u1eabn \\u0111\\u1ebfn c\\u00e1c v\\u1ea5n \\u0111\\u1ec1 ti\\u1ec1m \\u1ea9n nh\\u01b0 \\u0111\\u1ed3 t\\u1ea1o \\u1ea3nh, v\\u1eadt c\\u00f3 m\\u1eb7t n\\u1ed5i ho\\u1eb7c ranh gi\\u1edbi kh\\u00f4ng tr\\u1ed9n, nh\\u01b0 \\u0111\\u01b0\\u1ee3c hi\\u1ec3n th\\u1ecb trong h\\u00ecnh \\u1ea3nh v\\u00ed d\\u1ee5 sau.\",\n",
      "      \"metadata\": {\n",
      "        \"source\": \"vndata/quang_cao_genai.pdf\",\n",
      "        \"page\": 0\n",
      "      }\n",
      "    }\n",
      "  },\n",
      "  {\n",
      "    \"lc\": 1,\n",
      "    \"type\": \"constructor\",\n",
      "    \"id\": [\n",
      "      \"langchain\",\n",
      "      \"schema\",\n",
      "      \"document\",\n",
      "      \"Document\"\n",
      "    ],\n",
      "    \"kwargs\": {\n",
      "      \"page_content\": \"8. T\\u01b0\\u01a1ng t\\u1ef1, h\\u00ecnh \\u1ea3nh n\\u1ec1n \\u0111\\u01b0\\u1ee3c t\\u1ea1o ra, ch\\u1ed1ng m\\u1eb7t n\\u1ea1, c\\u00f9ng v\\u1edbi c\\u00e1c l\\u1eddi nh\\u1eafc tr\\u01b0\\u1edbc m\\u1eb7t v\\u00e0 l\\u1eddi nh\\u1eafc ti\\u00eau c\\u1ef1c \\u0111\\u01b0\\u1ee3c s\\u1eed d\\u1ee5ng nh\\u01b0 l\\u00e0 \\u0111\\u1ea7u v\\u00e0o m\\u00f4 h\\u00ecnh Stable Diffusion Inpainting \\u0111\\u1ec3 t\\u1ea1o ra m\\u1ed9t h\\u00ecnh \\u1ea3nh \\u0111\\u1ea7u m\\u1eb7t trung gian \\u0111\\u01b0\\u1ee3c t\\u1ea1o ra. 9. K\\u1ebft qu\\u1ea3 cu\\u1ed1i c\\u00f9ng c\\u1ee7a h\\u00ecnh \\u1ea3nh s\\u1ea3n ph\\u1ea9m \\u0111\\u01b0\\u1ee3c t\\u1ea1o ra \\u0111\\u01b0\\u1ee3c thu \\u0111\\u01b0\\u1ee3c b\\u1eb1ng c\\u00e1ch k\\u1ebft h\\u1ee3p h\\u00ecnh \\u1ea3nh gi\\u1eefa m\\u1eb7t tr\\u01b0\\u1edbc \\u0111\\u01b0\\u1ee3c t\\u1ea1o ra v\\u00e0 h\\u00ecnh \\u1ea3nh n\\u1ec1n trung gian \\u0111\\u01b0\\u1ee3c t\\u1ea1o ra.  \\n \\u0110i\\u1ec1u ki\\u1ec7n ti\\u00ean quy\\u1ebft  V\\u1ec1 t\\u00e1c gi\\u1ea3 Fabian Benitez-Quiroz Fabian l\\u00e0 m\\u1ed9t nh\\u00e0 khoa h\\u1ecdc d\\u1eef li\\u1ec7u IoT Edge trong AWS Professional Services. \\u00d4ng c\\u00f3 b\\u1eb1ng ti\\u1ebfn s\\u0129 v\\u1ec1 th\\u1ecb gi\\u00e1c m\\u00e1y t\\u00ednh v\\u00e0 nh\\u1eadn d\\u1ea1ng m\\u1eabu t\\u1eeb \\u0110\\u1ea1i h\\u1ecdc bang Ohio. Fabian tham gia v\\u00e0o vi\\u1ec7c gi\\u00fap kh\\u00e1ch h\\u00e0ng ch\\u1ea1y m\\u00f4 h\\u00ecnh h\\u1ecdc m\\u00e1y c\\u1ee7a h\\u1ecd v\\u1edbi \\u0111\\u1ed9 tr\\u1ec5 th\\u1ea5p tr\\u00ean c\\u00e1c thi\\u1ebft b\\u1ecb IoT v\\u00e0 trong \\u0111\\u00e1m m\\u00e2y tr\\u00ean nhi\\u1ec1u ng\\u00e0nh c\\u00f4ng nghi\\u1ec7p kh\\u00e1c nhau.  Romil Shah Romil c\\u00f3 h\\u01a1n 6 n\\u0103m kinh nghi\\u1ec7m trong ng\\u00e0nh trong l\\u0129nh v\\u1ef1c th\\u1ecb gi\\u00e1c m\\u00e1y t\\u00ednh, h\\u1ecdc m\\u00e1y v\\u00e0 thi\\u1ebft b\\u1ecb c\\u1ea1nh IoT. \\u00d4ng tham gia gi\\u00fap kh\\u00e1ch h\\u00e0ng t\\u1ed1i \\u01b0u h\\u00f3a v\\u00e0 tri\\u1ec3n khai m\\u00f4 h\\u00ecnh h\\u1ecdc m\\u00e1y c\\u1ee7a h\\u1ecd cho c\\u00e1c thi\\u1ebft b\\u1ecb c\\u1ea1nh v\\u00e0 tr\\u00ean \\u0111\\u00e1m m\\u00e2y. \\u00d4ng l\\u00e0m vi\\u1ec7c v\\u1edbi kh\\u00e1ch h\\u00e0ng \\u0111\\u1ec3 t\\u1ea1o ra chi\\u1ebfn l\\u01b0\\u1ee3c \\u0111\\u1ec3 t\\u1ed1i \\u01b0u h\\u00f3a v\\u00e0 tri\\u1ec3n khai m\\u00f4 h\\u00ecnh n\\u1ec1n t\\u1ea3ng.\",\n",
      "      \"metadata\": {\n",
      "        \"source\": \"vndata/quang_cao_genai.pdf\",\n",
      "        \"page\": 2\n",
      "      }\n",
      "    }\n",
      "  },\n",
      "  {\n",
      "    \"lc\": 1,\n",
      "    \"type\": \"constructor\",\n",
      "    \"id\": [\n",
      "      \"langchain\",\n",
      "      \"schema\",\n",
      "      \"document\",\n",
      "      \"Document\"\n",
      "    ],\n",
      "    \"kwargs\": {\n",
      "      \"page_content\": \"thi\\u1ec3u. \\u0110\\u1ec3 m\\u1edf r\\u1ed9ng quy m\\u00f4 gi\\u1ea3i ph\\u00e1p \\u0111\\u01b0\\u1ee3c \\u0111\\u1ec1 xu\\u1ea5t cho s\\u1ea3n xu\\u1ea5t v\\u00e0 t\\u0103ng t\\u1ed1c \\u0111\\u1ed9 tri\\u1ec3n khai c\\u00e1c m\\u00f4 h\\u00ecnh AI trong m\\u00f4i tr\\u01b0\\u1eddng AWS, ch\\u00fang t\\u00f4i ch\\u1ee9ng minh n\\u00f3 b\\u1eb1ng c\\u00e1ch s\\u1eed d\\u1ee5ng c\\u00e1c \\u0111i\\u1ec3m cu\\u1ed1i SageMaker. \\u0110\\u1eb7c bi\\u1ec7t, ch\\u00fang t\\u00f4i \\u0111\\u1ec1 xu\\u1ea5t chia qu\\u00e1 tr\\u00ecnh s\\u01a1n th\\u00e0nh m\\u1ed9t t\\u1eadp h\\u1ee3p c\\u00e1c l\\u1edbp, m\\u1ed7i l\\u1edbp c\\u00f3 kh\\u1ea3 n\\u0103ng c\\u00f3 m\\u1ed9t t\\u1eadp h\\u1ee3p c\\u00e1c y\\u00eau c\\u1ea7u kh\\u00e1c nhau. 1. \\u0110\\u1ea7u ti\\u00ean, ch\\u00fang ta y\\u00eau c\\u1ea7u cho m\\u1ed9t c\\u1ea3nh chung (v\\u00ed d\\u1ee5, c\\u1eadu v\\u1edbi c\\u00e2y \\u1edf ph\\u00eda sau) v\\u00e0 ng\\u1eabu nhi\\u00ean \\u0111\\u1eb7t \\u0111\\u1ed1i t\\u01b0\\u1ee3ng tr\\u00ean n\\u1ec1n \\u0111\\u00f3. 2. Ti\\u1ebfp theo, ch\\u00fang t\\u00f4i th\\u00eam m\\u1ed9t l\\u1edbp \\u1edf ph\\u1ea7n trung d\\u01b0\\u1edbi c\\u1ee7a \\u0111\\u1ed1i t\\u01b0\\u1ee3ng b\\u1eb1ng c\\u00e1ch y\\u00eau c\\u1ea7u n\\u01a1i \\u0111\\u1ed1i t\\u01b0\\u1ee3ng n\\u1eb1m (v\\u00ed d\\u1ee5: picnic tr\\u00ean c\\u1ecf, ho\\u1eb7c b\\u00e0n g\\u1ed7). 3. Cu\\u1ed1i c\\u00f9ng, ch\\u00fang t\\u00f4i th\\u00eam m\\u1ed9t l\\u1edbp t\\u01b0\\u01a1ng t\\u1ef1 nh\\u01b0 l\\u1edbp n\\u1ec1n tr\\u00ean ph\\u1ea7n gi\\u1eefa tr\\u00ean c\\u1ee7a \\u0111\\u1ed1i t\\u01b0\\u1ee3ng b\\u1eb1ng c\\u00e1ch s\\u1eed d\\u1ee5ng c\\u00f9ng m\\u1ed9t prompt nh\\u01b0 n\\u1ec1n. L\\u1ee3i \\u00edch c\\u1ee7a qu\\u00e1 tr\\u00ecnh n\\u00e0y l\\u00e0 s\\u1ef1 c\\u1ea3i thi\\u1ec7n trong t\\u00ednh th\\u1ef1c t\\u1ebf c\\u1ee7a \\u0111\\u1ed1i t\\u01b0\\u1ee3ng v\\u00ec n\\u00f3 \\u0111\\u01b0\\u1ee3c nh\\u1eadn th\\u1ea5y v\\u1edbi quy m\\u00f4 v\\u00e0 v\\u1ecb tr\\u00ed t\\u1ed1t h\\u01a1n so v\\u1edbi m\\u00f4i tr\\u01b0\\u1eddng n\\u1ec1n ph\\u00f9 h\\u1ee3p v\\u1edbi k\\u1ef3 v\\u1ecdng c\\u1ee7a con ng\\u01b0\\u1eddi.  \\n H\\u00ecnh t\\u1ed5ng quan c\\u1ee7a gi\\u1ea3i ph\\u00e1p \\u0110\\u1ec3 ho\\u00e0n th\\u00e0nh c\\u00e1c nhi\\u1ec7m v\\u1ee5, l\\u01b0u l\\u01b0\\u1ee3ng d\\u1eef li\\u1ec7u sau \\u0111\\u00e2y \\u0111\\u01b0\\u1ee3c xem x\\u00e9t: 4. Segment Anything Model (SAM) v\\u00e0 Thi\\u1ebft k\\u1ebf s\\u01a1n pha tr\\u1ed9n \\u1ed5n \\u0111\\u1ecbnh c\\u00e1c m\\u00f4 h\\u00ecnh \\u0111\\u01b0\\u1ee3c l\\u01b0u tr\\u1eef trong SageMaker Endpoints. 5. M\\u1ed9t l\\u1ec7nh sau n\\u1ec1n \\u0111\\u01b0\\u1ee3c s\\u1eed d\\u1ee5ng \\u0111\\u1ec3 t\\u1ea1o m\\u1ed9t h\\u00ecnh \\u1ea3nh n\\u1ec1n \\u0111\\u01b0\\u1ee3c t\\u1ea1o b\\u1eb1ng c\\u00e1ch s\\u1eed d\\u1ee5ng m\\u00f4 h\\u00ecnh Stable Diffusion 6. M\\u1ed9t h\\u00ecnh \\u1ea3nh s\\u1ea3n ph\\u1ea9m c\\u01a1 b\\u1ea3n \\u0111\\u01b0\\u1ee3c truy\\u1ec1n qua SAM \\u0111\\u1ec3 t\\u1ea1o ra m\\u1ed9t m\\u1eb7t n\\u1ea1. 7. H\\u00ecnh \\u1ea3nh n\\u1ec1n \\u0111\\u01b0\\u1ee3c t\\u1ea1o ra, m\\u1eb7t n\\u1ea1, c\\u00f9ng v\\u1edbi c\\u00e1c l\\u1eddi nh\\u1eafc tr\\u01b0\\u1edbc v\\u00e0 l\\u1eddi nh\\u1eafc ti\\u00eau c\\u1ef1c \\u0111\\u01b0\\u1ee3c s\\u1eed d\\u1ee5ng nh\\u01b0 l\\u00e0 \\u0111\\u1ea7u v\\u00e0o m\\u00f4 h\\u00ecnh Stable Diffusion Inpainting \\u0111\\u1ec3 t\\u1ea1o ra m\\u1ed9t h\\u00ecnh \\u1ea3nh n\\u1ec1n trung gian \\u0111\\u01b0\\u1ee3c t\\u1ea1o ra.\",\n",
      "      \"metadata\": {\n",
      "        \"source\": \"vndata/quang_cao_genai.pdf\",\n",
      "        \"page\": 1\n",
      "      }\n",
      "    }\n",
      "  }\n",
      "]\n"
     ]
    }
   ],
   "source": [
    "from langchain.load.dump import dumps\n",
    "\n",
    "\n",
    "query = \"Nội dung chính là gì?\"\n",
    "\n",
    "results = docsearch.similarity_search(query, k=3)  # our search query  # return 3 most relevant docs\n",
    "\n",
    "print(dumps(results, pretty=True))\n"
   ]
  },
  {
   "cell_type": "markdown",
   "id": "b4e75b73-cdc4-461b-be99-6348196970fb",
   "metadata": {},
   "source": [
    "### Question Answering"
   ]
  },
  {
   "cell_type": "markdown",
   "id": "c95d2857-802a-4d12-8a96-4cccdc863fc3",
   "metadata": {
    "jp-MarkdownHeadingCollapsed": true,
    "tags": []
   },
   "source": [
    "#### Bedrock client config"
   ]
  },
  {
   "cell_type": "code",
   "execution_count": 17,
   "id": "22d1e914-0b79-4348-9b3a-d82fc5515543",
   "metadata": {
    "tags": []
   },
   "outputs": [
    {
     "name": "stdout",
     "output_type": "stream",
     "text": [
      "Create new client\n",
      "  Using region: us-east-1\n",
      "boto3 Bedrock client successfully created!\n",
      "bedrock-runtime(https://bedrock-runtime.us-east-1.amazonaws.com)\n"
     ]
    }
   ],
   "source": [
    "# Copyright Amazon.com, Inc. or its affiliates. All Rights Reserved.\n",
    "# SPDX-License-Identifier: MIT-0\n",
    "\"\"\"Helper utilities for working with Amazon Bedrock from Python notebooks\"\"\"\n",
    "# Python Built-Ins:\n",
    "import os\n",
    "from typing import Optional\n",
    "\n",
    "# External Dependencies:\n",
    "import boto3\n",
    "from botocore.config import Config\n",
    "\n",
    "\n",
    "def get_bedrock_client(\n",
    "    assumed_role: Optional[str] = None,\n",
    "    region: Optional[str] = None,\n",
    "    runtime: Optional[bool] = True,\n",
    "):\n",
    "    \"\"\"Create a boto3 client for Amazon Bedrock, with optional configuration overrides\n",
    "\n",
    "    Parameters\n",
    "    ----------\n",
    "    assumed_role :\n",
    "        Optional ARN of an AWS IAM role to assume for calling the Bedrock service. If not\n",
    "        specified, the current active credentials will be used.\n",
    "    region :\n",
    "        Optional name of the AWS Region in which the service should be called (e.g. \"us-east-1\").\n",
    "        If not specified, AWS_REGION or AWS_DEFAULT_REGION environment variable will be used.\n",
    "    runtime :\n",
    "        Optional choice of getting different client to perform operations with the Amazon Bedrock service.\n",
    "    \"\"\"\n",
    "    if region is None:\n",
    "        target_region = os.environ.get(\"AWS_REGION\", os.environ.get(\"AWS_DEFAULT_REGION\"))\n",
    "    else:\n",
    "        target_region = region\n",
    "\n",
    "    print(f\"Create new client\\n  Using region: {target_region}\")\n",
    "    session_kwargs = {\"region_name\": target_region}\n",
    "    client_kwargs = {**session_kwargs}\n",
    "\n",
    "    profile_name = os.environ.get(\"AWS_PROFILE\")\n",
    "    if profile_name:\n",
    "        print(f\"  Using profile: {profile_name}\")\n",
    "        session_kwargs[\"profile_name\"] = profile_name\n",
    "\n",
    "    retry_config = Config(\n",
    "        region_name=target_region,\n",
    "        retries={\n",
    "            \"max_attempts\": 10,\n",
    "            \"mode\": \"standard\",\n",
    "        },\n",
    "    )\n",
    "    session = boto3.Session(**session_kwargs)\n",
    "\n",
    "    if assumed_role:\n",
    "        print(f\"  Using role: {assumed_role}\", end='')\n",
    "        sts = session.client(\"sts\")\n",
    "        response = sts.assume_role(\n",
    "            RoleArn=str(assumed_role),\n",
    "            RoleSessionName=\"langchain-llm-1\"\n",
    "        )\n",
    "        print(\" ... successful!\")\n",
    "        client_kwargs[\"aws_access_key_id\"] = response[\"Credentials\"][\"AccessKeyId\"]\n",
    "        client_kwargs[\"aws_secret_access_key\"] = response[\"Credentials\"][\"SecretAccessKey\"]\n",
    "        client_kwargs[\"aws_session_token\"] = response[\"Credentials\"][\"SessionToken\"]\n",
    "\n",
    "    if runtime:\n",
    "        service_name='bedrock-runtime'\n",
    "    else:\n",
    "        service_name='bedrock'\n",
    "\n",
    "    bedrock_client = session.client(\n",
    "        service_name=service_name,\n",
    "        config=retry_config,\n",
    "        **client_kwargs\n",
    "    )\n",
    "\n",
    "    print(\"boto3 Bedrock client successfully created!\")\n",
    "    print(bedrock_client._endpoint)\n",
    "    return bedrock_client\n",
    "\n",
    "\n",
    "\n",
    "from langchain.llms.bedrock import Bedrock\n",
    "from langchain.load.dump import dumps\n",
    "\n",
    "\n",
    "\n",
    "os.environ[\"AWS_DEFAULT_REGION\"] = \"us-east-1\" \n",
    "\n",
    "boto3_bedrock = get_bedrock_client(\n",
    "    #assumed_role=os.environ.get(\"BEDROCK_ASSUME_ROLE\", None),\n",
    "    region=os.environ.get(\"AWS_DEFAULT_REGION\", None)\n",
    ")\n",
    "\n",
    "# - create the Anthropic Model\n",
    "llm = Bedrock(\n",
    "    model_id=\"anthropic.claude-v2\", client=boto3_bedrock, model_kwargs={\"max_tokens_to_sample\": 200}\n",
    ")\n",
    "\n"
   ]
  },
  {
   "cell_type": "markdown",
   "id": "70eb0c2d-ac10-4183-8593-7d5454f527cc",
   "metadata": {},
   "source": [
    "#### QnA "
   ]
  },
  {
   "cell_type": "code",
   "execution_count": 18,
   "id": "f9ec3960-c9a4-4c3b-a2a4-3b75c06152a6",
   "metadata": {
    "tags": []
   },
   "outputs": [],
   "source": [
    "\n",
    "from langchain.chains import RetrievalQA\n",
    "\n",
    "\n",
    "\n",
    "qa = RetrievalQA.from_chain_type(llm=llm, chain_type=\"stuff\", retriever=docsearch.as_retriever())\n"
   ]
  },
  {
   "cell_type": "code",
   "execution_count": 19,
   "id": "77c9a010-dc81-47c3-9048-0fc70b6195a2",
   "metadata": {
    "tags": []
   },
   "outputs": [
    {
     "data": {
      "text/plain": [
       "' Dựa trên nội dung đã cung cấp, một số ý chính của bài viết này là:\\n\\n- Sử dụng công nghệ AI tạo (GenAI) để tạo ra quảng cáo sáng tạo với hình ảnh sản phẩm mới dựa trên lời nhắc văn bản. Các mô hình GenAI như Stable Diffusion và Dall-E 2 cho thấy tiềm năng lớn.\\n\\n- Đề xuất sử dụng'"
      ]
     },
     "execution_count": 19,
     "metadata": {},
     "output_type": "execute_result"
    }
   ],
   "source": [
    "qa.run(\"Nội dung chính là gì?\")\n"
   ]
  },
  {
   "cell_type": "markdown",
   "id": "c8e0065a-e1f8-418d-9734-230b7c1c4d22",
   "metadata": {
    "tags": []
   },
   "source": [
    "#### QnA with citation (sources)"
   ]
  },
  {
   "cell_type": "code",
   "execution_count": 20,
   "id": "944dcb47-23aa-4dd1-966b-41395c14c6af",
   "metadata": {
    "tags": []
   },
   "outputs": [],
   "source": [
    "from langchain.chains import RetrievalQAWithSourcesChain\n",
    "\n",
    "qa_with_sources = RetrievalQA.from_chain_type(llm=llm, chain_type=\"stuff\", retriever=docsearch.as_retriever(search_kwargs={'k': 3}),return_source_documents=True)"
   ]
  },
  {
   "cell_type": "code",
   "execution_count": 22,
   "id": "46040a43-2363-4170-a266-2e0a356910a7",
   "metadata": {
    "tags": []
   },
   "outputs": [
    {
     "name": "stdout",
     "output_type": "stream",
     "text": [
      "{\n",
      "  \"query\": \"N\\u1ed9i dung ch\\u00ednh l\\u00e0 g\\u00ec?\",\n",
      "  \"result\": \" T\\u1eeb nh\\u1eefng th\\u00f4ng tin \\u0111\\u01b0\\u1ee3c cung c\\u1ea5p, ta c\\u00f3 th\\u1ec3 r\\u00fat ra c\\u00e1c n\\u1ed9i dung ch\\u00ednh nh\\u01b0 sau:\\n\\n- B\\u00e0i vi\\u1ebft kh\\u00e1m ph\\u00e1 c\\u00e1ch c\\u00f4ng ngh\\u1ec7 AI trong vi\\u1ec7c t\\u1ea1o h\\u00ecnh \\u1ea3nh (GenAI) c\\u00f3 th\\u1ec3 \\u0111\\u01b0\\u1ee3c \\u1ee9ng d\\u1ee5ng \\u0111\\u1ec3 t\\u1ea1o ra qu\\u1ea3ng c\\u00e1o s\\u00e1ng t\\u1ea1o h\\u01a1n. \\u0110\\u1eb7c bi\\u1ec7t th\\u00f4ng qua k\\u1ef9 thu\\u1eadt v\\u1ebd/s\\u01a1n, c\\u00f3 th\\u1ec3 t\\u1ea1o ra h\\u00ecnh \\u1ea3nh li\\u1ec1n m\\u1ea1ch, h\\u1ea5p d\",\n",
      "  \"source_documents\": [\n",
      "    {\n",
      "      \"lc\": 1,\n",
      "      \"type\": \"constructor\",\n",
      "      \"id\": [\n",
      "        \"langchain\",\n",
      "        \"schema\",\n",
      "        \"document\",\n",
      "        \"Document\"\n",
      "      ],\n",
      "      \"kwargs\": {\n",
      "        \"page_content\": \"T\\u1ea1o qu\\u1ea3ng c\\u00e1o s\\u00e1ng t\\u1ea1o b\\u1eb1ng c\\u00e1ch s\\u1eed d\\u1ee5ng AI t\\u1ea1o \\u0111\\u01b0\\u1ee3c tri\\u1ec3n khai tr\\u00ean Amazon SageMaker Qu\\u1ea3ng c\\u00e1o s\\u00e1ng t\\u1ea1o c\\u00f3 ti\\u1ec1m n\\u0103ng \\u0111\\u01b0\\u1ee3c c\\u00e1ch m\\u1ea1ng h\\u00f3a b\\u1edfi AI t\\u1ea1o (GenAI). B\\u00e2y gi\\u1edd b\\u1ea1n c\\u00f3 th\\u1ec3 t\\u1ea1o ra m\\u1ed9t lo\\u1ea1t c\\u00e1c h\\u00ecnh \\u1ea3nh m\\u1edbi, ch\\u1eb3ng h\\u1ea1n nh\\u01b0 \\u1ea3nh s\\u1ea3n ph\\u1ea9m, b\\u1eb1ng c\\u00e1ch \\u0111\\u00e0o t\\u1ea1o l\\u1ea1i m\\u00f4 h\\u00ecnh GenAI v\\u00e0 cung c\\u1ea5p m\\u1ed9t v\\u00e0i \\u0111\\u1ea7u v\\u00e0o m\\u00f4 h\\u00ecnh, ch\\u1eb3ng h\\u1ea1n nh\\u01b0 l\\u1eddi nh\\u1eafc v\\u0103n b\\u1ea3n (nh\\u1eefng c\\u00e2u m\\u00f4 t\\u1ea3 c\\u1ea3nh v\\u00e0 c\\u00e1c \\u0111\\u1ed1i t\\u01b0\\u1ee3ng \\u0111\\u01b0\\u1ee3c m\\u00f4 h\\u00ecnh s\\u1ea3n xu\\u1ea5t). K\\u1ef9 thu\\u1eadt n\\u00e0y \\u0111\\u00e3 cho th\\u1ea5y k\\u1ebft qu\\u1ea3 h\\u1ee9a h\\u1eb9n b\\u1eaft \\u0111\\u1ea7u t\\u1eeb n\\u0103m 2022 v\\u1edbi s\\u1ef1 b\\u00f9ng n\\u1ed5 c\\u1ee7a m\\u1ed9t l\\u1edbp m\\u00f4 h\\u00ecnh n\\u1ec1n t\\u1ea3ng m\\u1edbi (FMs) \\u0111\\u01b0\\u1ee3c g\\u1ecdi l\\u00e0 m\\u00f4 h\\u00ecnh ph\\u00e2n t\\u00e1n \\u1ea9n nh\\u01b0: S\\u1ef1 pha tr\\u1ed9n \\u1ed5n \\u0111\\u1ecbnh- T\\u00f4i \\u0111\\u00e3 n\\u00f3i v\\u1edbi \\u00f4ng. Trung chuy\\u1ebfn \\u0111iv\\u00e0 Dall-E-2Tuy nhi\\u00ean, \\u0111\\u1ec3 s\\u1eed d\\u1ee5ng c\\u00e1c m\\u00f4 h\\u00ecnh n\\u00e0y trong s\\u1ea3n xu\\u1ea5t, qu\\u00e1 tr\\u00ecnh s\\u1ea3n xu\\u1ea5t \\u0111\\u00f2i h\\u1ecfi ph\\u1ea3i tinh ch\\u1ebf li\\u00ean t\\u1ee5c \\u0111\\u1ec3 t\\u1ea1o ra c\\u00e1c k\\u1ebft qu\\u1ea3 nh\\u1ea5t qu\\u00e1n. Trong b\\u00e0i vi\\u1ebft n\\u00e0y, ch\\u00fang t\\u00f4i kh\\u00e1m ph\\u00e1 c\\u00e1ch th\\u1ee9c c\\u00f4ng ngh\\u1ec7 bi\\u1ebfn \\u0111\\u1ed5i n\\u00e0y c\\u00f3 th\\u1ec3 \\u0111\\u01b0\\u1ee3c khai th\\u00e1c \\u0111\\u1ec3 t\\u1ea1o ra qu\\u1ea3ng c\\u00e1o h\\u1ea5p d\\u1eabn v\\u00e0 s\\u00e1ng t\\u1ea1o \\u1edf quy m\\u00f4 l\\u1edbn, \\u0111\\u1eb7c bi\\u1ec7t khi \\u0111\\u1ed1i ph\\u00f3 v\\u1edbi c\\u00e1c danh m\\u1ee5c h\\u00ecnh \\u1ea3nh l\\u1edbn. B\\u1eb1ng c\\u00e1ch s\\u1eed d\\u1ee5ng s\\u1ee9c m\\u1ea1nh c\\u1ee7a GenAI, c\\u1ee5 th\\u1ec3 th\\u00f4ng qua k\\u1ef9 thu\\u1eadt v\\u1ebd, ch\\u00fang t\\u00f4i c\\u00f3 th\\u1ec3 t\\u1ea1o ra n\\u1ec1n h\\u00ecnh \\u1ea3nh li\\u1ec1n m\\u1ea1ch, d\\u1eabn \\u0111\\u1ebfn n\\u1ed9i dung tr\\u1ef1c quan tuy\\u1ec7t \\u0111\\u1eb9p v\\u00e0 h\\u1ea5p d\\u1eabn v\\u00e0 gi\\u1ea3m c\\u00e1c \\u0111\\u1ed3 t\\u1ea1o h\\u00ecnh \\u1ea3nh kh\\u00f4ng mong mu\\u1ed1n (\\u0111\\u01b0\\u1ee3c g\\u1ecdi l\\u00e0 h\\u00ecnh \\u1ea3nh h\\u00ecnh \\u1ea3nh). M\\u00f4 h\\u00ecnh \\u1ea3o gi\\u00e1cCh\\u00fang t\\u00f4i c\\u0169ng nghi\\u00ean c\\u1ee9u s\\u00e2u h\\u01a1n v\\u1ec1 vi\\u1ec7c th\\u1ef1c hi\\u1ec7n th\\u1ef1c t\\u1ebf c\\u1ee7a k\\u1ef9 thu\\u1eadt n\\u00e0y b\\u1eb1ng c\\u00e1ch s\\u1eed d\\u1ee5ng Amazon SageMaker c\\u00e1c \\u0111i\\u1ec3m cu\\u1ed1i, cho ph\\u00e9p tri\\u1ec3n khai hi\\u1ec7u qu\\u1ea3 c\\u00e1c m\\u00f4 h\\u00ecnh GenAI th\\u00fac \\u0111\\u1ea9y qu\\u00e1 tr\\u00ecnh s\\u00e1ng t\\u1ea1o n\\u00e0y. Ch\\u00fang t\\u00f4i s\\u1eed d\\u1ee5ng inpainting nh\\u01b0 k\\u1ef9 thu\\u1eadt ch\\u00ednh trong vi\\u1ec7c t\\u1ea1o h\\u00ecnh \\u1ea3nh d\\u1ef1a tr\\u00ean GenAI v\\u00ec n\\u00f3 cung c\\u1ea5p m\\u1ed9t gi\\u1ea3i ph\\u00e1p m\\u1ea1nh m\\u1ebd \\u0111\\u1ec3 thay th\\u1ebf c\\u00e1c y\\u1ebfu t\\u1ed1 thi\\u1ebfu trong h\\u00ecnh \\u1ea3nh. Tuy nhi\\u00ean, \\u0111i\\u1ec1u n\\u00e0y mang l\\u1ea1i m\\u1ed9t s\\u1ed1 th\\u00e1ch th\\u1ee9c. V\\u00ed d\\u1ee5, ki\\u1ec3m so\\u00e1t ch\\u00ednh x\\u00e1c v\\u1ec1 v\\u1ecb tr\\u00ed c\\u1ee7a c\\u00e1c \\u0111\\u1ed1i t\\u01b0\\u1ee3ng trong h\\u00ecnh \\u1ea3nh c\\u00f3 th\\u1ec3 b\\u1ecb h\\u1ea1n ch\\u1ebf, d\\u1eabn \\u0111\\u1ebfn c\\u00e1c v\\u1ea5n \\u0111\\u1ec1 ti\\u1ec1m \\u1ea9n nh\\u01b0 \\u0111\\u1ed3 t\\u1ea1o \\u1ea3nh, v\\u1eadt c\\u00f3 m\\u1eb7t n\\u1ed5i ho\\u1eb7c ranh gi\\u1edbi kh\\u00f4ng tr\\u1ed9n, nh\\u01b0 \\u0111\\u01b0\\u1ee3c hi\\u1ec3n th\\u1ecb trong h\\u00ecnh \\u1ea3nh v\\u00ed d\\u1ee5 sau.\",\n",
      "        \"metadata\": {\n",
      "          \"source\": \"vndata/quang_cao_genai.pdf\",\n",
      "          \"page\": 0\n",
      "        }\n",
      "      }\n",
      "    },\n",
      "    {\n",
      "      \"lc\": 1,\n",
      "      \"type\": \"constructor\",\n",
      "      \"id\": [\n",
      "        \"langchain\",\n",
      "        \"schema\",\n",
      "        \"document\",\n",
      "        \"Document\"\n",
      "      ],\n",
      "      \"kwargs\": {\n",
      "        \"page_content\": \"8. T\\u01b0\\u01a1ng t\\u1ef1, h\\u00ecnh \\u1ea3nh n\\u1ec1n \\u0111\\u01b0\\u1ee3c t\\u1ea1o ra, ch\\u1ed1ng m\\u1eb7t n\\u1ea1, c\\u00f9ng v\\u1edbi c\\u00e1c l\\u1eddi nh\\u1eafc tr\\u01b0\\u1edbc m\\u1eb7t v\\u00e0 l\\u1eddi nh\\u1eafc ti\\u00eau c\\u1ef1c \\u0111\\u01b0\\u1ee3c s\\u1eed d\\u1ee5ng nh\\u01b0 l\\u00e0 \\u0111\\u1ea7u v\\u00e0o m\\u00f4 h\\u00ecnh Stable Diffusion Inpainting \\u0111\\u1ec3 t\\u1ea1o ra m\\u1ed9t h\\u00ecnh \\u1ea3nh \\u0111\\u1ea7u m\\u1eb7t trung gian \\u0111\\u01b0\\u1ee3c t\\u1ea1o ra. 9. K\\u1ebft qu\\u1ea3 cu\\u1ed1i c\\u00f9ng c\\u1ee7a h\\u00ecnh \\u1ea3nh s\\u1ea3n ph\\u1ea9m \\u0111\\u01b0\\u1ee3c t\\u1ea1o ra \\u0111\\u01b0\\u1ee3c thu \\u0111\\u01b0\\u1ee3c b\\u1eb1ng c\\u00e1ch k\\u1ebft h\\u1ee3p h\\u00ecnh \\u1ea3nh gi\\u1eefa m\\u1eb7t tr\\u01b0\\u1edbc \\u0111\\u01b0\\u1ee3c t\\u1ea1o ra v\\u00e0 h\\u00ecnh \\u1ea3nh n\\u1ec1n trung gian \\u0111\\u01b0\\u1ee3c t\\u1ea1o ra.  \\n \\u0110i\\u1ec1u ki\\u1ec7n ti\\u00ean quy\\u1ebft  V\\u1ec1 t\\u00e1c gi\\u1ea3 Fabian Benitez-Quiroz Fabian l\\u00e0 m\\u1ed9t nh\\u00e0 khoa h\\u1ecdc d\\u1eef li\\u1ec7u IoT Edge trong AWS Professional Services. \\u00d4ng c\\u00f3 b\\u1eb1ng ti\\u1ebfn s\\u0129 v\\u1ec1 th\\u1ecb gi\\u00e1c m\\u00e1y t\\u00ednh v\\u00e0 nh\\u1eadn d\\u1ea1ng m\\u1eabu t\\u1eeb \\u0110\\u1ea1i h\\u1ecdc bang Ohio. Fabian tham gia v\\u00e0o vi\\u1ec7c gi\\u00fap kh\\u00e1ch h\\u00e0ng ch\\u1ea1y m\\u00f4 h\\u00ecnh h\\u1ecdc m\\u00e1y c\\u1ee7a h\\u1ecd v\\u1edbi \\u0111\\u1ed9 tr\\u1ec5 th\\u1ea5p tr\\u00ean c\\u00e1c thi\\u1ebft b\\u1ecb IoT v\\u00e0 trong \\u0111\\u00e1m m\\u00e2y tr\\u00ean nhi\\u1ec1u ng\\u00e0nh c\\u00f4ng nghi\\u1ec7p kh\\u00e1c nhau.  Romil Shah Romil c\\u00f3 h\\u01a1n 6 n\\u0103m kinh nghi\\u1ec7m trong ng\\u00e0nh trong l\\u0129nh v\\u1ef1c th\\u1ecb gi\\u00e1c m\\u00e1y t\\u00ednh, h\\u1ecdc m\\u00e1y v\\u00e0 thi\\u1ebft b\\u1ecb c\\u1ea1nh IoT. \\u00d4ng tham gia gi\\u00fap kh\\u00e1ch h\\u00e0ng t\\u1ed1i \\u01b0u h\\u00f3a v\\u00e0 tri\\u1ec3n khai m\\u00f4 h\\u00ecnh h\\u1ecdc m\\u00e1y c\\u1ee7a h\\u1ecd cho c\\u00e1c thi\\u1ebft b\\u1ecb c\\u1ea1nh v\\u00e0 tr\\u00ean \\u0111\\u00e1m m\\u00e2y. \\u00d4ng l\\u00e0m vi\\u1ec7c v\\u1edbi kh\\u00e1ch h\\u00e0ng \\u0111\\u1ec3 t\\u1ea1o ra chi\\u1ebfn l\\u01b0\\u1ee3c \\u0111\\u1ec3 t\\u1ed1i \\u01b0u h\\u00f3a v\\u00e0 tri\\u1ec3n khai m\\u00f4 h\\u00ecnh n\\u1ec1n t\\u1ea3ng.\",\n",
      "        \"metadata\": {\n",
      "          \"source\": \"vndata/quang_cao_genai.pdf\",\n",
      "          \"page\": 2\n",
      "        }\n",
      "      }\n",
      "    },\n",
      "    {\n",
      "      \"lc\": 1,\n",
      "      \"type\": \"constructor\",\n",
      "      \"id\": [\n",
      "        \"langchain\",\n",
      "        \"schema\",\n",
      "        \"document\",\n",
      "        \"Document\"\n",
      "      ],\n",
      "      \"kwargs\": {\n",
      "        \"page_content\": \"thi\\u1ec3u. \\u0110\\u1ec3 m\\u1edf r\\u1ed9ng quy m\\u00f4 gi\\u1ea3i ph\\u00e1p \\u0111\\u01b0\\u1ee3c \\u0111\\u1ec1 xu\\u1ea5t cho s\\u1ea3n xu\\u1ea5t v\\u00e0 t\\u0103ng t\\u1ed1c \\u0111\\u1ed9 tri\\u1ec3n khai c\\u00e1c m\\u00f4 h\\u00ecnh AI trong m\\u00f4i tr\\u01b0\\u1eddng AWS, ch\\u00fang t\\u00f4i ch\\u1ee9ng minh n\\u00f3 b\\u1eb1ng c\\u00e1ch s\\u1eed d\\u1ee5ng c\\u00e1c \\u0111i\\u1ec3m cu\\u1ed1i SageMaker. \\u0110\\u1eb7c bi\\u1ec7t, ch\\u00fang t\\u00f4i \\u0111\\u1ec1 xu\\u1ea5t chia qu\\u00e1 tr\\u00ecnh s\\u01a1n th\\u00e0nh m\\u1ed9t t\\u1eadp h\\u1ee3p c\\u00e1c l\\u1edbp, m\\u1ed7i l\\u1edbp c\\u00f3 kh\\u1ea3 n\\u0103ng c\\u00f3 m\\u1ed9t t\\u1eadp h\\u1ee3p c\\u00e1c y\\u00eau c\\u1ea7u kh\\u00e1c nhau. 1. \\u0110\\u1ea7u ti\\u00ean, ch\\u00fang ta y\\u00eau c\\u1ea7u cho m\\u1ed9t c\\u1ea3nh chung (v\\u00ed d\\u1ee5, c\\u1eadu v\\u1edbi c\\u00e2y \\u1edf ph\\u00eda sau) v\\u00e0 ng\\u1eabu nhi\\u00ean \\u0111\\u1eb7t \\u0111\\u1ed1i t\\u01b0\\u1ee3ng tr\\u00ean n\\u1ec1n \\u0111\\u00f3. 2. Ti\\u1ebfp theo, ch\\u00fang t\\u00f4i th\\u00eam m\\u1ed9t l\\u1edbp \\u1edf ph\\u1ea7n trung d\\u01b0\\u1edbi c\\u1ee7a \\u0111\\u1ed1i t\\u01b0\\u1ee3ng b\\u1eb1ng c\\u00e1ch y\\u00eau c\\u1ea7u n\\u01a1i \\u0111\\u1ed1i t\\u01b0\\u1ee3ng n\\u1eb1m (v\\u00ed d\\u1ee5: picnic tr\\u00ean c\\u1ecf, ho\\u1eb7c b\\u00e0n g\\u1ed7). 3. Cu\\u1ed1i c\\u00f9ng, ch\\u00fang t\\u00f4i th\\u00eam m\\u1ed9t l\\u1edbp t\\u01b0\\u01a1ng t\\u1ef1 nh\\u01b0 l\\u1edbp n\\u1ec1n tr\\u00ean ph\\u1ea7n gi\\u1eefa tr\\u00ean c\\u1ee7a \\u0111\\u1ed1i t\\u01b0\\u1ee3ng b\\u1eb1ng c\\u00e1ch s\\u1eed d\\u1ee5ng c\\u00f9ng m\\u1ed9t prompt nh\\u01b0 n\\u1ec1n. L\\u1ee3i \\u00edch c\\u1ee7a qu\\u00e1 tr\\u00ecnh n\\u00e0y l\\u00e0 s\\u1ef1 c\\u1ea3i thi\\u1ec7n trong t\\u00ednh th\\u1ef1c t\\u1ebf c\\u1ee7a \\u0111\\u1ed1i t\\u01b0\\u1ee3ng v\\u00ec n\\u00f3 \\u0111\\u01b0\\u1ee3c nh\\u1eadn th\\u1ea5y v\\u1edbi quy m\\u00f4 v\\u00e0 v\\u1ecb tr\\u00ed t\\u1ed1t h\\u01a1n so v\\u1edbi m\\u00f4i tr\\u01b0\\u1eddng n\\u1ec1n ph\\u00f9 h\\u1ee3p v\\u1edbi k\\u1ef3 v\\u1ecdng c\\u1ee7a con ng\\u01b0\\u1eddi.  \\n H\\u00ecnh t\\u1ed5ng quan c\\u1ee7a gi\\u1ea3i ph\\u00e1p \\u0110\\u1ec3 ho\\u00e0n th\\u00e0nh c\\u00e1c nhi\\u1ec7m v\\u1ee5, l\\u01b0u l\\u01b0\\u1ee3ng d\\u1eef li\\u1ec7u sau \\u0111\\u00e2y \\u0111\\u01b0\\u1ee3c xem x\\u00e9t: 4. Segment Anything Model (SAM) v\\u00e0 Thi\\u1ebft k\\u1ebf s\\u01a1n pha tr\\u1ed9n \\u1ed5n \\u0111\\u1ecbnh c\\u00e1c m\\u00f4 h\\u00ecnh \\u0111\\u01b0\\u1ee3c l\\u01b0u tr\\u1eef trong SageMaker Endpoints. 5. M\\u1ed9t l\\u1ec7nh sau n\\u1ec1n \\u0111\\u01b0\\u1ee3c s\\u1eed d\\u1ee5ng \\u0111\\u1ec3 t\\u1ea1o m\\u1ed9t h\\u00ecnh \\u1ea3nh n\\u1ec1n \\u0111\\u01b0\\u1ee3c t\\u1ea1o b\\u1eb1ng c\\u00e1ch s\\u1eed d\\u1ee5ng m\\u00f4 h\\u00ecnh Stable Diffusion 6. M\\u1ed9t h\\u00ecnh \\u1ea3nh s\\u1ea3n ph\\u1ea9m c\\u01a1 b\\u1ea3n \\u0111\\u01b0\\u1ee3c truy\\u1ec1n qua SAM \\u0111\\u1ec3 t\\u1ea1o ra m\\u1ed9t m\\u1eb7t n\\u1ea1. 7. H\\u00ecnh \\u1ea3nh n\\u1ec1n \\u0111\\u01b0\\u1ee3c t\\u1ea1o ra, m\\u1eb7t n\\u1ea1, c\\u00f9ng v\\u1edbi c\\u00e1c l\\u1eddi nh\\u1eafc tr\\u01b0\\u1edbc v\\u00e0 l\\u1eddi nh\\u1eafc ti\\u00eau c\\u1ef1c \\u0111\\u01b0\\u1ee3c s\\u1eed d\\u1ee5ng nh\\u01b0 l\\u00e0 \\u0111\\u1ea7u v\\u00e0o m\\u00f4 h\\u00ecnh Stable Diffusion Inpainting \\u0111\\u1ec3 t\\u1ea1o ra m\\u1ed9t h\\u00ecnh \\u1ea3nh n\\u1ec1n trung gian \\u0111\\u01b0\\u1ee3c t\\u1ea1o ra.\",\n",
      "        \"metadata\": {\n",
      "          \"source\": \"vndata/quang_cao_genai.pdf\",\n",
      "          \"page\": 1\n",
      "        }\n",
      "      }\n",
      "    }\n",
      "  ]\n",
      "}\n"
     ]
    }
   ],
   "source": [
    "print(dumps(qa_with_sources(query), pretty=True)) ## NOTE: The answer is in UNICODE8, so we need to convert to Vietnamese"
   ]
  },
  {
   "cell_type": "code",
   "execution_count": 33,
   "id": "72056657-99f1-470f-bac6-17449ae5ef4d",
   "metadata": {
    "tags": []
   },
   "outputs": [],
   "source": [
    "text = b'T\\u1eeb nh\\u1eefng th\\u00f4ng tin \\u0111\\u01b0\\u1ee3c cung c\\u1ea5p, ta c\\u00f3 th\\u1ec3 r\\u00fat ra c\\u00e1c n\\u1ed9i dung ch\\u00ednh nh\\u01b0 sau:\\n\\n- B\\u00e0i vi\\u1ebft kh\\u00e1m ph\\u00e1 c\\u00e1ch c\\u00f4ng ngh\\u1ec7 AI trong vi\\u1ec7c t\\u1ea1o h\\u00ecnh \\u1ea3nh (GenAI) c\\u00f3 th\\u1ec3 \\u0111\\u01b0\\u1ee3c \\u1ee9ng d\\u1ee5ng \\u0111\\u1ec3 t\\u1ea1o ra qu\\u1ea3ng c\\u00e1o s\\u00e1ng t\\u1ea1o h\\u01a1n. \\u0110\\u1eb7c bi\\u1ec7t th\\u00f4ng qua k\\u1ef9 thu\\u1eadt v\\u1ebd/s\\u01a1n, c\\u00f3 th\\u1ec3 t\\u1ea1o ra h\\u00ecnh \\u1ea3nh li\\u1ec1n m\\u1ea1ch, h\\u1ea5p d'"
   ]
  },
  {
   "cell_type": "code",
   "execution_count": 35,
   "id": "cdfc7864-3ed8-4954-b33e-26b514d165d3",
   "metadata": {
    "tags": []
   },
   "outputs": [
    {
     "data": {
      "text/plain": [
       "'T\\\\u1eeb nh\\\\u1eefng th\\\\u00f4ng tin \\\\u0111\\\\u01b0\\\\u1ee3c cung c\\\\u1ea5p, ta c\\\\u00f3 th\\\\u1ec3 r\\\\u00fat ra c\\\\u00e1c n\\\\u1ed9i dung ch\\\\u00ednh nh\\\\u01b0 sau:\\n\\n- B\\\\u00e0i vi\\\\u1ebft kh\\\\u00e1m ph\\\\u00e1 c\\\\u00e1ch c\\\\u00f4ng ngh\\\\u1ec7 AI trong vi\\\\u1ec7c t\\\\u1ea1o h\\\\u00ecnh \\\\u1ea3nh (GenAI) c\\\\u00f3 th\\\\u1ec3 \\\\u0111\\\\u01b0\\\\u1ee3c \\\\u1ee9ng d\\\\u1ee5ng \\\\u0111\\\\u1ec3 t\\\\u1ea1o ra qu\\\\u1ea3ng c\\\\u00e1o s\\\\u00e1ng t\\\\u1ea1o h\\\\u01a1n. \\\\u0110\\\\u1eb7c bi\\\\u1ec7t th\\\\u00f4ng qua k\\\\u1ef9 thu\\\\u1eadt v\\\\u1ebd/s\\\\u01a1n, c\\\\u00f3 th\\\\u1ec3 t\\\\u1ea1o ra h\\\\u00ecnh \\\\u1ea3nh li\\\\u1ec1n m\\\\u1ea1ch, h\\\\u1ea5p d'"
      ]
     },
     "execution_count": 35,
     "metadata": {},
     "output_type": "execute_result"
    }
   ],
   "source": [
    "utf8_text = b'T\\u1eeb nh\\u1eefng th\\u00f4ng tin \\u0111\\u01b0\\u1ee3c cung c\\u1ea5p, ta c\\u00f3 th\\u1ec3 r\\u00fat ra c\\u00e1c n\\u1ed9i dung ch\\u00ednh nh\\u01b0 sau:\\n\\n- B\\u00e0i vi\\u1ebft kh\\u00e1m ph\\u00e1 c\\u00e1ch c\\u00f4ng ngh\\u1ec7 AI trong vi\\u1ec7c t\\u1ea1o h\\u00ecnh \\u1ea3nh (GenAI) c\\u00f3 th\\u1ec3 \\u0111\\u01b0\\u1ee3c \\u1ee9ng d\\u1ee5ng \\u0111\\u1ec3 t\\u1ea1o ra qu\\u1ea3ng c\\u00e1o s\\u00e1ng t\\u1ea1o h\\u01a1n. \\u0110\\u1eb7c bi\\u1ec7t th\\u00f4ng qua k\\u1ef9 thu\\u1eadt v\\u1ebd/s\\u01a1n, c\\u00f3 th\\u1ec3 t\\u1ea1o ra h\\u00ecnh \\u1ea3nh li\\u1ec1n m\\u1ea1ch, h\\u1ea5p d'\n",
    "\n",
    "# Decode UTF-8 bytes to Unicode\n",
    "unicode_text = utf8_text.decode('utf-8') \n",
    "unicode_text"
   ]
  },
  {
   "cell_type": "code",
   "execution_count": 36,
   "id": "3d65c157-9ac9-40b5-9919-d182db7c132f",
   "metadata": {
    "tags": []
   },
   "outputs": [
    {
     "name": "stdout",
     "output_type": "stream",
     "text": [
      "T\\u1eeb nh\\u1eefng th\\u00f4ng tin \\u0111\\u01b0\\u1ee3c cung c\\u1ea5p, ta c\\u00f3 th\\u1ec3 r\\u00fat ra c\\u00e1c n\\u1ed9i dung ch\\u00ednh nh\\u01b0 sau:\\n\\n- B\\u00e0i vi\\u1ebft kh\\u00e1m ph\\u00e1 c\\u00e1ch c\\u00f4ng ngh\\u1ec7 AI trong vi\\u1ec7c t\\u1ea1o h\\u00ecnh \\u1ea3nh (GenAI) c\\u00f3 th\\u1ec3 \\u0111\\u01b0\\u1ee3c \\u1ee9ng d\\u1ee5ng \\u0111\\u1ec3 t\\u1ea1o ra qu\\u1ea3ng c\\u00e1o s\\u00e1ng t\\u1ea1o h\\u01a1n. \\u0110\\u1eb7c bi\\u1ec7t th\\u00f4ng qua k\\u1ef9 thu\\u1eadt v\\u1ebd/s\\u01a1n, c\\u00f3 th\\u1ec3 t\\u1ea1o ra h\\u00ecnh \\u1ea3nh li\\u1ec1n m\\u1ea1ch, h\\u1ea5p d\n"
     ]
    }
   ],
   "source": [
    "import unicodedata\n",
    "\n",
    "text = r\"T\\u1eeb nh\\u1eefng th\\u00f4ng tin \\u0111\\u01b0\\u1ee3c cung c\\u1ea5p, ta c\\u00f3 th\\u1ec3 r\\u00fat ra c\\u00e1c n\\u1ed9i dung ch\\u00ednh nh\\u01b0 sau:\\n\\n- B\\u00e0i vi\\u1ebft kh\\u00e1m ph\\u00e1 c\\u00e1ch c\\u00f4ng ngh\\u1ec7 AI trong vi\\u1ec7c t\\u1ea1o h\\u00ecnh \\u1ea3nh (GenAI) c\\u00f3 th\\u1ec3 \\u0111\\u01b0\\u1ee3c \\u1ee9ng d\\u1ee5ng \\u0111\\u1ec3 t\\u1ea1o ra qu\\u1ea3ng c\\u00e1o s\\u00e1ng t\\u1ea1o h\\u01a1n. \\u0110\\u1eb7c bi\\u1ec7t th\\u00f4ng qua k\\u1ef9 thu\\u1eadt v\\u1ebd/s\\u01a1n, c\\u00f3 th\\u1ec3 t\\u1ea1o ra h\\u00ecnh \\u1ea3nh li\\u1ec1n m\\u1ea1ch, h\\u1ea5p d\"\n",
    "\n",
    "# Normalize Unicode  \n",
    "normalized_text = unicodedata.normalize('NFC', text)\n",
    "\n",
    "# Encode as Vietnamese UTF-8\n",
    "vietnamese_text = normalized_text.encode('utf-8')\n",
    "\n",
    "print(vietnamese_text.decode('utf-8'))"
   ]
  },
  {
   "cell_type": "code",
   "execution_count": null,
   "id": "431ebe30-46b4-4e95-a2bf-0337625df5ce",
   "metadata": {},
   "outputs": [],
   "source": []
  }
 ],
 "metadata": {
  "availableInstances": [
   {
    "_defaultOrder": 0,
    "_isFastLaunch": true,
    "category": "General purpose",
    "gpuNum": 0,
    "hideHardwareSpecs": false,
    "memoryGiB": 4,
    "name": "ml.t3.medium",
    "vcpuNum": 2
   },
   {
    "_defaultOrder": 1,
    "_isFastLaunch": false,
    "category": "General purpose",
    "gpuNum": 0,
    "hideHardwareSpecs": false,
    "memoryGiB": 8,
    "name": "ml.t3.large",
    "vcpuNum": 2
   },
   {
    "_defaultOrder": 2,
    "_isFastLaunch": false,
    "category": "General purpose",
    "gpuNum": 0,
    "hideHardwareSpecs": false,
    "memoryGiB": 16,
    "name": "ml.t3.xlarge",
    "vcpuNum": 4
   },
   {
    "_defaultOrder": 3,
    "_isFastLaunch": false,
    "category": "General purpose",
    "gpuNum": 0,
    "hideHardwareSpecs": false,
    "memoryGiB": 32,
    "name": "ml.t3.2xlarge",
    "vcpuNum": 8
   },
   {
    "_defaultOrder": 4,
    "_isFastLaunch": true,
    "category": "General purpose",
    "gpuNum": 0,
    "hideHardwareSpecs": false,
    "memoryGiB": 8,
    "name": "ml.m5.large",
    "vcpuNum": 2
   },
   {
    "_defaultOrder": 5,
    "_isFastLaunch": false,
    "category": "General purpose",
    "gpuNum": 0,
    "hideHardwareSpecs": false,
    "memoryGiB": 16,
    "name": "ml.m5.xlarge",
    "vcpuNum": 4
   },
   {
    "_defaultOrder": 6,
    "_isFastLaunch": false,
    "category": "General purpose",
    "gpuNum": 0,
    "hideHardwareSpecs": false,
    "memoryGiB": 32,
    "name": "ml.m5.2xlarge",
    "vcpuNum": 8
   },
   {
    "_defaultOrder": 7,
    "_isFastLaunch": false,
    "category": "General purpose",
    "gpuNum": 0,
    "hideHardwareSpecs": false,
    "memoryGiB": 64,
    "name": "ml.m5.4xlarge",
    "vcpuNum": 16
   },
   {
    "_defaultOrder": 8,
    "_isFastLaunch": false,
    "category": "General purpose",
    "gpuNum": 0,
    "hideHardwareSpecs": false,
    "memoryGiB": 128,
    "name": "ml.m5.8xlarge",
    "vcpuNum": 32
   },
   {
    "_defaultOrder": 9,
    "_isFastLaunch": false,
    "category": "General purpose",
    "gpuNum": 0,
    "hideHardwareSpecs": false,
    "memoryGiB": 192,
    "name": "ml.m5.12xlarge",
    "vcpuNum": 48
   },
   {
    "_defaultOrder": 10,
    "_isFastLaunch": false,
    "category": "General purpose",
    "gpuNum": 0,
    "hideHardwareSpecs": false,
    "memoryGiB": 256,
    "name": "ml.m5.16xlarge",
    "vcpuNum": 64
   },
   {
    "_defaultOrder": 11,
    "_isFastLaunch": false,
    "category": "General purpose",
    "gpuNum": 0,
    "hideHardwareSpecs": false,
    "memoryGiB": 384,
    "name": "ml.m5.24xlarge",
    "vcpuNum": 96
   },
   {
    "_defaultOrder": 12,
    "_isFastLaunch": false,
    "category": "General purpose",
    "gpuNum": 0,
    "hideHardwareSpecs": false,
    "memoryGiB": 8,
    "name": "ml.m5d.large",
    "vcpuNum": 2
   },
   {
    "_defaultOrder": 13,
    "_isFastLaunch": false,
    "category": "General purpose",
    "gpuNum": 0,
    "hideHardwareSpecs": false,
    "memoryGiB": 16,
    "name": "ml.m5d.xlarge",
    "vcpuNum": 4
   },
   {
    "_defaultOrder": 14,
    "_isFastLaunch": false,
    "category": "General purpose",
    "gpuNum": 0,
    "hideHardwareSpecs": false,
    "memoryGiB": 32,
    "name": "ml.m5d.2xlarge",
    "vcpuNum": 8
   },
   {
    "_defaultOrder": 15,
    "_isFastLaunch": false,
    "category": "General purpose",
    "gpuNum": 0,
    "hideHardwareSpecs": false,
    "memoryGiB": 64,
    "name": "ml.m5d.4xlarge",
    "vcpuNum": 16
   },
   {
    "_defaultOrder": 16,
    "_isFastLaunch": false,
    "category": "General purpose",
    "gpuNum": 0,
    "hideHardwareSpecs": false,
    "memoryGiB": 128,
    "name": "ml.m5d.8xlarge",
    "vcpuNum": 32
   },
   {
    "_defaultOrder": 17,
    "_isFastLaunch": false,
    "category": "General purpose",
    "gpuNum": 0,
    "hideHardwareSpecs": false,
    "memoryGiB": 192,
    "name": "ml.m5d.12xlarge",
    "vcpuNum": 48
   },
   {
    "_defaultOrder": 18,
    "_isFastLaunch": false,
    "category": "General purpose",
    "gpuNum": 0,
    "hideHardwareSpecs": false,
    "memoryGiB": 256,
    "name": "ml.m5d.16xlarge",
    "vcpuNum": 64
   },
   {
    "_defaultOrder": 19,
    "_isFastLaunch": false,
    "category": "General purpose",
    "gpuNum": 0,
    "hideHardwareSpecs": false,
    "memoryGiB": 384,
    "name": "ml.m5d.24xlarge",
    "vcpuNum": 96
   },
   {
    "_defaultOrder": 20,
    "_isFastLaunch": false,
    "category": "General purpose",
    "gpuNum": 0,
    "hideHardwareSpecs": true,
    "memoryGiB": 0,
    "name": "ml.geospatial.interactive",
    "supportedImageNames": [
     "sagemaker-geospatial-v1-0"
    ],
    "vcpuNum": 0
   },
   {
    "_defaultOrder": 21,
    "_isFastLaunch": true,
    "category": "Compute optimized",
    "gpuNum": 0,
    "hideHardwareSpecs": false,
    "memoryGiB": 4,
    "name": "ml.c5.large",
    "vcpuNum": 2
   },
   {
    "_defaultOrder": 22,
    "_isFastLaunch": false,
    "category": "Compute optimized",
    "gpuNum": 0,
    "hideHardwareSpecs": false,
    "memoryGiB": 8,
    "name": "ml.c5.xlarge",
    "vcpuNum": 4
   },
   {
    "_defaultOrder": 23,
    "_isFastLaunch": false,
    "category": "Compute optimized",
    "gpuNum": 0,
    "hideHardwareSpecs": false,
    "memoryGiB": 16,
    "name": "ml.c5.2xlarge",
    "vcpuNum": 8
   },
   {
    "_defaultOrder": 24,
    "_isFastLaunch": false,
    "category": "Compute optimized",
    "gpuNum": 0,
    "hideHardwareSpecs": false,
    "memoryGiB": 32,
    "name": "ml.c5.4xlarge",
    "vcpuNum": 16
   },
   {
    "_defaultOrder": 25,
    "_isFastLaunch": false,
    "category": "Compute optimized",
    "gpuNum": 0,
    "hideHardwareSpecs": false,
    "memoryGiB": 72,
    "name": "ml.c5.9xlarge",
    "vcpuNum": 36
   },
   {
    "_defaultOrder": 26,
    "_isFastLaunch": false,
    "category": "Compute optimized",
    "gpuNum": 0,
    "hideHardwareSpecs": false,
    "memoryGiB": 96,
    "name": "ml.c5.12xlarge",
    "vcpuNum": 48
   },
   {
    "_defaultOrder": 27,
    "_isFastLaunch": false,
    "category": "Compute optimized",
    "gpuNum": 0,
    "hideHardwareSpecs": false,
    "memoryGiB": 144,
    "name": "ml.c5.18xlarge",
    "vcpuNum": 72
   },
   {
    "_defaultOrder": 28,
    "_isFastLaunch": false,
    "category": "Compute optimized",
    "gpuNum": 0,
    "hideHardwareSpecs": false,
    "memoryGiB": 192,
    "name": "ml.c5.24xlarge",
    "vcpuNum": 96
   },
   {
    "_defaultOrder": 29,
    "_isFastLaunch": true,
    "category": "Accelerated computing",
    "gpuNum": 1,
    "hideHardwareSpecs": false,
    "memoryGiB": 16,
    "name": "ml.g4dn.xlarge",
    "vcpuNum": 4
   },
   {
    "_defaultOrder": 30,
    "_isFastLaunch": false,
    "category": "Accelerated computing",
    "gpuNum": 1,
    "hideHardwareSpecs": false,
    "memoryGiB": 32,
    "name": "ml.g4dn.2xlarge",
    "vcpuNum": 8
   },
   {
    "_defaultOrder": 31,
    "_isFastLaunch": false,
    "category": "Accelerated computing",
    "gpuNum": 1,
    "hideHardwareSpecs": false,
    "memoryGiB": 64,
    "name": "ml.g4dn.4xlarge",
    "vcpuNum": 16
   },
   {
    "_defaultOrder": 32,
    "_isFastLaunch": false,
    "category": "Accelerated computing",
    "gpuNum": 1,
    "hideHardwareSpecs": false,
    "memoryGiB": 128,
    "name": "ml.g4dn.8xlarge",
    "vcpuNum": 32
   },
   {
    "_defaultOrder": 33,
    "_isFastLaunch": false,
    "category": "Accelerated computing",
    "gpuNum": 4,
    "hideHardwareSpecs": false,
    "memoryGiB": 192,
    "name": "ml.g4dn.12xlarge",
    "vcpuNum": 48
   },
   {
    "_defaultOrder": 34,
    "_isFastLaunch": false,
    "category": "Accelerated computing",
    "gpuNum": 1,
    "hideHardwareSpecs": false,
    "memoryGiB": 256,
    "name": "ml.g4dn.16xlarge",
    "vcpuNum": 64
   },
   {
    "_defaultOrder": 35,
    "_isFastLaunch": false,
    "category": "Accelerated computing",
    "gpuNum": 1,
    "hideHardwareSpecs": false,
    "memoryGiB": 61,
    "name": "ml.p3.2xlarge",
    "vcpuNum": 8
   },
   {
    "_defaultOrder": 36,
    "_isFastLaunch": false,
    "category": "Accelerated computing",
    "gpuNum": 4,
    "hideHardwareSpecs": false,
    "memoryGiB": 244,
    "name": "ml.p3.8xlarge",
    "vcpuNum": 32
   },
   {
    "_defaultOrder": 37,
    "_isFastLaunch": false,
    "category": "Accelerated computing",
    "gpuNum": 8,
    "hideHardwareSpecs": false,
    "memoryGiB": 488,
    "name": "ml.p3.16xlarge",
    "vcpuNum": 64
   },
   {
    "_defaultOrder": 38,
    "_isFastLaunch": false,
    "category": "Accelerated computing",
    "gpuNum": 8,
    "hideHardwareSpecs": false,
    "memoryGiB": 768,
    "name": "ml.p3dn.24xlarge",
    "vcpuNum": 96
   },
   {
    "_defaultOrder": 39,
    "_isFastLaunch": false,
    "category": "Memory Optimized",
    "gpuNum": 0,
    "hideHardwareSpecs": false,
    "memoryGiB": 16,
    "name": "ml.r5.large",
    "vcpuNum": 2
   },
   {
    "_defaultOrder": 40,
    "_isFastLaunch": false,
    "category": "Memory Optimized",
    "gpuNum": 0,
    "hideHardwareSpecs": false,
    "memoryGiB": 32,
    "name": "ml.r5.xlarge",
    "vcpuNum": 4
   },
   {
    "_defaultOrder": 41,
    "_isFastLaunch": false,
    "category": "Memory Optimized",
    "gpuNum": 0,
    "hideHardwareSpecs": false,
    "memoryGiB": 64,
    "name": "ml.r5.2xlarge",
    "vcpuNum": 8
   },
   {
    "_defaultOrder": 42,
    "_isFastLaunch": false,
    "category": "Memory Optimized",
    "gpuNum": 0,
    "hideHardwareSpecs": false,
    "memoryGiB": 128,
    "name": "ml.r5.4xlarge",
    "vcpuNum": 16
   },
   {
    "_defaultOrder": 43,
    "_isFastLaunch": false,
    "category": "Memory Optimized",
    "gpuNum": 0,
    "hideHardwareSpecs": false,
    "memoryGiB": 256,
    "name": "ml.r5.8xlarge",
    "vcpuNum": 32
   },
   {
    "_defaultOrder": 44,
    "_isFastLaunch": false,
    "category": "Memory Optimized",
    "gpuNum": 0,
    "hideHardwareSpecs": false,
    "memoryGiB": 384,
    "name": "ml.r5.12xlarge",
    "vcpuNum": 48
   },
   {
    "_defaultOrder": 45,
    "_isFastLaunch": false,
    "category": "Memory Optimized",
    "gpuNum": 0,
    "hideHardwareSpecs": false,
    "memoryGiB": 512,
    "name": "ml.r5.16xlarge",
    "vcpuNum": 64
   },
   {
    "_defaultOrder": 46,
    "_isFastLaunch": false,
    "category": "Memory Optimized",
    "gpuNum": 0,
    "hideHardwareSpecs": false,
    "memoryGiB": 768,
    "name": "ml.r5.24xlarge",
    "vcpuNum": 96
   },
   {
    "_defaultOrder": 47,
    "_isFastLaunch": false,
    "category": "Accelerated computing",
    "gpuNum": 1,
    "hideHardwareSpecs": false,
    "memoryGiB": 16,
    "name": "ml.g5.xlarge",
    "vcpuNum": 4
   },
   {
    "_defaultOrder": 48,
    "_isFastLaunch": false,
    "category": "Accelerated computing",
    "gpuNum": 1,
    "hideHardwareSpecs": false,
    "memoryGiB": 32,
    "name": "ml.g5.2xlarge",
    "vcpuNum": 8
   },
   {
    "_defaultOrder": 49,
    "_isFastLaunch": false,
    "category": "Accelerated computing",
    "gpuNum": 1,
    "hideHardwareSpecs": false,
    "memoryGiB": 64,
    "name": "ml.g5.4xlarge",
    "vcpuNum": 16
   },
   {
    "_defaultOrder": 50,
    "_isFastLaunch": false,
    "category": "Accelerated computing",
    "gpuNum": 1,
    "hideHardwareSpecs": false,
    "memoryGiB": 128,
    "name": "ml.g5.8xlarge",
    "vcpuNum": 32
   },
   {
    "_defaultOrder": 51,
    "_isFastLaunch": false,
    "category": "Accelerated computing",
    "gpuNum": 1,
    "hideHardwareSpecs": false,
    "memoryGiB": 256,
    "name": "ml.g5.16xlarge",
    "vcpuNum": 64
   },
   {
    "_defaultOrder": 52,
    "_isFastLaunch": false,
    "category": "Accelerated computing",
    "gpuNum": 4,
    "hideHardwareSpecs": false,
    "memoryGiB": 192,
    "name": "ml.g5.12xlarge",
    "vcpuNum": 48
   },
   {
    "_defaultOrder": 53,
    "_isFastLaunch": false,
    "category": "Accelerated computing",
    "gpuNum": 4,
    "hideHardwareSpecs": false,
    "memoryGiB": 384,
    "name": "ml.g5.24xlarge",
    "vcpuNum": 96
   },
   {
    "_defaultOrder": 54,
    "_isFastLaunch": false,
    "category": "Accelerated computing",
    "gpuNum": 8,
    "hideHardwareSpecs": false,
    "memoryGiB": 768,
    "name": "ml.g5.48xlarge",
    "vcpuNum": 192
   },
   {
    "_defaultOrder": 55,
    "_isFastLaunch": false,
    "category": "Accelerated computing",
    "gpuNum": 8,
    "hideHardwareSpecs": false,
    "memoryGiB": 1152,
    "name": "ml.p4d.24xlarge",
    "vcpuNum": 96
   },
   {
    "_defaultOrder": 56,
    "_isFastLaunch": false,
    "category": "Accelerated computing",
    "gpuNum": 8,
    "hideHardwareSpecs": false,
    "memoryGiB": 1152,
    "name": "ml.p4de.24xlarge",
    "vcpuNum": 96
   }
  ],
  "instance_type": "ml.t3.medium",
  "kernelspec": {
   "display_name": "Python 3 (Data Science 3.0)",
   "language": "python",
   "name": "python3__SAGEMAKER_INTERNAL__arn:aws:sagemaker:us-east-1:081325390199:image/sagemaker-data-science-310-v1"
  },
  "language_info": {
   "codemirror_mode": {
    "name": "ipython",
    "version": 3
   },
   "file_extension": ".py",
   "mimetype": "text/x-python",
   "name": "python",
   "nbconvert_exporter": "python",
   "pygments_lexer": "ipython3",
   "version": "3.10.6"
  }
 },
 "nbformat": 4,
 "nbformat_minor": 5
}
